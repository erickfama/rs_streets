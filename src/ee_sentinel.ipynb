{
 "cells": [
  {
   "cell_type": "code",
   "execution_count": 1,
   "metadata": {},
   "outputs": [],
   "source": [
    "# Librerias\n",
    "\n",
    "# Manipulacion \n",
    "import pandas as pd \n",
    "import geopandas as gpd\n",
    "\n",
    "# Earth engine (descarga de imagenes)\n",
    "import ee \n",
    "\n",
    "# Mapas interactivos\n",
    "import folium\n",
    "\n",
    "# Plot\n",
    "from IPython.display import Image"
   ]
  },
  {
   "cell_type": "code",
   "execution_count": 4,
   "metadata": {},
   "outputs": [
    {
     "data": {
      "text/html": [
       "<p>To authorize access needed by Earth Engine, open the following\n",
       "        URL in a web browser and follow the instructions:</p>\n",
       "        <p><a href=https://code.earthengine.google.com/client-auth?scopes=https%3A//www.googleapis.com/auth/earthengine%20https%3A//www.googleapis.com/auth/devstorage.full_control&request_id=w2K960enJgpuY5XFcNZW_2tCb7f_OZVD4hoJtOhapsY&tc=QRLyVhy27hgnHlLI_rgXp6A9pKkUwvIRdt7YtZ4b4C0&cc=CsQPjpZdjk79C0UusVlqM6p3G_YLw1WWs4dTBQmd6Dk>https://code.earthengine.google.com/client-auth?scopes=https%3A//www.googleapis.com/auth/earthengine%20https%3A//www.googleapis.com/auth/devstorage.full_control&request_id=w2K960enJgpuY5XFcNZW_2tCb7f_OZVD4hoJtOhapsY&tc=QRLyVhy27hgnHlLI_rgXp6A9pKkUwvIRdt7YtZ4b4C0&cc=CsQPjpZdjk79C0UusVlqM6p3G_YLw1WWs4dTBQmd6Dk</a></p>\n",
       "        <p>The authorization workflow will generate a code, which you should paste in the box below.</p>\n",
       "        "
      ],
      "text/plain": [
       "<IPython.core.display.HTML object>"
      ]
     },
     "metadata": {},
     "output_type": "display_data"
    },
    {
     "name": "stdout",
     "output_type": "stream",
     "text": [
      "\n",
      "Successfully saved authorization token.\n"
     ]
    }
   ],
   "source": [
    "# Autentificar Earth engine\n",
    "# ee.Authenticate() # Esto solo debe ser ejecutado la primera vez y cada vez que el token expira\n",
    "\n",
    "ee.Initialize()"
   ]
  },
  {
   "cell_type": "code",
   "execution_count": 5,
   "metadata": {},
   "outputs": [],
   "source": [
    "# Definir area de estudio\n",
    "\n",
    "# Coordenadas\n",
    "lat = 21.8833333\n",
    "lon = -102.3\n",
    "\n",
    "# Punto de interes\n",
    "poi = ee.Geometry.Point(lon, lat)\n",
    "\n",
    "# Periodo de tiempo\n",
    "start_date = \"2021-11-01\"\n",
    "end_date = \"2022-11-15\""
   ]
  },
  {
   "cell_type": "code",
   "execution_count": 14,
   "metadata": {},
   "outputs": [
    {
     "name": "stdout",
     "output_type": "stream",
     "text": [
      "Imagenes totales: 147\n"
     ]
    }
   ],
   "source": [
    "# Descarga de imagenes Landsat 9\n",
    "sentinel = ee.ImageCollection(\"COPERNICUS/S2_SR_HARMONIZED\")\\\n",
    "    .filterBounds(poi)\\\n",
    "    .filterDate(start_date, end_date)\n",
    "\n",
    "# Cantidad de imagenes obtenidas\n",
    "print(\"Imagenes totales:\", sentinel.size().getInfo())"
   ]
  },
  {
   "cell_type": "code",
   "execution_count": 15,
   "metadata": {},
   "outputs": [
    {
     "data": {
      "text/plain": [
       "{'type': 'Image',\n",
       " 'bands': [{'id': 'B1',\n",
       "   'data_type': {'type': 'PixelType',\n",
       "    'precision': 'int',\n",
       "    'min': 0,\n",
       "    'max': 65535},\n",
       "   'dimensions': [1830, 1830],\n",
       "   'crs': 'EPSG:32613',\n",
       "   'crs_transform': [60, 0, 699960, 0, -60, 2500020]},\n",
       "  {'id': 'B2',\n",
       "   'data_type': {'type': 'PixelType',\n",
       "    'precision': 'int',\n",
       "    'min': 0,\n",
       "    'max': 65535},\n",
       "   'dimensions': [10980, 10980],\n",
       "   'crs': 'EPSG:32613',\n",
       "   'crs_transform': [10, 0, 699960, 0, -10, 2500020]},\n",
       "  {'id': 'B3',\n",
       "   'data_type': {'type': 'PixelType',\n",
       "    'precision': 'int',\n",
       "    'min': 0,\n",
       "    'max': 65535},\n",
       "   'dimensions': [10980, 10980],\n",
       "   'crs': 'EPSG:32613',\n",
       "   'crs_transform': [10, 0, 699960, 0, -10, 2500020]},\n",
       "  {'id': 'B4',\n",
       "   'data_type': {'type': 'PixelType',\n",
       "    'precision': 'int',\n",
       "    'min': 0,\n",
       "    'max': 65535},\n",
       "   'dimensions': [10980, 10980],\n",
       "   'crs': 'EPSG:32613',\n",
       "   'crs_transform': [10, 0, 699960, 0, -10, 2500020]},\n",
       "  {'id': 'B5',\n",
       "   'data_type': {'type': 'PixelType',\n",
       "    'precision': 'int',\n",
       "    'min': 0,\n",
       "    'max': 65535},\n",
       "   'dimensions': [5490, 5490],\n",
       "   'crs': 'EPSG:32613',\n",
       "   'crs_transform': [20, 0, 699960, 0, -20, 2500020]},\n",
       "  {'id': 'B6',\n",
       "   'data_type': {'type': 'PixelType',\n",
       "    'precision': 'int',\n",
       "    'min': 0,\n",
       "    'max': 65535},\n",
       "   'dimensions': [5490, 5490],\n",
       "   'crs': 'EPSG:32613',\n",
       "   'crs_transform': [20, 0, 699960, 0, -20, 2500020]},\n",
       "  {'id': 'B7',\n",
       "   'data_type': {'type': 'PixelType',\n",
       "    'precision': 'int',\n",
       "    'min': 0,\n",
       "    'max': 65535},\n",
       "   'dimensions': [5490, 5490],\n",
       "   'crs': 'EPSG:32613',\n",
       "   'crs_transform': [20, 0, 699960, 0, -20, 2500020]},\n",
       "  {'id': 'B8',\n",
       "   'data_type': {'type': 'PixelType',\n",
       "    'precision': 'int',\n",
       "    'min': 0,\n",
       "    'max': 65535},\n",
       "   'dimensions': [10980, 10980],\n",
       "   'crs': 'EPSG:32613',\n",
       "   'crs_transform': [10, 0, 699960, 0, -10, 2500020]},\n",
       "  {'id': 'B8A',\n",
       "   'data_type': {'type': 'PixelType',\n",
       "    'precision': 'int',\n",
       "    'min': 0,\n",
       "    'max': 65535},\n",
       "   'dimensions': [5490, 5490],\n",
       "   'crs': 'EPSG:32613',\n",
       "   'crs_transform': [20, 0, 699960, 0, -20, 2500020]},\n",
       "  {'id': 'B9',\n",
       "   'data_type': {'type': 'PixelType',\n",
       "    'precision': 'int',\n",
       "    'min': 0,\n",
       "    'max': 65535},\n",
       "   'dimensions': [1830, 1830],\n",
       "   'crs': 'EPSG:32613',\n",
       "   'crs_transform': [60, 0, 699960, 0, -60, 2500020]},\n",
       "  {'id': 'B11',\n",
       "   'data_type': {'type': 'PixelType',\n",
       "    'precision': 'int',\n",
       "    'min': 0,\n",
       "    'max': 65535},\n",
       "   'dimensions': [5490, 5490],\n",
       "   'crs': 'EPSG:32613',\n",
       "   'crs_transform': [20, 0, 699960, 0, -20, 2500020]},\n",
       "  {'id': 'B12',\n",
       "   'data_type': {'type': 'PixelType',\n",
       "    'precision': 'int',\n",
       "    'min': 0,\n",
       "    'max': 65535},\n",
       "   'dimensions': [5490, 5490],\n",
       "   'crs': 'EPSG:32613',\n",
       "   'crs_transform': [20, 0, 699960, 0, -20, 2500020]},\n",
       "  {'id': 'AOT',\n",
       "   'data_type': {'type': 'PixelType',\n",
       "    'precision': 'int',\n",
       "    'min': 0,\n",
       "    'max': 65535},\n",
       "   'dimensions': [10980, 10980],\n",
       "   'crs': 'EPSG:32613',\n",
       "   'crs_transform': [10, 0, 699960, 0, -10, 2500020]},\n",
       "  {'id': 'WVP',\n",
       "   'data_type': {'type': 'PixelType',\n",
       "    'precision': 'int',\n",
       "    'min': 0,\n",
       "    'max': 65535},\n",
       "   'dimensions': [10980, 10980],\n",
       "   'crs': 'EPSG:32613',\n",
       "   'crs_transform': [10, 0, 699960, 0, -10, 2500020]},\n",
       "  {'id': 'SCL',\n",
       "   'data_type': {'type': 'PixelType',\n",
       "    'precision': 'int',\n",
       "    'min': 0,\n",
       "    'max': 255},\n",
       "   'dimensions': [5490, 5490],\n",
       "   'crs': 'EPSG:32613',\n",
       "   'crs_transform': [20, 0, 699960, 0, -20, 2500020]},\n",
       "  {'id': 'TCI_R',\n",
       "   'data_type': {'type': 'PixelType',\n",
       "    'precision': 'int',\n",
       "    'min': 0,\n",
       "    'max': 255},\n",
       "   'dimensions': [10980, 10980],\n",
       "   'crs': 'EPSG:32613',\n",
       "   'crs_transform': [10, 0, 699960, 0, -10, 2500020]},\n",
       "  {'id': 'TCI_G',\n",
       "   'data_type': {'type': 'PixelType',\n",
       "    'precision': 'int',\n",
       "    'min': 0,\n",
       "    'max': 255},\n",
       "   'dimensions': [10980, 10980],\n",
       "   'crs': 'EPSG:32613',\n",
       "   'crs_transform': [10, 0, 699960, 0, -10, 2500020]},\n",
       "  {'id': 'TCI_B',\n",
       "   'data_type': {'type': 'PixelType',\n",
       "    'precision': 'int',\n",
       "    'min': 0,\n",
       "    'max': 255},\n",
       "   'dimensions': [10980, 10980],\n",
       "   'crs': 'EPSG:32613',\n",
       "   'crs_transform': [10, 0, 699960, 0, -10, 2500020]},\n",
       "  {'id': 'MSK_CLDPRB',\n",
       "   'data_type': {'type': 'PixelType',\n",
       "    'precision': 'int',\n",
       "    'min': 0,\n",
       "    'max': 255},\n",
       "   'dimensions': [5490, 5490],\n",
       "   'crs': 'EPSG:32613',\n",
       "   'crs_transform': [20, 0, 699960, 0, -20, 2500020]},\n",
       "  {'id': 'MSK_SNWPRB',\n",
       "   'data_type': {'type': 'PixelType',\n",
       "    'precision': 'int',\n",
       "    'min': 0,\n",
       "    'max': 255},\n",
       "   'dimensions': [5490, 5490],\n",
       "   'crs': 'EPSG:32613',\n",
       "   'crs_transform': [20, 0, 699960, 0, -20, 2500020]},\n",
       "  {'id': 'QA10',\n",
       "   'data_type': {'type': 'PixelType',\n",
       "    'precision': 'int',\n",
       "    'min': 0,\n",
       "    'max': 65535},\n",
       "   'dimensions': [10980, 10980],\n",
       "   'crs': 'EPSG:32613',\n",
       "   'crs_transform': [10, 0, 699960, 0, -10, 2500020]},\n",
       "  {'id': 'QA20',\n",
       "   'data_type': {'type': 'PixelType',\n",
       "    'precision': 'int',\n",
       "    'min': 0,\n",
       "    'max': 4294967295},\n",
       "   'dimensions': [5490, 5490],\n",
       "   'crs': 'EPSG:32613',\n",
       "   'crs_transform': [20, 0, 699960, 0, -20, 2500020]},\n",
       "  {'id': 'QA60',\n",
       "   'data_type': {'type': 'PixelType',\n",
       "    'precision': 'int',\n",
       "    'min': 0,\n",
       "    'max': 65535},\n",
       "   'dimensions': [1830, 1830],\n",
       "   'crs': 'EPSG:32613',\n",
       "   'crs_transform': [60, 0, 699960, 0, -60, 2500020]}],\n",
       " 'version': 1670004974297604,\n",
       " 'id': 'COPERNICUS/S2_SR_HARMONIZED/20211103T172509_20211103T173043_T13QGE',\n",
       " 'properties': {'DATATAKE_IDENTIFIER': 'GS2B_20211103T172509_024348_N03.01',\n",
       "  'AOT_RETRIEVAL_ACCURACY': 0,\n",
       "  'SPACECRAFT_NAME': 'Sentinel-2B',\n",
       "  'SATURATED_DEFECTIVE_PIXEL_PERCENTAGE': 0,\n",
       "  'MEAN_INCIDENCE_AZIMUTH_ANGLE_B8A': 283.427712706288,\n",
       "  'CLOUD_SHADOW_PERCENTAGE': 0.086622,\n",
       "  'MEAN_SOLAR_AZIMUTH_ANGLE': 158.685390267614,\n",
       "  'system:footprint': {'type': 'LinearRing',\n",
       "   'coordinates': [[-101.98782910435237, 22.57886574624087],\n",
       "    [-101.98784513134972, 22.578868835914626],\n",
       "    [-103.0548349217569, 22.595342832413465],\n",
       "    [-103.05488037586338, 22.595306790148975],\n",
       "    [-103.05493339102244, 22.59527440929476],\n",
       "    [-103.06180111445191, 22.099653881406834],\n",
       "    [-103.06847701077956, 21.60402173638571],\n",
       "    [-103.06843823420706, 21.603979832688335],\n",
       "    [-103.06840341443812, 21.60393083110354],\n",
       "    [-102.13712072245947, 21.59050965629982],\n",
       "    [-102.12900664530054, 21.59073100201816],\n",
       "    [-102.12897123529804, 21.590761796229888],\n",
       "    [-102.12892535930202, 21.590776535276646],\n",
       "    [-102.12891611433176, 21.59079735109472],\n",
       "    [-102.06359869543171, 21.813327971591104],\n",
       "    [-102.02267664969993, 21.968564691451892],\n",
       "    [-101.99859934950332, 22.091605186212067],\n",
       "    [-101.99726367009002, 22.13635427869066],\n",
       "    [-101.98775776682251, 22.578777227466833],\n",
       "    [-101.98779644064234, 22.57881942583322],\n",
       "    [-101.98782910435237, 22.57886574624087]]},\n",
       "  'VEGETATION_PERCENTAGE': 52.084434,\n",
       "  'SOLAR_IRRADIANCE_B12': 87.75,\n",
       "  'SOLAR_IRRADIANCE_B10': 365.41,\n",
       "  'SENSOR_QUALITY': 'PASSED',\n",
       "  'SOLAR_IRRADIANCE_B11': 247.08,\n",
       "  'GENERATION_TIME': 1635975380000,\n",
       "  'SOLAR_IRRADIANCE_B8A': 953.93,\n",
       "  'FORMAT_CORRECTNESS': 'PASSED',\n",
       "  'CLOUD_COVERAGE_ASSESSMENT': 0.187117,\n",
       "  'THIN_CIRRUS_PERCENTAGE': 0,\n",
       "  'system:time_end': 1635961068158,\n",
       "  'WATER_VAPOUR_RETRIEVAL_ACCURACY': 0,\n",
       "  'system:time_start': 1635961068158,\n",
       "  'DATASTRIP_ID': 'S2B_OPER_MSI_L2A_DS_VGS4_20211103T213620_S20211103T173043_N03.01',\n",
       "  'PROCESSING_BASELINE': '03.01',\n",
       "  'SENSING_ORBIT_NUMBER': 12,\n",
       "  'NODATA_PIXEL_PERCENTAGE': 3.374464,\n",
       "  'SENSING_ORBIT_DIRECTION': 'DESCENDING',\n",
       "  'GENERAL_QUALITY': 'PASSED',\n",
       "  'GRANULE_ID': 'L2A_T13QGE_A024348_20211103T173043',\n",
       "  'REFLECTANCE_CONVERSION_CORRECTION': 1.01507491481311,\n",
       "  'MEDIUM_PROBA_CLOUDS_PERCENTAGE': 0.09613,\n",
       "  'MEAN_INCIDENCE_AZIMUTH_ANGLE_B8': 282.857391550692,\n",
       "  'DATATAKE_TYPE': 'INS-NOBS',\n",
       "  'MEAN_INCIDENCE_AZIMUTH_ANGLE_B9': 283.543844546251,\n",
       "  'MEAN_INCIDENCE_AZIMUTH_ANGLE_B6': 283.230116480834,\n",
       "  'MEAN_INCIDENCE_AZIMUTH_ANGLE_B7': 283.31951747116,\n",
       "  'MEAN_INCIDENCE_AZIMUTH_ANGLE_B4': 283.072849718718,\n",
       "  'MEAN_INCIDENCE_ZENITH_ANGLE_B1': 7.61215701462861,\n",
       "  'NOT_VEGETATED_PERCENTAGE': 46.514034,\n",
       "  'MEAN_INCIDENCE_AZIMUTH_ANGLE_B5': 283.155845835048,\n",
       "  'RADIOMETRIC_QUALITY': 'PASSED',\n",
       "  'MEAN_INCIDENCE_AZIMUTH_ANGLE_B2': 282.790860965298,\n",
       "  'MEAN_INCIDENCE_AZIMUTH_ANGLE_B3': 282.936505605472,\n",
       "  'MEAN_INCIDENCE_ZENITH_ANGLE_B5': 7.48223730679396,\n",
       "  'MEAN_INCIDENCE_AZIMUTH_ANGLE_B1': 283.457178331633,\n",
       "  'MEAN_INCIDENCE_ZENITH_ANGLE_B4': 7.46169324913221,\n",
       "  'MEAN_INCIDENCE_ZENITH_ANGLE_B3': 7.42766610508085,\n",
       "  'MEAN_INCIDENCE_ZENITH_ANGLE_B2': 7.39452402016206,\n",
       "  'MEAN_INCIDENCE_ZENITH_ANGLE_B9': 7.65223110047487,\n",
       "  'MEAN_INCIDENCE_ZENITH_ANGLE_B8': 7.41111910692516,\n",
       "  'MEAN_INCIDENCE_ZENITH_ANGLE_B7': 7.54106305321335,\n",
       "  'DARK_FEATURES_PERCENTAGE': 0.38656,\n",
       "  'HIGH_PROBA_CLOUDS_PERCENTAGE': 0.090986,\n",
       "  'MEAN_INCIDENCE_ZENITH_ANGLE_B6': 7.51465753123871,\n",
       "  'UNCLASSIFIED_PERCENTAGE': 0.358874,\n",
       "  'MEAN_SOLAR_ZENITH_ANGLE': 39.8070024367899,\n",
       "  'MEAN_INCIDENCE_ZENITH_ANGLE_B8A': 7.57540303760368,\n",
       "  'RADIATIVE_TRANSFER_ACCURACY': 0,\n",
       "  'MGRS_TILE': '13QGE',\n",
       "  'CLOUDY_PIXEL_PERCENTAGE': 0.187117,\n",
       "  'PRODUCT_ID': 'S2B_MSIL2A_20211103T172509_N0301_R012_T13QGE_20211103T213620',\n",
       "  'MEAN_INCIDENCE_ZENITH_ANGLE_B10': 7.45595852406929,\n",
       "  'SOLAR_IRRADIANCE_B9': 817.58,\n",
       "  'SNOW_ICE_PERCENTAGE': 1e-05,\n",
       "  'DEGRADED_MSI_DATA_PERCENTAGE': 0,\n",
       "  'MEAN_INCIDENCE_ZENITH_ANGLE_B11': 7.50587369377908,\n",
       "  'MEAN_INCIDENCE_ZENITH_ANGLE_B12': 7.5834775985375,\n",
       "  'SOLAR_IRRADIANCE_B6': 1291.13,\n",
       "  'MEAN_INCIDENCE_AZIMUTH_ANGLE_B10': 282.915362930919,\n",
       "  'SOLAR_IRRADIANCE_B5': 1425.78,\n",
       "  'MEAN_INCIDENCE_AZIMUTH_ANGLE_B11': 283.142895525703,\n",
       "  'SOLAR_IRRADIANCE_B8': 1041.28,\n",
       "  'MEAN_INCIDENCE_AZIMUTH_ANGLE_B12': 283.358902504511,\n",
       "  'SOLAR_IRRADIANCE_B7': 1175.57,\n",
       "  'SOLAR_IRRADIANCE_B2': 1959.75,\n",
       "  'SOLAR_IRRADIANCE_B1': 1874.3,\n",
       "  'SOLAR_IRRADIANCE_B4': 1512.79,\n",
       "  'GEOMETRIC_QUALITY': 'PASSED',\n",
       "  'SOLAR_IRRADIANCE_B3': 1824.93,\n",
       "  'system:asset_size': 1726222698,\n",
       "  'WATER_PERCENTAGE': 0.38235,\n",
       "  'system:index': '20211103T172509_20211103T173043_T13QGE'}}"
      ]
     },
     "execution_count": 15,
     "metadata": {},
     "output_type": "execute_result"
    }
   ],
   "source": [
    "# Informacion de la primera imagen\n",
    "sentinel.first().getInfo()"
   ]
  },
  {
   "cell_type": "code",
   "execution_count": 8,
   "metadata": {},
   "outputs": [
    {
     "name": "stdout",
     "output_type": "stream",
     "text": [
      "None\n"
     ]
    }
   ],
   "source": [
    "# Nubosidad\n",
    "print(sentinel.first().get(\"CLOUD_COVER\").getInfo())"
   ]
  },
  {
   "cell_type": "code",
   "execution_count": 32,
   "metadata": {},
   "outputs": [
    {
     "name": "stdout",
     "output_type": "stream",
     "text": [
      "{'type': 'Date', 'value': 1635961068158}\n"
     ]
    }
   ],
   "source": [
    "# Fechas\n",
    "print(ee.Date(sentinel.first().get(\"system:time_start\")).getInfo())"
   ]
  },
  {
   "cell_type": "code",
   "execution_count": 11,
   "metadata": {},
   "outputs": [
    {
     "data": {
      "text/plain": [
       "['B1',\n",
       " 'B2',\n",
       " 'B3',\n",
       " 'B4',\n",
       " 'B5',\n",
       " 'B6',\n",
       " 'B7',\n",
       " 'B8',\n",
       " 'B8A',\n",
       " 'B9',\n",
       " 'B11',\n",
       " 'B12',\n",
       " 'AOT',\n",
       " 'WVP',\n",
       " 'SCL',\n",
       " 'TCI_R',\n",
       " 'TCI_G',\n",
       " 'TCI_B',\n",
       " 'MSK_CLDPRB',\n",
       " 'MSK_SNWPRB',\n",
       " 'QA10',\n",
       " 'QA20',\n",
       " 'QA60']"
      ]
     },
     "execution_count": 11,
     "metadata": {},
     "output_type": "execute_result"
    }
   ],
   "source": [
    "# Bandas \n",
    "sentinel.first().bandNames().getInfo()"
   ]
  },
  {
   "cell_type": "code",
   "execution_count": 12,
   "metadata": {},
   "outputs": [],
   "source": [
    "# Parametros para preprocesamiento\n",
    "parameters = {\n",
    "    \"min\":7000,\n",
    "    \"max\":16000,\n",
    "    \"dimensions\":800, # Tamaño cuadrado en pixeles\n",
    "    \"bands\": [\"B2\", \"B3\", \"B24\"] # (R, G, B)\n",
    "}"
   ]
  },
  {
   "cell_type": "code",
   "execution_count": 13,
   "metadata": {},
   "outputs": [
    {
     "ename": "NameError",
     "evalue": "name 'sentinel' is not defined",
     "output_type": "error",
     "traceback": [
      "\u001b[1;31m---------------------------------------------------------------------------\u001b[0m",
      "\u001b[1;31mNameError\u001b[0m                                 Traceback (most recent call last)",
      "Cell \u001b[1;32mIn [13], line 2\u001b[0m\n\u001b[0;32m      1\u001b[0m \u001b[39m# Imagenes en lista\u001b[39;00m\n\u001b[1;32m----> 2\u001b[0m sentinel_list \u001b[39m=\u001b[39m sentinel\u001b[39m.\u001b[39mtoList(sentinel\u001b[39m.\u001b[39msize())\n\u001b[0;32m      4\u001b[0m \u001b[39m# Funcion para mostrar cada imagen\u001b[39;00m\n\u001b[0;32m      5\u001b[0m \u001b[39mdef\u001b[39;00m \u001b[39mdisplay_img\u001b[39m(ids, parameters, ndvi_display \u001b[39m=\u001b[39m \u001b[39mFalse\u001b[39;00m):\n",
      "\u001b[1;31mNameError\u001b[0m: name 'sentinel' is not defined"
     ]
    }
   ],
   "source": [
    "# Imagenes en lista\n",
    "sentinel_list = sentinel.toList(sentinel.size())\n",
    "\n",
    "# Funcion para mostrar cada imagen\n",
    "def display_img(ids, parameters, ndvi_display = False):\n",
    "\n",
    "    for i in ids:\n",
    "    \n",
    "        # Fecha de captura\n",
    "        date = ee.Image(sentinel_list.get(i)).get(\"DATE_ACQUIRED\").getInfo()\n",
    "\n",
    "        # Nubosidad\n",
    "        cloud = ee.Image(sentinel_list.get(i)).get(\"CLOUD_COVER\").getInfo()\n",
    "    \n",
    "        # Informacion de la imagen\n",
    "        print(\"Imagen #\", i, date, \"Nubosidad:\", cloud)\n",
    "\n",
    "        if ndvi_display == True:\n",
    "            display(Image(url = ee.Image(sentinel_list.get(i)).normalizedDifference([\"SR_B5\", \"SR_B4\"]).getThumbURL(parameters)))\n",
    "\n",
    "        else:\n",
    "            # Plot\n",
    "            display(Image(url = ee.Image(sentinel_list.get(i)).getThumbURL(parameters)))\n",
    "        \n",
    "# Funcion para crear data frame con info de las imagenes\n",
    "def img_info(ids):\n",
    "    data = []\n",
    "    for i in ids:\n",
    "\n",
    "        # Fecha de captura\n",
    "        date = ee.Image(sentinel_list.get(i)).get(\"DATE_ACQUIRED\").getInfo()\n",
    "\n",
    "        # Nubosidad\n",
    "        cloud = ee.Image(sentinel_list.get(i)).get(\"CLOUD_COVER\").getInfo()\n",
    "\n",
    "        # Informacion de la imagen\n",
    "        print(\"Imagen #\", i, date, \"Nubosidad:\", cloud)\n",
    "        \n",
    "        image_data = [i, date, cloud]\n",
    "        data.append(image_data)\n",
    "    \n",
    "    return data"
   ]
  },
  {
   "cell_type": "code",
   "execution_count": null,
   "metadata": {},
   "outputs": [],
   "source": [
    "# DF de informacion\n",
    "sentinel_df = pd.DataFrame(img_info(range(sentinel.size().getInfo())), columns = [\"img_id\", \"date\", \"cloud_cover\"])"
   ]
  },
  {
   "cell_type": "code",
   "execution_count": null,
   "metadata": {},
   "outputs": [],
   "source": [
    "# Imagenes recolectadas\n",
    "display_img(sentinel_df.img_id, parameters = parameters)"
   ]
  },
  {
   "cell_type": "code",
   "execution_count": null,
   "metadata": {},
   "outputs": [],
   "source": [
    "# Data frame con  informacion de las imagenes\n",
    "sentinel_df.head() # Con esto se puede filtrar por la nubosidad, la cual parece ser buena por debajo de 10"
   ]
  },
  {
   "cell_type": "markdown",
   "metadata": {},
   "source": [
    "## Filtrado de imagenes"
   ]
  },
  {
   "cell_type": "code",
   "execution_count": null,
   "metadata": {},
   "outputs": [],
   "source": [
    "# Seleccionar las imagenes que tengan una nubosidad por debajo de 10\n",
    "ids_noClouds = sentinel_df.img_id[sentinel_df.cloud_cover < 10]\n",
    "len(ids_noClouds) # 23 Imagenes "
   ]
  },
  {
   "cell_type": "code",
   "execution_count": null,
   "metadata": {},
   "outputs": [],
   "source": [
    "# Definir region de interes\n",
    "roi = poi.buffer(10000) # Metros = 10 km"
   ]
  },
  {
   "cell_type": "code",
   "execution_count": null,
   "metadata": {},
   "outputs": [],
   "source": [
    "# Nuevos parametros\n",
    "parameters = {\n",
    "    \"min\":7000,\n",
    "    \"max\":16000,\n",
    "    \"dimensions\":800, # Tamaño cuadrado en pixeles\n",
    "    \"bands\": [\"B2\", \"B3\", \"B4\"], # (R, G, B)\n",
    "    \"region\":roi # Region de interes\n",
    "}"
   ]
  },
  {
   "cell_type": "code",
   "execution_count": null,
   "metadata": {},
   "outputs": [],
   "source": [
    "display_img([0, 2], parameters)"
   ]
  },
  {
   "cell_type": "code",
   "execution_count": null,
   "metadata": {},
   "outputs": [],
   "source": [
    "# Imagenes con zoom en la ciudad de Ags\n",
    "display_img(ids_noClouds, parameters = parameters)"
   ]
  },
  {
   "cell_type": "markdown",
   "metadata": {},
   "source": [
    "## NDVI\n",
    "\n",
    "$NDVI = \\frac{NIR - RED}{NIR + RED}$\n",
    "\n",
    "* Saludable = Valores altos\n",
    "* No saludable = Valores bajos\n",
    "\n",
    "`ndvi = image.normalizedDifference([\"B5\", \"B4\"])`"
   ]
  },
  {
   "cell_type": "code",
   "execution_count": null,
   "metadata": {},
   "outputs": [],
   "source": [
    "# Parametros para el analisis NDVI\n",
    "palette = [\"red\", \"yellow\", \"green\"]\n",
    "\n",
    "ndvi_parameters = {\n",
    "    \"min\":0, # Este color sera rojo - no saludable\n",
    "    \"max\":0.4, # Lo que sea mayor sera verde - saludable\n",
    "    \"dimensions\":512,\n",
    "    \"palette\":palette,\n",
    "    \"region\":roi\n",
    "}"
   ]
  },
  {
   "cell_type": "code",
   "execution_count": null,
   "metadata": {},
   "outputs": [],
   "source": [
    "# NDVI index por imagen\n",
    "display_img(ids_noClouds, ndvi_parameters, ndvi_display = True)"
   ]
  }
 ],
 "metadata": {
  "kernelspec": {
   "display_name": "Python 3.9.15",
   "language": "python",
   "name": "python3"
  },
  "language_info": {
   "codemirror_mode": {
    "name": "ipython",
    "version": 3
   },
   "file_extension": ".py",
   "mimetype": "text/x-python",
   "name": "python",
   "nbconvert_exporter": "python",
   "pygments_lexer": "ipython3",
   "version": "3.9.15"
  },
  "orig_nbformat": 4,
  "vscode": {
   "interpreter": {
    "hash": "98ef3d57ef7dda2493bb0a5332ec68224a063deee5515ba3b6448d5b0a1b9f6a"
   }
  }
 },
 "nbformat": 4,
 "nbformat_minor": 2
}
