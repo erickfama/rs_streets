{
 "cells": [
  {
   "cell_type": "code",
   "execution_count": 42,
   "metadata": {},
   "outputs": [],
   "source": [
    "# Librerias\n",
    "\n",
    "# Manipulacion \n",
    "import pandas as pd \n",
    "import geopandas as gpd\n",
    "import re\n",
    "from datetime import datetime\n",
    "\n",
    "# Earth engine (descarga de imagenes)\n",
    "import ee \n",
    "\n",
    "# Mapas interactivos\n",
    "import folium\n",
    "\n",
    "# Plot\n",
    "from IPython.display import Image"
   ]
  },
  {
   "cell_type": "code",
   "execution_count": 2,
   "metadata": {},
   "outputs": [],
   "source": [
    "# Autentificar Earth engine\n",
    "# ee.Authenticate() # Esto solo debe ser ejecutado la primera vez y cada vez que el token expira\n",
    "\n",
    "ee.Initialize()"
   ]
  },
  {
   "cell_type": "code",
   "execution_count": 3,
   "metadata": {},
   "outputs": [],
   "source": [
    "# Definir area de estudio\n",
    "\n",
    "# Coordenadas\n",
    "lat = 21.8833333\n",
    "lon = -102.3\n",
    "\n",
    "# Punto de interes\n",
    "poi = ee.Geometry.Point(lon, lat)\n",
    "\n",
    "# Periodo de tiempo\n",
    "start_date = \"2021-11-01\"\n",
    "end_date = \"2022-11-15\""
   ]
  },
  {
   "cell_type": "code",
   "execution_count": 4,
   "metadata": {},
   "outputs": [
    {
     "name": "stdout",
     "output_type": "stream",
     "text": [
      "Imagenes totales: 147\n"
     ]
    }
   ],
   "source": [
    "# Descarga de imagenes Landsat 9\n",
    "sentinel = ee.ImageCollection(\"COPERNICUS/S2_SR_HARMONIZED\")\\\n",
    "    .filterBounds(poi)\\\n",
    "    .filterDate(start_date, end_date)\n",
    "\n",
    "# Cantidad de imagenes obtenidas\n",
    "print(\"Imagenes totales:\", sentinel.size().getInfo())"
   ]
  },
  {
   "cell_type": "code",
   "execution_count": 15,
   "metadata": {},
   "outputs": [
    {
     "data": {
      "text/plain": [
       "{'type': 'Image',\n",
       " 'bands': [{'id': 'B1',\n",
       "   'data_type': {'type': 'PixelType',\n",
       "    'precision': 'int',\n",
       "    'min': 0,\n",
       "    'max': 65535},\n",
       "   'dimensions': [1830, 1830],\n",
       "   'crs': 'EPSG:32613',\n",
       "   'crs_transform': [60, 0, 699960, 0, -60, 2500020]},\n",
       "  {'id': 'B2',\n",
       "   'data_type': {'type': 'PixelType',\n",
       "    'precision': 'int',\n",
       "    'min': 0,\n",
       "    'max': 65535},\n",
       "   'dimensions': [10980, 10980],\n",
       "   'crs': 'EPSG:32613',\n",
       "   'crs_transform': [10, 0, 699960, 0, -10, 2500020]},\n",
       "  {'id': 'B3',\n",
       "   'data_type': {'type': 'PixelType',\n",
       "    'precision': 'int',\n",
       "    'min': 0,\n",
       "    'max': 65535},\n",
       "   'dimensions': [10980, 10980],\n",
       "   'crs': 'EPSG:32613',\n",
       "   'crs_transform': [10, 0, 699960, 0, -10, 2500020]},\n",
       "  {'id': 'B4',\n",
       "   'data_type': {'type': 'PixelType',\n",
       "    'precision': 'int',\n",
       "    'min': 0,\n",
       "    'max': 65535},\n",
       "   'dimensions': [10980, 10980],\n",
       "   'crs': 'EPSG:32613',\n",
       "   'crs_transform': [10, 0, 699960, 0, -10, 2500020]},\n",
       "  {'id': 'B5',\n",
       "   'data_type': {'type': 'PixelType',\n",
       "    'precision': 'int',\n",
       "    'min': 0,\n",
       "    'max': 65535},\n",
       "   'dimensions': [5490, 5490],\n",
       "   'crs': 'EPSG:32613',\n",
       "   'crs_transform': [20, 0, 699960, 0, -20, 2500020]},\n",
       "  {'id': 'B6',\n",
       "   'data_type': {'type': 'PixelType',\n",
       "    'precision': 'int',\n",
       "    'min': 0,\n",
       "    'max': 65535},\n",
       "   'dimensions': [5490, 5490],\n",
       "   'crs': 'EPSG:32613',\n",
       "   'crs_transform': [20, 0, 699960, 0, -20, 2500020]},\n",
       "  {'id': 'B7',\n",
       "   'data_type': {'type': 'PixelType',\n",
       "    'precision': 'int',\n",
       "    'min': 0,\n",
       "    'max': 65535},\n",
       "   'dimensions': [5490, 5490],\n",
       "   'crs': 'EPSG:32613',\n",
       "   'crs_transform': [20, 0, 699960, 0, -20, 2500020]},\n",
       "  {'id': 'B8',\n",
       "   'data_type': {'type': 'PixelType',\n",
       "    'precision': 'int',\n",
       "    'min': 0,\n",
       "    'max': 65535},\n",
       "   'dimensions': [10980, 10980],\n",
       "   'crs': 'EPSG:32613',\n",
       "   'crs_transform': [10, 0, 699960, 0, -10, 2500020]},\n",
       "  {'id': 'B8A',\n",
       "   'data_type': {'type': 'PixelType',\n",
       "    'precision': 'int',\n",
       "    'min': 0,\n",
       "    'max': 65535},\n",
       "   'dimensions': [5490, 5490],\n",
       "   'crs': 'EPSG:32613',\n",
       "   'crs_transform': [20, 0, 699960, 0, -20, 2500020]},\n",
       "  {'id': 'B9',\n",
       "   'data_type': {'type': 'PixelType',\n",
       "    'precision': 'int',\n",
       "    'min': 0,\n",
       "    'max': 65535},\n",
       "   'dimensions': [1830, 1830],\n",
       "   'crs': 'EPSG:32613',\n",
       "   'crs_transform': [60, 0, 699960, 0, -60, 2500020]},\n",
       "  {'id': 'B11',\n",
       "   'data_type': {'type': 'PixelType',\n",
       "    'precision': 'int',\n",
       "    'min': 0,\n",
       "    'max': 65535},\n",
       "   'dimensions': [5490, 5490],\n",
       "   'crs': 'EPSG:32613',\n",
       "   'crs_transform': [20, 0, 699960, 0, -20, 2500020]},\n",
       "  {'id': 'B12',\n",
       "   'data_type': {'type': 'PixelType',\n",
       "    'precision': 'int',\n",
       "    'min': 0,\n",
       "    'max': 65535},\n",
       "   'dimensions': [5490, 5490],\n",
       "   'crs': 'EPSG:32613',\n",
       "   'crs_transform': [20, 0, 699960, 0, -20, 2500020]},\n",
       "  {'id': 'AOT',\n",
       "   'data_type': {'type': 'PixelType',\n",
       "    'precision': 'int',\n",
       "    'min': 0,\n",
       "    'max': 65535},\n",
       "   'dimensions': [10980, 10980],\n",
       "   'crs': 'EPSG:32613',\n",
       "   'crs_transform': [10, 0, 699960, 0, -10, 2500020]},\n",
       "  {'id': 'WVP',\n",
       "   'data_type': {'type': 'PixelType',\n",
       "    'precision': 'int',\n",
       "    'min': 0,\n",
       "    'max': 65535},\n",
       "   'dimensions': [10980, 10980],\n",
       "   'crs': 'EPSG:32613',\n",
       "   'crs_transform': [10, 0, 699960, 0, -10, 2500020]},\n",
       "  {'id': 'SCL',\n",
       "   'data_type': {'type': 'PixelType',\n",
       "    'precision': 'int',\n",
       "    'min': 0,\n",
       "    'max': 255},\n",
       "   'dimensions': [5490, 5490],\n",
       "   'crs': 'EPSG:32613',\n",
       "   'crs_transform': [20, 0, 699960, 0, -20, 2500020]},\n",
       "  {'id': 'TCI_R',\n",
       "   'data_type': {'type': 'PixelType',\n",
       "    'precision': 'int',\n",
       "    'min': 0,\n",
       "    'max': 255},\n",
       "   'dimensions': [10980, 10980],\n",
       "   'crs': 'EPSG:32613',\n",
       "   'crs_transform': [10, 0, 699960, 0, -10, 2500020]},\n",
       "  {'id': 'TCI_G',\n",
       "   'data_type': {'type': 'PixelType',\n",
       "    'precision': 'int',\n",
       "    'min': 0,\n",
       "    'max': 255},\n",
       "   'dimensions': [10980, 10980],\n",
       "   'crs': 'EPSG:32613',\n",
       "   'crs_transform': [10, 0, 699960, 0, -10, 2500020]},\n",
       "  {'id': 'TCI_B',\n",
       "   'data_type': {'type': 'PixelType',\n",
       "    'precision': 'int',\n",
       "    'min': 0,\n",
       "    'max': 255},\n",
       "   'dimensions': [10980, 10980],\n",
       "   'crs': 'EPSG:32613',\n",
       "   'crs_transform': [10, 0, 699960, 0, -10, 2500020]},\n",
       "  {'id': 'MSK_CLDPRB',\n",
       "   'data_type': {'type': 'PixelType',\n",
       "    'precision': 'int',\n",
       "    'min': 0,\n",
       "    'max': 255},\n",
       "   'dimensions': [5490, 5490],\n",
       "   'crs': 'EPSG:32613',\n",
       "   'crs_transform': [20, 0, 699960, 0, -20, 2500020]},\n",
       "  {'id': 'MSK_SNWPRB',\n",
       "   'data_type': {'type': 'PixelType',\n",
       "    'precision': 'int',\n",
       "    'min': 0,\n",
       "    'max': 255},\n",
       "   'dimensions': [5490, 5490],\n",
       "   'crs': 'EPSG:32613',\n",
       "   'crs_transform': [20, 0, 699960, 0, -20, 2500020]},\n",
       "  {'id': 'QA10',\n",
       "   'data_type': {'type': 'PixelType',\n",
       "    'precision': 'int',\n",
       "    'min': 0,\n",
       "    'max': 65535},\n",
       "   'dimensions': [10980, 10980],\n",
       "   'crs': 'EPSG:32613',\n",
       "   'crs_transform': [10, 0, 699960, 0, -10, 2500020]},\n",
       "  {'id': 'QA20',\n",
       "   'data_type': {'type': 'PixelType',\n",
       "    'precision': 'int',\n",
       "    'min': 0,\n",
       "    'max': 4294967295},\n",
       "   'dimensions': [5490, 5490],\n",
       "   'crs': 'EPSG:32613',\n",
       "   'crs_transform': [20, 0, 699960, 0, -20, 2500020]},\n",
       "  {'id': 'QA60',\n",
       "   'data_type': {'type': 'PixelType',\n",
       "    'precision': 'int',\n",
       "    'min': 0,\n",
       "    'max': 65535},\n",
       "   'dimensions': [1830, 1830],\n",
       "   'crs': 'EPSG:32613',\n",
       "   'crs_transform': [60, 0, 699960, 0, -60, 2500020]}],\n",
       " 'version': 1670004974297604,\n",
       " 'id': 'COPERNICUS/S2_SR_HARMONIZED/20211103T172509_20211103T173043_T13QGE',\n",
       " 'properties': {'DATATAKE_IDENTIFIER': 'GS2B_20211103T172509_024348_N03.01',\n",
       "  'AOT_RETRIEVAL_ACCURACY': 0,\n",
       "  'SPACECRAFT_NAME': 'Sentinel-2B',\n",
       "  'SATURATED_DEFECTIVE_PIXEL_PERCENTAGE': 0,\n",
       "  'MEAN_INCIDENCE_AZIMUTH_ANGLE_B8A': 283.427712706288,\n",
       "  'CLOUD_SHADOW_PERCENTAGE': 0.086622,\n",
       "  'MEAN_SOLAR_AZIMUTH_ANGLE': 158.685390267614,\n",
       "  'system:footprint': {'type': 'LinearRing',\n",
       "   'coordinates': [[-101.98782910435237, 22.57886574624087],\n",
       "    [-101.98784513134972, 22.578868835914626],\n",
       "    [-103.0548349217569, 22.595342832413465],\n",
       "    [-103.05488037586338, 22.595306790148975],\n",
       "    [-103.05493339102244, 22.59527440929476],\n",
       "    [-103.06180111445191, 22.099653881406834],\n",
       "    [-103.06847701077956, 21.60402173638571],\n",
       "    [-103.06843823420706, 21.603979832688335],\n",
       "    [-103.06840341443812, 21.60393083110354],\n",
       "    [-102.13712072245947, 21.59050965629982],\n",
       "    [-102.12900664530054, 21.59073100201816],\n",
       "    [-102.12897123529804, 21.590761796229888],\n",
       "    [-102.12892535930202, 21.590776535276646],\n",
       "    [-102.12891611433176, 21.59079735109472],\n",
       "    [-102.06359869543171, 21.813327971591104],\n",
       "    [-102.02267664969993, 21.968564691451892],\n",
       "    [-101.99859934950332, 22.091605186212067],\n",
       "    [-101.99726367009002, 22.13635427869066],\n",
       "    [-101.98775776682251, 22.578777227466833],\n",
       "    [-101.98779644064234, 22.57881942583322],\n",
       "    [-101.98782910435237, 22.57886574624087]]},\n",
       "  'VEGETATION_PERCENTAGE': 52.084434,\n",
       "  'SOLAR_IRRADIANCE_B12': 87.75,\n",
       "  'SOLAR_IRRADIANCE_B10': 365.41,\n",
       "  'SENSOR_QUALITY': 'PASSED',\n",
       "  'SOLAR_IRRADIANCE_B11': 247.08,\n",
       "  'GENERATION_TIME': 1635975380000,\n",
       "  'SOLAR_IRRADIANCE_B8A': 953.93,\n",
       "  'FORMAT_CORRECTNESS': 'PASSED',\n",
       "  'CLOUD_COVERAGE_ASSESSMENT': 0.187117,\n",
       "  'THIN_CIRRUS_PERCENTAGE': 0,\n",
       "  'system:time_end': 1635961068158,\n",
       "  'WATER_VAPOUR_RETRIEVAL_ACCURACY': 0,\n",
       "  'system:time_start': 1635961068158,\n",
       "  'DATASTRIP_ID': 'S2B_OPER_MSI_L2A_DS_VGS4_20211103T213620_S20211103T173043_N03.01',\n",
       "  'PROCESSING_BASELINE': '03.01',\n",
       "  'SENSING_ORBIT_NUMBER': 12,\n",
       "  'NODATA_PIXEL_PERCENTAGE': 3.374464,\n",
       "  'SENSING_ORBIT_DIRECTION': 'DESCENDING',\n",
       "  'GENERAL_QUALITY': 'PASSED',\n",
       "  'GRANULE_ID': 'L2A_T13QGE_A024348_20211103T173043',\n",
       "  'REFLECTANCE_CONVERSION_CORRECTION': 1.01507491481311,\n",
       "  'MEDIUM_PROBA_CLOUDS_PERCENTAGE': 0.09613,\n",
       "  'MEAN_INCIDENCE_AZIMUTH_ANGLE_B8': 282.857391550692,\n",
       "  'DATATAKE_TYPE': 'INS-NOBS',\n",
       "  'MEAN_INCIDENCE_AZIMUTH_ANGLE_B9': 283.543844546251,\n",
       "  'MEAN_INCIDENCE_AZIMUTH_ANGLE_B6': 283.230116480834,\n",
       "  'MEAN_INCIDENCE_AZIMUTH_ANGLE_B7': 283.31951747116,\n",
       "  'MEAN_INCIDENCE_AZIMUTH_ANGLE_B4': 283.072849718718,\n",
       "  'MEAN_INCIDENCE_ZENITH_ANGLE_B1': 7.61215701462861,\n",
       "  'NOT_VEGETATED_PERCENTAGE': 46.514034,\n",
       "  'MEAN_INCIDENCE_AZIMUTH_ANGLE_B5': 283.155845835048,\n",
       "  'RADIOMETRIC_QUALITY': 'PASSED',\n",
       "  'MEAN_INCIDENCE_AZIMUTH_ANGLE_B2': 282.790860965298,\n",
       "  'MEAN_INCIDENCE_AZIMUTH_ANGLE_B3': 282.936505605472,\n",
       "  'MEAN_INCIDENCE_ZENITH_ANGLE_B5': 7.48223730679396,\n",
       "  'MEAN_INCIDENCE_AZIMUTH_ANGLE_B1': 283.457178331633,\n",
       "  'MEAN_INCIDENCE_ZENITH_ANGLE_B4': 7.46169324913221,\n",
       "  'MEAN_INCIDENCE_ZENITH_ANGLE_B3': 7.42766610508085,\n",
       "  'MEAN_INCIDENCE_ZENITH_ANGLE_B2': 7.39452402016206,\n",
       "  'MEAN_INCIDENCE_ZENITH_ANGLE_B9': 7.65223110047487,\n",
       "  'MEAN_INCIDENCE_ZENITH_ANGLE_B8': 7.41111910692516,\n",
       "  'MEAN_INCIDENCE_ZENITH_ANGLE_B7': 7.54106305321335,\n",
       "  'DARK_FEATURES_PERCENTAGE': 0.38656,\n",
       "  'HIGH_PROBA_CLOUDS_PERCENTAGE': 0.090986,\n",
       "  'MEAN_INCIDENCE_ZENITH_ANGLE_B6': 7.51465753123871,\n",
       "  'UNCLASSIFIED_PERCENTAGE': 0.358874,\n",
       "  'MEAN_SOLAR_ZENITH_ANGLE': 39.8070024367899,\n",
       "  'MEAN_INCIDENCE_ZENITH_ANGLE_B8A': 7.57540303760368,\n",
       "  'RADIATIVE_TRANSFER_ACCURACY': 0,\n",
       "  'MGRS_TILE': '13QGE',\n",
       "  'CLOUDY_PIXEL_PERCENTAGE': 0.187117,\n",
       "  'PRODUCT_ID': 'S2B_MSIL2A_20211103T172509_N0301_R012_T13QGE_20211103T213620',\n",
       "  'MEAN_INCIDENCE_ZENITH_ANGLE_B10': 7.45595852406929,\n",
       "  'SOLAR_IRRADIANCE_B9': 817.58,\n",
       "  'SNOW_ICE_PERCENTAGE': 1e-05,\n",
       "  'DEGRADED_MSI_DATA_PERCENTAGE': 0,\n",
       "  'MEAN_INCIDENCE_ZENITH_ANGLE_B11': 7.50587369377908,\n",
       "  'MEAN_INCIDENCE_ZENITH_ANGLE_B12': 7.5834775985375,\n",
       "  'SOLAR_IRRADIANCE_B6': 1291.13,\n",
       "  'MEAN_INCIDENCE_AZIMUTH_ANGLE_B10': 282.915362930919,\n",
       "  'SOLAR_IRRADIANCE_B5': 1425.78,\n",
       "  'MEAN_INCIDENCE_AZIMUTH_ANGLE_B11': 283.142895525703,\n",
       "  'SOLAR_IRRADIANCE_B8': 1041.28,\n",
       "  'MEAN_INCIDENCE_AZIMUTH_ANGLE_B12': 283.358902504511,\n",
       "  'SOLAR_IRRADIANCE_B7': 1175.57,\n",
       "  'SOLAR_IRRADIANCE_B2': 1959.75,\n",
       "  'SOLAR_IRRADIANCE_B1': 1874.3,\n",
       "  'SOLAR_IRRADIANCE_B4': 1512.79,\n",
       "  'GEOMETRIC_QUALITY': 'PASSED',\n",
       "  'SOLAR_IRRADIANCE_B3': 1824.93,\n",
       "  'system:asset_size': 1726222698,\n",
       "  'WATER_PERCENTAGE': 0.38235,\n",
       "  'system:index': '20211103T172509_20211103T173043_T13QGE'}}"
      ]
     },
     "execution_count": 15,
     "metadata": {},
     "output_type": "execute_result"
    }
   ],
   "source": [
    "# Informacion de la primera imagen\n",
    "sentinel.first().getInfo()"
   ]
  },
  {
   "cell_type": "code",
   "execution_count": 5,
   "metadata": {},
   "outputs": [
    {
     "name": "stdout",
     "output_type": "stream",
     "text": [
      "0.187117\n"
     ]
    }
   ],
   "source": [
    "# Nubosidad\n",
    "print(sentinel.first().get(\"CLOUDY_PIXEL_PERCENTAGE\").getInfo())"
   ]
  },
  {
   "cell_type": "code",
   "execution_count": 6,
   "metadata": {},
   "outputs": [
    {
     "name": "stdout",
     "output_type": "stream",
     "text": [
      "0.38235\n"
     ]
    }
   ],
   "source": [
    "# Porcentaje de agua\n",
    "print(sentinel.first().get(\"WATER_PERCENTAGE\").getInfo())"
   ]
  },
  {
   "cell_type": "code",
   "execution_count": 49,
   "metadata": {},
   "outputs": [
    {
     "name": "stdout",
     "output_type": "stream",
     "text": [
      "2021-11-03\n"
     ]
    }
   ],
   "source": [
    "# Fechas\n",
    "print(datetime.strptime(re.findall(\"(?<=\\_)\\\\d+(?=T)\", sentinel.first().get(\"DATATAKE_IDENTIFIER\").getInfo())[0], \"%Y%m%d\").date())"
   ]
  },
  {
   "cell_type": "code",
   "execution_count": 11,
   "metadata": {},
   "outputs": [
    {
     "data": {
      "text/plain": [
       "['B1',\n",
       " 'B2',\n",
       " 'B3',\n",
       " 'B4',\n",
       " 'B5',\n",
       " 'B6',\n",
       " 'B7',\n",
       " 'B8',\n",
       " 'B8A',\n",
       " 'B9',\n",
       " 'B11',\n",
       " 'B12',\n",
       " 'AOT',\n",
       " 'WVP',\n",
       " 'SCL',\n",
       " 'TCI_R',\n",
       " 'TCI_G',\n",
       " 'TCI_B',\n",
       " 'MSK_CLDPRB',\n",
       " 'MSK_SNWPRB',\n",
       " 'QA10',\n",
       " 'QA20',\n",
       " 'QA60']"
      ]
     },
     "execution_count": 11,
     "metadata": {},
     "output_type": "execute_result"
    }
   ],
   "source": [
    "# Bandas \n",
    "sentinel.first().bandNames().getInfo()"
   ]
  },
  {
   "cell_type": "code",
   "execution_count": 12,
   "metadata": {},
   "outputs": [],
   "source": [
    "# Parametros para preprocesamiento\n",
    "parameters = {\n",
    "    \"min\":7000,\n",
    "    \"max\":16000,\n",
    "    \"dimensions\":800, # Tamaño cuadrado en pixeles\n",
    "    \"bands\": [\"B2\", \"B3\", \"B4\"] # (R, G, B)\n",
    "}"
   ]
  },
  {
   "cell_type": "code",
   "execution_count": 58,
   "metadata": {},
   "outputs": [],
   "source": [
    "# Imagenes en lista\n",
    "sentinel_list = sentinel.toList(sentinel.size())\n",
    "\n",
    "# Funcion para mostrar cada imagen\n",
    "def display_img(ids, parameters, ndvi_display = False):\n",
    "\n",
    "    for i in ids:\n",
    "    \n",
    "        # Fecha de captura\n",
    "        date = datetime.strptime(re.findall(\"(?<=\\_)\\\\d+(?=T)\", ee.Image(sentinel_list.get(i)).get(\"DATATAKE_IDENTIFIER\").getInfo())[0], \"%Y%m%d\").date()\n",
    "\n",
    "        # Nubosidad\n",
    "        cloud = ee.Image(sentinel_list.get(i)).get(\"CLOUDY_PIXEL_PERCENTAGE\").getInfo()\n",
    "\n",
    "        # Porcentaje de vegetación\n",
    "        veg = ee.Image(sentinel_list.get(i)).get(\"VEGETATION_PERCENTAGE\").getInfo()\n",
    "\n",
    "        # Porcentaje de agua\n",
    "        water = ee.Image(sentinel_list.get(i)).get(\"WATER_PERCENTAGE\").getInfo()\n",
    "\n",
    "        # Informacion de la imagen\n",
    "        print(\"Imagen #\", i, date, \"Nubosidad:\", cloud, \"Porcentaje de agua:\", water)\n",
    "\n",
    "        if ndvi_display == True:\n",
    "            display(Image(url = ee.Image(sentinel_list.get(i)).normalizedDifference([\"B5\", \"B4\"]).getThumbURL(parameters)))\n",
    "\n",
    "        else:\n",
    "            # Plot\n",
    "            display(Image(url = ee.Image(sentinel_list.get(i)).getThumbURL(parameters)))\n",
    "        \n",
    "# Funcion para crear data frame con info de las imagenes\n",
    "def img_info(ids):\n",
    "    data = []\n",
    "    for i in ids:\n",
    "\n",
    "        # Fecha de captura\n",
    "        date = datetime.strptime(re.findall(\"(?<=\\_)\\\\d+(?=T)\", ee.Image(sentinel_list.get(i)).get(\"DATATAKE_IDENTIFIER\").getInfo())[0], \"%Y%m%d\").date()\n",
    "\n",
    "        # Nubosidad\n",
    "        cloud = ee.Image(sentinel_list.get(i)).get(\"CLOUDY_PIXEL_PERCENTAGE\").getInfo()\n",
    "\n",
    "        # Porcentaje de vegetación\n",
    "        veg = ee.Image(sentinel_list.get(i)).get(\"VEGETATION_PERCENTAGE\").getInfo()\n",
    "        \n",
    "        # Porcentaje de agua\n",
    "        water = ee.Image(sentinel_list.get(i)).get(\"WATER_PERCENTAGE\").getInfo()\n",
    "\n",
    "        # Informacion de la imagen\n",
    "        print(\"Imagen #\", i, date, \"Nubosidad:\", cloud,\"Porcentaje de vegetación:\", veg, \"Porcentaje de agua:\", water)\n",
    "        \n",
    "        image_data = [i, date, cloud, veg, water]\n",
    "        data.append(image_data)\n",
    "    \n",
    "    return data"
   ]
  },
  {
   "cell_type": "code",
   "execution_count": 57,
   "metadata": {},
   "outputs": [
    {
     "name": "stdout",
     "output_type": "stream",
     "text": [
      "Imagen # 0 2021-11-03 00:00:00 Nubosidad: 0.187117 Porcentaje de agua: 0.38235\n",
      "Imagen # 1 2021-11-05 00:00:00 Nubosidad: 0.576502 Porcentaje de agua: 0.273206\n",
      "Imagen # 2 2021-11-10 00:00:00 Nubosidad: 54.052523 Porcentaje de agua: 0.052212\n",
      "Imagen # 3 2021-11-13 00:00:00 Nubosidad: 35.121469 Porcentaje de agua: 0.224204\n",
      "Imagen # 4 2021-11-15 00:00:00 Nubosidad: 0.24273 Porcentaje de agua: 0.233653\n",
      "Imagen # 5 2021-11-18 00:00:00 Nubosidad: 1.858585 Porcentaje de agua: 0.335685\n",
      "Imagen # 6 2021-11-20 00:00:00 Nubosidad: 0.241683 Porcentaje de agua: 0.260036\n",
      "Imagen # 7 2021-11-23 00:00:00 Nubosidad: 0.945583 Porcentaje de agua: 0.384063\n",
      "Imagen # 8 2021-11-25 00:00:00 Nubosidad: 0.478377 Porcentaje de agua: 0.225956\n",
      "Imagen # 9 2021-11-28 00:00:00 Nubosidad: 8.957708 Porcentaje de agua: 0.253872\n",
      "Imagen # 10 2021-11-30 00:00:00 Nubosidad: 0.299219 Porcentaje de agua: 0.237274\n",
      "Imagen # 11 2021-12-03 00:00:00 Nubosidad: 2.284935 Porcentaje de agua: 0.344048\n",
      "Imagen # 12 2021-12-05 00:00:00 Nubosidad: 65.408373 Porcentaje de agua: 0.041216\n",
      "Imagen # 13 2021-12-08 00:00:00 Nubosidad: 0.057873 Porcentaje de agua: 0.27861\n",
      "Imagen # 14 2021-12-10 00:00:00 Nubosidad: 76.33459 Porcentaje de agua: 0.015593\n",
      "Imagen # 15 2021-12-15 00:00:00 Nubosidad: 0.360494 Porcentaje de agua: 0.218051\n",
      "Imagen # 16 2021-12-18 00:00:00 Nubosidad: 78.66752 Porcentaje de agua: 0.014241\n",
      "Imagen # 17 2021-12-20 00:00:00 Nubosidad: 1.090022 Porcentaje de agua: 0.227823\n",
      "Imagen # 18 2021-12-23 00:00:00 Nubosidad: 0.12131 Porcentaje de agua: 0.371746\n",
      "Imagen # 19 2021-12-25 00:00:00 Nubosidad: 0.188971 Porcentaje de agua: 0.240831\n",
      "Imagen # 20 2021-12-28 00:00:00 Nubosidad: 0.061815 Porcentaje de agua: 0.359213\n",
      "Imagen # 21 2021-12-30 00:00:00 Nubosidad: 0.169917 Porcentaje de agua: 0.247619\n",
      "Imagen # 22 2022-01-02 00:00:00 Nubosidad: 0.047339 Porcentaje de agua: 0.36351\n",
      "Imagen # 23 2022-01-04 00:00:00 Nubosidad: 0.244781 Porcentaje de agua: 0.231077\n",
      "Imagen # 24 2022-01-07 00:00:00 Nubosidad: 0.082272 Porcentaje de agua: 0.35309\n",
      "Imagen # 25 2022-01-09 00:00:00 Nubosidad: 0.255978 Porcentaje de agua: 0.226682\n",
      "Imagen # 26 2022-01-12 00:00:00 Nubosidad: 28.329032 Porcentaje de agua: 0.088769\n",
      "Imagen # 27 2022-01-14 00:00:00 Nubosidad: 0.201615 Porcentaje de agua: 0.201678\n",
      "Imagen # 28 2022-01-17 00:00:00 Nubosidad: 0.474281 Porcentaje de agua: 0.28704\n",
      "Imagen # 29 2022-01-19 00:00:00 Nubosidad: 13.162258 Porcentaje de agua: 0.166401\n",
      "Imagen # 30 2022-01-22 00:00:00 Nubosidad: 7.129203 Porcentaje de agua: 0.305607\n",
      "Imagen # 31 2022-01-24 00:00:00 Nubosidad: 37.199605 Porcentaje de agua: 0.046255\n",
      "Imagen # 32 2022-01-27 00:00:00 Nubosidad: 10.246188 Porcentaje de agua: 0.118847\n",
      "Imagen # 33 2022-01-29 00:00:00 Nubosidad: 27.936265 Porcentaje de agua: 0.154377\n",
      "Imagen # 34 2022-02-01 00:00:00 Nubosidad: 4.4e-05 Porcentaje de agua: 0.354787\n",
      "Imagen # 35 2022-02-03 00:00:00 Nubosidad: 0.002743 Porcentaje de agua: 0.190341\n",
      "Imagen # 36 2022-02-06 00:00:00 Nubosidad: 1.057134 Porcentaje de agua: 0.317795\n",
      "Imagen # 37 2022-02-08 00:00:00 Nubosidad: 0.078734 Porcentaje de agua: 0.196438\n",
      "Imagen # 38 2022-02-11 00:00:00 Nubosidad: 10.878268 Porcentaje de agua: 0.220812\n",
      "Imagen # 39 2022-02-13 00:00:00 Nubosidad: 43.578529 Porcentaje de agua: 0.07792\n",
      "Imagen # 40 2022-02-16 00:00:00 Nubosidad: 5.1e-05 Porcentaje de agua: 0.32236\n",
      "Imagen # 41 2022-02-18 00:00:00 Nubosidad: 0.298871 Porcentaje de agua: 0.11659799999999998\n",
      "Imagen # 42 2022-02-21 00:00:00 Nubosidad: 0.145937 Porcentaje de agua: 0.327054\n",
      "Imagen # 43 2022-02-23 00:00:00 Nubosidad: 0.000179 Porcentaje de agua: 0.175866\n",
      "Imagen # 44 2022-02-26 00:00:00 Nubosidad: 1.400809 Porcentaje de agua: 0.291427\n",
      "Imagen # 45 2022-02-28 00:00:00 Nubosidad: 3.6e-05 Porcentaje de agua: 0.163532\n",
      "Imagen # 46 2022-03-03 00:00:00 Nubosidad: 7e-06 Porcentaje de agua: 0.307297\n",
      "Imagen # 47 2022-03-05 00:00:00 Nubosidad: 0.000106 Porcentaje de agua: 0.150607\n",
      "Imagen # 48 2022-03-08 00:00:00 Nubosidad: 9.3e-05 Porcentaje de agua: 0.218036\n",
      "Imagen # 49 2022-03-10 00:00:00 Nubosidad: 14.688021 Porcentaje de agua: 0.12178600000000002\n",
      "Imagen # 50 2022-03-13 00:00:00 Nubosidad: 6.1e-05 Porcentaje de agua: 0.203544\n",
      "Imagen # 51 2022-03-15 00:00:00 Nubosidad: 6.2e-05 Porcentaje de agua: 0.15148\n",
      "Imagen # 52 2022-03-18 00:00:00 Nubosidad: 0.002993 Porcentaje de agua: 0.239527\n",
      "Imagen # 53 2022-03-20 00:00:00 Nubosidad: 0.000162 Porcentaje de agua: 0.155161\n",
      "Imagen # 54 2022-03-23 00:00:00 Nubosidad: 0.154971 Porcentaje de agua: 0.202159\n",
      "Imagen # 55 2022-03-25 00:00:00 Nubosidad: 0.000241 Porcentaje de agua: 0.133161\n",
      "Imagen # 56 2022-03-28 00:00:00 Nubosidad: 3.1e-05 Porcentaje de agua: 0.209907\n",
      "Imagen # 57 2022-03-30 00:00:00 Nubosidad: 0.010731 Porcentaje de agua: 0.09509\n",
      "Imagen # 58 2022-04-02 00:00:00 Nubosidad: 5.1e-05 Porcentaje de agua: 0.19865\n",
      "Imagen # 59 2022-04-04 00:00:00 Nubosidad: 2.484912 Porcentaje de agua: 0.117922\n",
      "Imagen # 60 2022-04-07 00:00:00 Nubosidad: 0.270586 Porcentaje de agua: 0.186351\n",
      "Imagen # 61 2022-04-09 00:00:00 Nubosidad: 0.204461 Porcentaje de agua: 0.11285\n",
      "Imagen # 62 2022-04-12 00:00:00 Nubosidad: 24.200955 Porcentaje de agua: 0.095181\n",
      "Imagen # 63 2022-04-14 00:00:00 Nubosidad: 41.638198 Porcentaje de agua: 0.073599\n",
      "Imagen # 64 2022-04-17 00:00:00 Nubosidad: 40.348712 Porcentaje de agua: 0.088435\n",
      "Imagen # 65 2022-04-19 00:00:00 Nubosidad: 0.000881 Porcentaje de agua: 0.113392\n",
      "Imagen # 66 2022-04-22 00:00:00 Nubosidad: 0.399309 Porcentaje de agua: 0.12241\n",
      "Imagen # 67 2022-04-24 00:00:00 Nubosidad: 0.000241 Porcentaje de agua: 0.108829\n",
      "Imagen # 68 2022-04-27 00:00:00 Nubosidad: 2.333961 Porcentaje de agua: 0.155315\n",
      "Imagen # 69 2022-05-02 00:00:00 Nubosidad: 0.04862 Porcentaje de agua: 0.141404\n",
      "Imagen # 70 2022-05-04 00:00:00 Nubosidad: 4.348748 Porcentaje de agua: 0.09688400000000001\n",
      "Imagen # 71 2022-05-07 00:00:00 Nubosidad: 0.02425 Porcentaje de agua: 0.160681\n",
      "Imagen # 72 2022-05-09 00:00:00 Nubosidad: 5.4e-05 Porcentaje de agua: 0.103418\n",
      "Imagen # 73 2022-05-12 00:00:00 Nubosidad: 0.019446 Porcentaje de agua: 0.168205\n",
      "Imagen # 74 2022-05-14 00:00:00 Nubosidad: 0.022352 Porcentaje de agua: 0.082475\n",
      "Imagen # 75 2022-05-17 00:00:00 Nubosidad: 22.740208 Porcentaje de agua: 0.084029\n",
      "Imagen # 76 2022-05-19 00:00:00 Nubosidad: 0.031849 Porcentaje de agua: 0.09962399999999999\n",
      "Imagen # 77 2022-05-22 00:00:00 Nubosidad: 0.020814 Porcentaje de agua: 0.158314\n",
      "Imagen # 78 2022-05-24 00:00:00 Nubosidad: 7.2e-05 Porcentaje de agua: 0.08571400000000001\n",
      "Imagen # 79 2022-05-27 00:00:00 Nubosidad: 0.991549 Porcentaje de agua: 0.086216\n",
      "Imagen # 80 2022-05-29 00:00:00 Nubosidad: 3.660855 Porcentaje de agua: 0.059986\n",
      "Imagen # 81 2022-06-01 00:00:00 Nubosidad: 2.109307 Porcentaje de agua: 0.14207\n",
      "Imagen # 82 2022-06-03 00:00:00 Nubosidad: 33.916798 Porcentaje de agua: 0.058096\n",
      "Imagen # 83 2022-06-06 00:00:00 Nubosidad: 3.919237 Porcentaje de agua: 0.155949\n",
      "Imagen # 84 2022-06-08 00:00:00 Nubosidad: 0.01966 Porcentaje de agua: 0.096968\n",
      "Imagen # 85 2022-06-11 00:00:00 Nubosidad: 1.566174 Porcentaje de agua: 0.135965\n",
      "Imagen # 86 2022-06-13 00:00:00 Nubosidad: 23.658232 Porcentaje de agua: 0.07825\n",
      "Imagen # 87 2022-06-16 00:00:00 Nubosidad: 41.622931 Porcentaje de agua: 0.035016\n",
      "Imagen # 88 2022-06-18 00:00:00 Nubosidad: 16.573383 Porcentaje de agua: 0.099891\n",
      "Imagen # 89 2022-06-21 00:00:00 Nubosidad: 53.478354 Porcentaje de agua: 0.017724\n",
      "Imagen # 90 2022-06-23 00:00:00 Nubosidad: 69.68292 Porcentaje de agua: 0.026561\n",
      "Imagen # 91 2022-06-26 00:00:00 Nubosidad: 40.590703 Porcentaje de agua: 0.125625\n",
      "Imagen # 92 2022-06-28 00:00:00 Nubosidad: 12.745203 Porcentaje de agua: 0.056994\n",
      "Imagen # 93 2022-07-01 00:00:00 Nubosidad: 39.547068 Porcentaje de agua: 0.071206\n",
      "Imagen # 94 2022-07-03 00:00:00 Nubosidad: 71.43997 Porcentaje de agua: 0.044607\n",
      "Imagen # 95 2022-07-06 00:00:00 Nubosidad: 6.41293 Porcentaje de agua: 0.16282\n",
      "Imagen # 96 2022-07-08 00:00:00 Nubosidad: 24.390893 Porcentaje de agua: 0.048363\n",
      "Imagen # 97 2022-07-11 00:00:00 Nubosidad: 14.911483 Porcentaje de agua: 0.163984\n",
      "Imagen # 98 2022-07-13 00:00:00 Nubosidad: 14.856972 Porcentaje de agua: 0.096905\n",
      "Imagen # 99 2022-07-16 00:00:00 Nubosidad: 89.055783 Porcentaje de agua: 0.010469\n",
      "Imagen # 100 2022-07-18 00:00:00 Nubosidad: 2.49722 Porcentaje de agua: 0.100675\n",
      "Imagen # 101 2022-07-21 00:00:00 Nubosidad: 1.065042 Porcentaje de agua: 0.150049\n",
      "Imagen # 102 2022-07-23 00:00:00 Nubosidad: 9.154432 Porcentaje de agua: 0.077517\n",
      "Imagen # 103 2022-07-26 00:00:00 Nubosidad: 34.138745 Porcentaje de agua: 0.117533\n",
      "Imagen # 104 2022-07-28 00:00:00 Nubosidad: 37.009576 Porcentaje de agua: 0.059523\n",
      "Imagen # 105 2022-07-31 00:00:00 Nubosidad: 24.678527 Porcentaje de agua: 0.132309\n",
      "Imagen # 106 2022-08-02 00:00:00 Nubosidad: 87.841094 Porcentaje de agua: 0.001102\n",
      "Imagen # 107 2022-08-05 00:00:00 Nubosidad: 11.414251 Porcentaje de agua: 0.163625\n",
      "Imagen # 108 2022-08-07 00:00:00 Nubosidad: 19.777171 Porcentaje de agua: 0.073122\n",
      "Imagen # 109 2022-08-10 00:00:00 Nubosidad: 53.613538 Porcentaje de agua: 0.06207800000000001\n",
      "Imagen # 110 2022-08-12 00:00:00 Nubosidad: 17.62259 Porcentaje de agua: 0.090393\n",
      "Imagen # 111 2022-08-15 00:00:00 Nubosidad: 72.714883 Porcentaje de agua: 0.042472\n",
      "Imagen # 112 2022-08-17 00:00:00 Nubosidad: 82.012099 Porcentaje de agua: 0.003541\n",
      "Imagen # 113 2022-08-20 00:00:00 Nubosidad: 29.99554 Porcentaje de agua: 0.126715\n",
      "Imagen # 114 2022-08-22 00:00:00 Nubosidad: 10.627671 Porcentaje de agua: 0.106169\n",
      "Imagen # 115 2022-08-27 00:00:00 Nubosidad: 6.114978 Porcentaje de agua: 0.057745\n",
      "Imagen # 116 2022-08-30 00:00:00 Nubosidad: 48.430532 Porcentaje de agua: 0.084275\n",
      "Imagen # 117 2022-09-01 00:00:00 Nubosidad: 15.036875 Porcentaje de agua: 0.073404\n",
      "Imagen # 118 2022-09-04 00:00:00 Nubosidad: 64.277804 Porcentaje de agua: 0.040914\n",
      "Imagen # 119 2022-09-06 00:00:00 Nubosidad: 76.771283 Porcentaje de agua: 0.030564\n",
      "Imagen # 120 2022-09-09 00:00:00 Nubosidad: 79.910773 Porcentaje de agua: 0.033413\n",
      "Imagen # 121 2022-09-11 00:00:00 Nubosidad: 51.820719 Porcentaje de agua: 0.067401\n",
      "Imagen # 122 2022-09-14 00:00:00 Nubosidad: 3.052217 Porcentaje de agua: 0.250878\n",
      "Imagen # 123 2022-09-16 00:00:00 Nubosidad: 93.513471 Porcentaje de agua: 0.013372\n",
      "Imagen # 124 2022-09-19 00:00:00 Nubosidad: 90.914011 Porcentaje de agua: 0.013223\n",
      "Imagen # 125 2022-09-21 00:00:00 Nubosidad: 20.657311 Porcentaje de agua: 0.086646\n",
      "Imagen # 126 2022-09-24 00:00:00 Nubosidad: 2.285172 Porcentaje de agua: 0.264026\n",
      "Imagen # 127 2022-09-26 00:00:00 Nubosidad: 52.197385 Porcentaje de agua: 0.055144\n",
      "Imagen # 128 2022-09-29 00:00:00 Nubosidad: 0.009366 Porcentaje de agua: 0.271237\n",
      "Imagen # 129 2022-10-01 00:00:00 Nubosidad: 0.000275 Porcentaje de agua: 0.11460300000000001\n",
      "Imagen # 130 2022-10-04 00:00:00 Nubosidad: 57.138658 Porcentaje de agua: 0.099925\n",
      "Imagen # 131 2022-10-06 00:00:00 Nubosidad: 90.72665 Porcentaje de agua: 0.034858\n",
      "Imagen # 132 2022-10-09 00:00:00 Nubosidad: 52.561396 Porcentaje de agua: 0.120194\n",
      "Imagen # 133 2022-10-11 00:00:00 Nubosidad: 0.353118 Porcentaje de agua: 0.123147\n",
      "Imagen # 134 2022-10-14 00:00:00 Nubosidad: 6.671166 Porcentaje de agua: 0.263371\n",
      "Imagen # 135 2022-10-16 00:00:00 Nubosidad: 0.000306 Porcentaje de agua: 0.12364399999999999\n",
      "Imagen # 136 2022-10-19 00:00:00 Nubosidad: 74.877483 Porcentaje de agua: 0.032637\n",
      "Imagen # 137 2022-10-21 00:00:00 Nubosidad: 0.027369 Porcentaje de agua: 0.065379\n",
      "Imagen # 138 2022-10-24 00:00:00 Nubosidad: 5.40233 Porcentaje de agua: 0.230731\n",
      "Imagen # 139 2022-10-26 00:00:00 Nubosidad: 0.000244 Porcentaje de agua: 0.119429\n",
      "Imagen # 140 2022-10-29 00:00:00 Nubosidad: 0.004024 Porcentaje de agua: 0.277839\n",
      "Imagen # 141 2022-10-31 00:00:00 Nubosidad: 0.000169 Porcentaje de agua: 0.109086\n",
      "Imagen # 142 2022-11-03 00:00:00 Nubosidad: 0.487663 Porcentaje de agua: 0.258748\n",
      "Imagen # 143 2022-11-05 00:00:00 Nubosidad: 0.000874 Porcentaje de agua: 0.110674\n",
      "Imagen # 144 2022-11-08 00:00:00 Nubosidad: 3.268439 Porcentaje de agua: 0.26542\n",
      "Imagen # 145 2022-11-10 00:00:00 Nubosidad: 0.001165 Porcentaje de agua: 0.101402\n",
      "Imagen # 146 2022-11-13 00:00:00 Nubosidad: 0.000192 Porcentaje de agua: 0.263646\n"
     ]
    }
   ],
   "source": [
    "# DF de informacion\n",
    "sentinel_df = pd.DataFrame(img_info(range(sentinel.size().getInfo())), columns = [\"img_id\", \"date\", \"cloud_cover\", \"vegetation_percentage\", \"water_percentage\"])"
   ]
  },
  {
   "cell_type": "code",
   "execution_count": 73,
   "metadata": {},
   "outputs": [
    {
     "name": "stdout",
     "output_type": "stream",
     "text": [
      "Imagen # 88 2022-06-18 Nubosidad: 16.573383 Porcentaje de agua: 0.099891\n"
     ]
    },
    {
     "data": {
      "text/html": [
       "<img src=\"https://earthengine.googleapis.com/v1alpha/projects/earthengine-legacy/thumbnails/3aec4345bde905a9d09f30031d666521-b6ad0d9c96b2131b1c908194917eb801:getPixels\"/>"
      ],
      "text/plain": [
       "<IPython.core.display.Image object>"
      ]
     },
     "metadata": {},
     "output_type": "display_data"
    }
   ],
   "source": [
    "# Imagenes recolectadas\n",
    "parameters = {\n",
    "    \"min\":0, # 0 bueno\n",
    "    \"max\":3000, # 3000 bueno\n",
    "    \"dimensions\":800, # Tamaño cuadrado en pixeles\n",
    "    \"bands\": [\"B4\", \"B3\", \"B2\"] # (R, G, B)\n",
    "}\n",
    "\n",
    "display_img([88], parameters = parameters)"
   ]
  },
  {
   "cell_type": "code",
   "execution_count": 74,
   "metadata": {},
   "outputs": [
    {
     "data": {
      "text/html": [
       "<div>\n",
       "<style scoped>\n",
       "    .dataframe tbody tr th:only-of-type {\n",
       "        vertical-align: middle;\n",
       "    }\n",
       "\n",
       "    .dataframe tbody tr th {\n",
       "        vertical-align: top;\n",
       "    }\n",
       "\n",
       "    .dataframe thead th {\n",
       "        text-align: right;\n",
       "    }\n",
       "</style>\n",
       "<table border=\"1\" class=\"dataframe\">\n",
       "  <thead>\n",
       "    <tr style=\"text-align: right;\">\n",
       "      <th></th>\n",
       "      <th>img_id</th>\n",
       "      <th>date</th>\n",
       "      <th>cloud_cover</th>\n",
       "      <th>water_percentage</th>\n",
       "    </tr>\n",
       "  </thead>\n",
       "  <tbody>\n",
       "    <tr>\n",
       "      <th>0</th>\n",
       "      <td>0</td>\n",
       "      <td>2021-11-03</td>\n",
       "      <td>0.187117</td>\n",
       "      <td>0.382350</td>\n",
       "    </tr>\n",
       "    <tr>\n",
       "      <th>1</th>\n",
       "      <td>1</td>\n",
       "      <td>2021-11-05</td>\n",
       "      <td>0.576502</td>\n",
       "      <td>0.273206</td>\n",
       "    </tr>\n",
       "    <tr>\n",
       "      <th>2</th>\n",
       "      <td>2</td>\n",
       "      <td>2021-11-10</td>\n",
       "      <td>54.052523</td>\n",
       "      <td>0.052212</td>\n",
       "    </tr>\n",
       "    <tr>\n",
       "      <th>3</th>\n",
       "      <td>3</td>\n",
       "      <td>2021-11-13</td>\n",
       "      <td>35.121469</td>\n",
       "      <td>0.224204</td>\n",
       "    </tr>\n",
       "    <tr>\n",
       "      <th>4</th>\n",
       "      <td>4</td>\n",
       "      <td>2021-11-15</td>\n",
       "      <td>0.242730</td>\n",
       "      <td>0.233653</td>\n",
       "    </tr>\n",
       "  </tbody>\n",
       "</table>\n",
       "</div>"
      ],
      "text/plain": [
       "   img_id       date  cloud_cover  water_percentage\n",
       "0       0 2021-11-03     0.187117          0.382350\n",
       "1       1 2021-11-05     0.576502          0.273206\n",
       "2       2 2021-11-10    54.052523          0.052212\n",
       "3       3 2021-11-13    35.121469          0.224204\n",
       "4       4 2021-11-15     0.242730          0.233653"
      ]
     },
     "execution_count": 74,
     "metadata": {},
     "output_type": "execute_result"
    }
   ],
   "source": [
    "# Data frame con  informacion de las imagenes\n",
    "sentinel_df.head() # Con esto se puede filtrar por la nubosidad, la cual parece ser buena por debajo de 10"
   ]
  },
  {
   "cell_type": "markdown",
   "metadata": {},
   "source": [
    "## Filtrado de imagenes"
   ]
  },
  {
   "cell_type": "code",
   "execution_count": 76,
   "metadata": {},
   "outputs": [
    {
     "data": {
      "text/plain": [
       "90"
      ]
     },
     "execution_count": 76,
     "metadata": {},
     "output_type": "execute_result"
    }
   ],
   "source": [
    "# Seleccionar las imagenes que tengan una nubosidad por debajo de 10\n",
    "ids_noClouds = sentinel_df.img_id[sentinel_df.cloud_cover < 10]\n",
    "len(ids_noClouds) # 90 Imagenes "
   ]
  },
  {
   "cell_type": "code",
   "execution_count": 80,
   "metadata": {},
   "outputs": [],
   "source": [
    "# Definir region de interes\n",
    "roi = poi.buffer(5000) # Metros = 5 km"
   ]
  },
  {
   "cell_type": "code",
   "execution_count": 81,
   "metadata": {},
   "outputs": [],
   "source": [
    "# Nuevos parametros para región de interés\n",
    "parameters_roi = {\n",
    "    \"min\":0,\n",
    "    \"max\":3000,\n",
    "    \"dimensions\":800, # Tamaño cuadrado en pixeles\n",
    "    \"bands\": [\"B4\", \"B3\", \"B2\"], # (R, G, B)\n",
    "    \"region\":roi # Region de interes\n",
    "}"
   ]
  },
  {
   "cell_type": "code",
   "execution_count": 82,
   "metadata": {},
   "outputs": [
    {
     "name": "stdout",
     "output_type": "stream",
     "text": [
      "Imagen # 0 2021-11-03 Nubosidad: 0.187117 Porcentaje de agua: 0.38235\n"
     ]
    },
    {
     "data": {
      "text/html": [
       "<img src=\"https://earthengine.googleapis.com/v1alpha/projects/earthengine-legacy/thumbnails/5d2d84f1d466aaed9a5242e5cb43f259-7a19826ecb9eb22111896cf622263a82:getPixels\"/>"
      ],
      "text/plain": [
       "<IPython.core.display.Image object>"
      ]
     },
     "metadata": {},
     "output_type": "display_data"
    }
   ],
   "source": [
    "display_img([0], parameters_roi)"
   ]
  },
  {
   "cell_type": "code",
   "execution_count": 83,
   "metadata": {},
   "outputs": [
    {
     "name": "stdout",
     "output_type": "stream",
     "text": [
      "Imagen # 0 2021-11-03 Nubosidad: 0.187117 Porcentaje de agua: 0.38235\n"
     ]
    },
    {
     "data": {
      "text/html": [
       "<img src=\"https://earthengine.googleapis.com/v1alpha/projects/earthengine-legacy/thumbnails/5d2d84f1d466aaed9a5242e5cb43f259-1dc18e4d9d7d4dcbc3899dd6efe9412e:getPixels\"/>"
      ],
      "text/plain": [
       "<IPython.core.display.Image object>"
      ]
     },
     "metadata": {},
     "output_type": "display_data"
    },
    {
     "name": "stdout",
     "output_type": "stream",
     "text": [
      "Imagen # 1 2021-11-05 Nubosidad: 0.576502 Porcentaje de agua: 0.273206\n"
     ]
    },
    {
     "data": {
      "text/html": [
       "<img src=\"https://earthengine.googleapis.com/v1alpha/projects/earthengine-legacy/thumbnails/afe4a46d3fee79f5eabc030fc65b166d-567dc1f3ce5f7abbd907845c3912a7f3:getPixels\"/>"
      ],
      "text/plain": [
       "<IPython.core.display.Image object>"
      ]
     },
     "metadata": {},
     "output_type": "display_data"
    },
    {
     "name": "stdout",
     "output_type": "stream",
     "text": [
      "Imagen # 4 2021-11-15 Nubosidad: 0.24273 Porcentaje de agua: 0.233653\n"
     ]
    },
    {
     "data": {
      "text/html": [
       "<img src=\"https://earthengine.googleapis.com/v1alpha/projects/earthengine-legacy/thumbnails/2b539803036199407cfca4afa22229a2-921e295e56b5237ff27003b6be8781ee:getPixels\"/>"
      ],
      "text/plain": [
       "<IPython.core.display.Image object>"
      ]
     },
     "metadata": {},
     "output_type": "display_data"
    },
    {
     "name": "stdout",
     "output_type": "stream",
     "text": [
      "Imagen # 5 2021-11-18 Nubosidad: 1.858585 Porcentaje de agua: 0.335685\n"
     ]
    },
    {
     "data": {
      "text/html": [
       "<img src=\"https://earthengine.googleapis.com/v1alpha/projects/earthengine-legacy/thumbnails/79ed283ad60695a017101701f2b24321-33bcdce1866fd707f91a3265644e2af8:getPixels\"/>"
      ],
      "text/plain": [
       "<IPython.core.display.Image object>"
      ]
     },
     "metadata": {},
     "output_type": "display_data"
    },
    {
     "name": "stdout",
     "output_type": "stream",
     "text": [
      "Imagen # 6 2021-11-20 Nubosidad: 0.241683 Porcentaje de agua: 0.260036\n"
     ]
    },
    {
     "data": {
      "text/html": [
       "<img src=\"https://earthengine.googleapis.com/v1alpha/projects/earthengine-legacy/thumbnails/2623b6229adb07efd8e8a9d79d1370a2-66a12bea49b3e5cfb2ca1cc3b83c2997:getPixels\"/>"
      ],
      "text/plain": [
       "<IPython.core.display.Image object>"
      ]
     },
     "metadata": {},
     "output_type": "display_data"
    },
    {
     "name": "stdout",
     "output_type": "stream",
     "text": [
      "Imagen # 7 2021-11-23 Nubosidad: 0.945583 Porcentaje de agua: 0.384063\n"
     ]
    },
    {
     "data": {
      "text/html": [
       "<img src=\"https://earthengine.googleapis.com/v1alpha/projects/earthengine-legacy/thumbnails/f4d496e3b40356180c516e297db8eca8-2d56f09a6d752ddba775f8f787969382:getPixels\"/>"
      ],
      "text/plain": [
       "<IPython.core.display.Image object>"
      ]
     },
     "metadata": {},
     "output_type": "display_data"
    },
    {
     "name": "stdout",
     "output_type": "stream",
     "text": [
      "Imagen # 8 2021-11-25 Nubosidad: 0.478377 Porcentaje de agua: 0.225956\n"
     ]
    },
    {
     "data": {
      "text/html": [
       "<img src=\"https://earthengine.googleapis.com/v1alpha/projects/earthengine-legacy/thumbnails/47b22d943a9005aa24dc1f92164d82f3-9f6841e867d9332755ff21539838c52d:getPixels\"/>"
      ],
      "text/plain": [
       "<IPython.core.display.Image object>"
      ]
     },
     "metadata": {},
     "output_type": "display_data"
    },
    {
     "name": "stdout",
     "output_type": "stream",
     "text": [
      "Imagen # 9 2021-11-28 Nubosidad: 8.957708 Porcentaje de agua: 0.253872\n"
     ]
    },
    {
     "data": {
      "text/html": [
       "<img src=\"https://earthengine.googleapis.com/v1alpha/projects/earthengine-legacy/thumbnails/4be494d8d6b6b2ca96f4eca8ac1fb877-a074e412f444cecd9e164dc7def5c73b:getPixels\"/>"
      ],
      "text/plain": [
       "<IPython.core.display.Image object>"
      ]
     },
     "metadata": {},
     "output_type": "display_data"
    },
    {
     "name": "stdout",
     "output_type": "stream",
     "text": [
      "Imagen # 10 2021-11-30 Nubosidad: 0.299219 Porcentaje de agua: 0.237274\n"
     ]
    },
    {
     "data": {
      "text/html": [
       "<img src=\"https://earthengine.googleapis.com/v1alpha/projects/earthengine-legacy/thumbnails/50e67b4ec7e9e486ce3f5cbcd5015793-90137e5211bdd738c4fd607ffbe27970:getPixels\"/>"
      ],
      "text/plain": [
       "<IPython.core.display.Image object>"
      ]
     },
     "metadata": {},
     "output_type": "display_data"
    },
    {
     "name": "stdout",
     "output_type": "stream",
     "text": [
      "Imagen # 11 2021-12-03 Nubosidad: 2.284935 Porcentaje de agua: 0.344048\n"
     ]
    },
    {
     "data": {
      "text/html": [
       "<img src=\"https://earthengine.googleapis.com/v1alpha/projects/earthengine-legacy/thumbnails/ccc675a097b70c5ddaf593dbc100d89b-5281cc0d648560a916abffbdfe2d127c:getPixels\"/>"
      ],
      "text/plain": [
       "<IPython.core.display.Image object>"
      ]
     },
     "metadata": {},
     "output_type": "display_data"
    },
    {
     "name": "stdout",
     "output_type": "stream",
     "text": [
      "Imagen # 13 2021-12-08 Nubosidad: 0.057873 Porcentaje de agua: 0.27861\n"
     ]
    },
    {
     "data": {
      "text/html": [
       "<img src=\"https://earthengine.googleapis.com/v1alpha/projects/earthengine-legacy/thumbnails/5bc6b103bca465e55a30ecdff5cf86fb-5aab97241f3df168105d1e2967fd6441:getPixels\"/>"
      ],
      "text/plain": [
       "<IPython.core.display.Image object>"
      ]
     },
     "metadata": {},
     "output_type": "display_data"
    },
    {
     "name": "stdout",
     "output_type": "stream",
     "text": [
      "Imagen # 15 2021-12-15 Nubosidad: 0.360494 Porcentaje de agua: 0.218051\n"
     ]
    },
    {
     "data": {
      "text/html": [
       "<img src=\"https://earthengine.googleapis.com/v1alpha/projects/earthengine-legacy/thumbnails/977202ad1cdd0475e94c95532f0cddd4-d7eaa44a7862c96ed4d9b1a957013bb4:getPixels\"/>"
      ],
      "text/plain": [
       "<IPython.core.display.Image object>"
      ]
     },
     "metadata": {},
     "output_type": "display_data"
    },
    {
     "name": "stdout",
     "output_type": "stream",
     "text": [
      "Imagen # 17 2021-12-20 Nubosidad: 1.090022 Porcentaje de agua: 0.227823\n"
     ]
    },
    {
     "data": {
      "text/html": [
       "<img src=\"https://earthengine.googleapis.com/v1alpha/projects/earthengine-legacy/thumbnails/2a17725320064fbae31804dd23044af2-db8500a69174f1690266df9017169fcf:getPixels\"/>"
      ],
      "text/plain": [
       "<IPython.core.display.Image object>"
      ]
     },
     "metadata": {},
     "output_type": "display_data"
    },
    {
     "name": "stdout",
     "output_type": "stream",
     "text": [
      "Imagen # 18 2021-12-23 Nubosidad: 0.12131 Porcentaje de agua: 0.371746\n"
     ]
    },
    {
     "data": {
      "text/html": [
       "<img src=\"https://earthengine.googleapis.com/v1alpha/projects/earthengine-legacy/thumbnails/a0599252f92ba04b01921b8bceecb513-16ae6890d0de73fbb7de346d1534a879:getPixels\"/>"
      ],
      "text/plain": [
       "<IPython.core.display.Image object>"
      ]
     },
     "metadata": {},
     "output_type": "display_data"
    },
    {
     "name": "stdout",
     "output_type": "stream",
     "text": [
      "Imagen # 19 2021-12-25 Nubosidad: 0.188971 Porcentaje de agua: 0.240831\n"
     ]
    },
    {
     "data": {
      "text/html": [
       "<img src=\"https://earthengine.googleapis.com/v1alpha/projects/earthengine-legacy/thumbnails/aa78804a38e0d9376e16e570816d5d10-7bd825c8c4fb73750cff034e7d503abd:getPixels\"/>"
      ],
      "text/plain": [
       "<IPython.core.display.Image object>"
      ]
     },
     "metadata": {},
     "output_type": "display_data"
    },
    {
     "name": "stdout",
     "output_type": "stream",
     "text": [
      "Imagen # 20 2021-12-28 Nubosidad: 0.061815 Porcentaje de agua: 0.359213\n"
     ]
    },
    {
     "data": {
      "text/html": [
       "<img src=\"https://earthengine.googleapis.com/v1alpha/projects/earthengine-legacy/thumbnails/c46fd1675efc62fbe96b759f3c9deb04-89e27b90c99994fe44ecd5dae5853665:getPixels\"/>"
      ],
      "text/plain": [
       "<IPython.core.display.Image object>"
      ]
     },
     "metadata": {},
     "output_type": "display_data"
    },
    {
     "name": "stdout",
     "output_type": "stream",
     "text": [
      "Imagen # 21 2021-12-30 Nubosidad: 0.169917 Porcentaje de agua: 0.247619\n"
     ]
    },
    {
     "data": {
      "text/html": [
       "<img src=\"https://earthengine.googleapis.com/v1alpha/projects/earthengine-legacy/thumbnails/7b3fbe1168ccd3f6f03f653e19cfe759-92492a71cef17c5686cb076af41b92f1:getPixels\"/>"
      ],
      "text/plain": [
       "<IPython.core.display.Image object>"
      ]
     },
     "metadata": {},
     "output_type": "display_data"
    },
    {
     "name": "stdout",
     "output_type": "stream",
     "text": [
      "Imagen # 22 2022-01-02 Nubosidad: 0.047339 Porcentaje de agua: 0.36351\n"
     ]
    },
    {
     "data": {
      "text/html": [
       "<img src=\"https://earthengine.googleapis.com/v1alpha/projects/earthengine-legacy/thumbnails/05317e71e485d77a010264a6436f53cf-8be0165ca92f9af665560bf502f35ad5:getPixels\"/>"
      ],
      "text/plain": [
       "<IPython.core.display.Image object>"
      ]
     },
     "metadata": {},
     "output_type": "display_data"
    },
    {
     "name": "stdout",
     "output_type": "stream",
     "text": [
      "Imagen # 23 2022-01-04 Nubosidad: 0.244781 Porcentaje de agua: 0.231077\n"
     ]
    },
    {
     "data": {
      "text/html": [
       "<img src=\"https://earthengine.googleapis.com/v1alpha/projects/earthengine-legacy/thumbnails/a4f3f5fb351d62ed3f92f54e86ea2321-064ddb20b6a06e996d121b124cc03636:getPixels\"/>"
      ],
      "text/plain": [
       "<IPython.core.display.Image object>"
      ]
     },
     "metadata": {},
     "output_type": "display_data"
    },
    {
     "name": "stdout",
     "output_type": "stream",
     "text": [
      "Imagen # 24 2022-01-07 Nubosidad: 0.082272 Porcentaje de agua: 0.35309\n"
     ]
    },
    {
     "data": {
      "text/html": [
       "<img src=\"https://earthengine.googleapis.com/v1alpha/projects/earthengine-legacy/thumbnails/d11ff6647f4403d8019cec5d3899d9c5-3b2daa858e049832e683f76c92dc3076:getPixels\"/>"
      ],
      "text/plain": [
       "<IPython.core.display.Image object>"
      ]
     },
     "metadata": {},
     "output_type": "display_data"
    },
    {
     "name": "stdout",
     "output_type": "stream",
     "text": [
      "Imagen # 25 2022-01-09 Nubosidad: 0.255978 Porcentaje de agua: 0.226682\n"
     ]
    },
    {
     "data": {
      "text/html": [
       "<img src=\"https://earthengine.googleapis.com/v1alpha/projects/earthengine-legacy/thumbnails/11541dba4f623b31f0d9aa7ab50ef768-c2e7deeba6bab552a70b6a24ee557cae:getPixels\"/>"
      ],
      "text/plain": [
       "<IPython.core.display.Image object>"
      ]
     },
     "metadata": {},
     "output_type": "display_data"
    },
    {
     "name": "stdout",
     "output_type": "stream",
     "text": [
      "Imagen # 27 2022-01-14 Nubosidad: 0.201615 Porcentaje de agua: 0.201678\n"
     ]
    },
    {
     "data": {
      "text/html": [
       "<img src=\"https://earthengine.googleapis.com/v1alpha/projects/earthengine-legacy/thumbnails/16eba7b05cf42bb5942a62e5ea3c1c70-9f1b54ccb3de24b963251e2c0c336ad7:getPixels\"/>"
      ],
      "text/plain": [
       "<IPython.core.display.Image object>"
      ]
     },
     "metadata": {},
     "output_type": "display_data"
    },
    {
     "name": "stdout",
     "output_type": "stream",
     "text": [
      "Imagen # 28 2022-01-17 Nubosidad: 0.474281 Porcentaje de agua: 0.28704\n"
     ]
    },
    {
     "data": {
      "text/html": [
       "<img src=\"https://earthengine.googleapis.com/v1alpha/projects/earthengine-legacy/thumbnails/439eb1e973a3854cc52591676a2e754d-edc3670287367aae7ae998305ba5bd72:getPixels\"/>"
      ],
      "text/plain": [
       "<IPython.core.display.Image object>"
      ]
     },
     "metadata": {},
     "output_type": "display_data"
    },
    {
     "name": "stdout",
     "output_type": "stream",
     "text": [
      "Imagen # 30 2022-01-22 Nubosidad: 7.129203 Porcentaje de agua: 0.305607\n"
     ]
    },
    {
     "data": {
      "text/html": [
       "<img src=\"https://earthengine.googleapis.com/v1alpha/projects/earthengine-legacy/thumbnails/f8bd5ee5481df953d326e9cfe27e0075-3928774557b082d7943e735b90d07ecb:getPixels\"/>"
      ],
      "text/plain": [
       "<IPython.core.display.Image object>"
      ]
     },
     "metadata": {},
     "output_type": "display_data"
    },
    {
     "name": "stdout",
     "output_type": "stream",
     "text": [
      "Imagen # 34 2022-02-01 Nubosidad: 4.4e-05 Porcentaje de agua: 0.354787\n"
     ]
    },
    {
     "data": {
      "text/html": [
       "<img src=\"https://earthengine.googleapis.com/v1alpha/projects/earthengine-legacy/thumbnails/d79fcf8bb2b1fc04fd7cace039322e0f-b718f20d711401e6f11ebc531ac8a582:getPixels\"/>"
      ],
      "text/plain": [
       "<IPython.core.display.Image object>"
      ]
     },
     "metadata": {},
     "output_type": "display_data"
    },
    {
     "name": "stdout",
     "output_type": "stream",
     "text": [
      "Imagen # 35 2022-02-03 Nubosidad: 0.002743 Porcentaje de agua: 0.190341\n"
     ]
    },
    {
     "data": {
      "text/html": [
       "<img src=\"https://earthengine.googleapis.com/v1alpha/projects/earthengine-legacy/thumbnails/2474116174a60ba38c28bf741e8c110d-1fe7c215c450a98a0218d819e4d412ae:getPixels\"/>"
      ],
      "text/plain": [
       "<IPython.core.display.Image object>"
      ]
     },
     "metadata": {},
     "output_type": "display_data"
    },
    {
     "name": "stdout",
     "output_type": "stream",
     "text": [
      "Imagen # 36 2022-02-06 Nubosidad: 1.057134 Porcentaje de agua: 0.317795\n"
     ]
    },
    {
     "data": {
      "text/html": [
       "<img src=\"https://earthengine.googleapis.com/v1alpha/projects/earthengine-legacy/thumbnails/e8e98e167ab648a6b937853f03b61170-ec7a049db11124ff3f6d19d6549eb767:getPixels\"/>"
      ],
      "text/plain": [
       "<IPython.core.display.Image object>"
      ]
     },
     "metadata": {},
     "output_type": "display_data"
    },
    {
     "name": "stdout",
     "output_type": "stream",
     "text": [
      "Imagen # 37 2022-02-08 Nubosidad: 0.078734 Porcentaje de agua: 0.196438\n"
     ]
    },
    {
     "data": {
      "text/html": [
       "<img src=\"https://earthengine.googleapis.com/v1alpha/projects/earthengine-legacy/thumbnails/60067b573eb652e51e8087bb7a16749f-dd6ddba337f76e6baf4a38bea0c01129:getPixels\"/>"
      ],
      "text/plain": [
       "<IPython.core.display.Image object>"
      ]
     },
     "metadata": {},
     "output_type": "display_data"
    },
    {
     "name": "stdout",
     "output_type": "stream",
     "text": [
      "Imagen # 40 2022-02-16 Nubosidad: 5.1e-05 Porcentaje de agua: 0.32236\n"
     ]
    },
    {
     "data": {
      "text/html": [
       "<img src=\"https://earthengine.googleapis.com/v1alpha/projects/earthengine-legacy/thumbnails/ee04be6bec3208f610065cd3bf394ffa-5f38255e0574bb77368de6a3e2559ee3:getPixels\"/>"
      ],
      "text/plain": [
       "<IPython.core.display.Image object>"
      ]
     },
     "metadata": {},
     "output_type": "display_data"
    },
    {
     "name": "stdout",
     "output_type": "stream",
     "text": [
      "Imagen # 41 2022-02-18 Nubosidad: 0.298871 Porcentaje de agua: 0.11659799999999998\n"
     ]
    },
    {
     "data": {
      "text/html": [
       "<img src=\"https://earthengine.googleapis.com/v1alpha/projects/earthengine-legacy/thumbnails/f9512cd4f8168b45b78794a1e3d3bdfc-bb609fd0c5d9250ff5b5fd855caf565b:getPixels\"/>"
      ],
      "text/plain": [
       "<IPython.core.display.Image object>"
      ]
     },
     "metadata": {},
     "output_type": "display_data"
    },
    {
     "name": "stdout",
     "output_type": "stream",
     "text": [
      "Imagen # 42 2022-02-21 Nubosidad: 0.145937 Porcentaje de agua: 0.327054\n"
     ]
    },
    {
     "data": {
      "text/html": [
       "<img src=\"https://earthengine.googleapis.com/v1alpha/projects/earthengine-legacy/thumbnails/d401832972dfe378dfe325027bb2056b-4437c1e25b10d590744bcac8d252d0ab:getPixels\"/>"
      ],
      "text/plain": [
       "<IPython.core.display.Image object>"
      ]
     },
     "metadata": {},
     "output_type": "display_data"
    },
    {
     "name": "stdout",
     "output_type": "stream",
     "text": [
      "Imagen # 43 2022-02-23 Nubosidad: 0.000179 Porcentaje de agua: 0.175866\n"
     ]
    },
    {
     "data": {
      "text/html": [
       "<img src=\"https://earthengine.googleapis.com/v1alpha/projects/earthengine-legacy/thumbnails/5073fb3d61ee202ae3d5f4de42de5697-e75ea893e1b0ecf199f9ed21217a9763:getPixels\"/>"
      ],
      "text/plain": [
       "<IPython.core.display.Image object>"
      ]
     },
     "metadata": {},
     "output_type": "display_data"
    },
    {
     "name": "stdout",
     "output_type": "stream",
     "text": [
      "Imagen # 44 2022-02-26 Nubosidad: 1.400809 Porcentaje de agua: 0.291427\n"
     ]
    },
    {
     "data": {
      "text/html": [
       "<img src=\"https://earthengine.googleapis.com/v1alpha/projects/earthengine-legacy/thumbnails/53a29e7be590bfc15f4d211ef7f1f37b-8a4b778910a038c1cda0fd31c9a53d1c:getPixels\"/>"
      ],
      "text/plain": [
       "<IPython.core.display.Image object>"
      ]
     },
     "metadata": {},
     "output_type": "display_data"
    },
    {
     "name": "stdout",
     "output_type": "stream",
     "text": [
      "Imagen # 45 2022-02-28 Nubosidad: 3.6e-05 Porcentaje de agua: 0.163532\n"
     ]
    },
    {
     "data": {
      "text/html": [
       "<img src=\"https://earthengine.googleapis.com/v1alpha/projects/earthengine-legacy/thumbnails/58e6e43351bd60bda66d73c3674ad583-725c7f2864b070b143d22d3e6a2fab89:getPixels\"/>"
      ],
      "text/plain": [
       "<IPython.core.display.Image object>"
      ]
     },
     "metadata": {},
     "output_type": "display_data"
    },
    {
     "name": "stdout",
     "output_type": "stream",
     "text": [
      "Imagen # 46 2022-03-03 Nubosidad: 7e-06 Porcentaje de agua: 0.307297\n"
     ]
    },
    {
     "data": {
      "text/html": [
       "<img src=\"https://earthengine.googleapis.com/v1alpha/projects/earthengine-legacy/thumbnails/d21355810e5af3cd6118497563b3560e-8f153ea8b9c61c56e1dc0e6296f7414d:getPixels\"/>"
      ],
      "text/plain": [
       "<IPython.core.display.Image object>"
      ]
     },
     "metadata": {},
     "output_type": "display_data"
    },
    {
     "name": "stdout",
     "output_type": "stream",
     "text": [
      "Imagen # 47 2022-03-05 Nubosidad: 0.000106 Porcentaje de agua: 0.150607\n"
     ]
    },
    {
     "data": {
      "text/html": [
       "<img src=\"https://earthengine.googleapis.com/v1alpha/projects/earthengine-legacy/thumbnails/45bedfdbb281a68e9973d8b701a61add-eff497e24b85b342bb8dc48c89c0004c:getPixels\"/>"
      ],
      "text/plain": [
       "<IPython.core.display.Image object>"
      ]
     },
     "metadata": {},
     "output_type": "display_data"
    },
    {
     "name": "stdout",
     "output_type": "stream",
     "text": [
      "Imagen # 48 2022-03-08 Nubosidad: 9.3e-05 Porcentaje de agua: 0.218036\n"
     ]
    },
    {
     "data": {
      "text/html": [
       "<img src=\"https://earthengine.googleapis.com/v1alpha/projects/earthengine-legacy/thumbnails/4e534dea1c229bbcd98a225fbf3a0845-05ab235aa71b99161efd83b1af7d3d2a:getPixels\"/>"
      ],
      "text/plain": [
       "<IPython.core.display.Image object>"
      ]
     },
     "metadata": {},
     "output_type": "display_data"
    },
    {
     "name": "stdout",
     "output_type": "stream",
     "text": [
      "Imagen # 50 2022-03-13 Nubosidad: 6.1e-05 Porcentaje de agua: 0.203544\n"
     ]
    },
    {
     "data": {
      "text/html": [
       "<img src=\"https://earthengine.googleapis.com/v1alpha/projects/earthengine-legacy/thumbnails/91437219d5d6754385df7f19122ad925-a31b68cef5ab86e2cd1ae1f827599603:getPixels\"/>"
      ],
      "text/plain": [
       "<IPython.core.display.Image object>"
      ]
     },
     "metadata": {},
     "output_type": "display_data"
    },
    {
     "name": "stdout",
     "output_type": "stream",
     "text": [
      "Imagen # 51 2022-03-15 Nubosidad: 6.2e-05 Porcentaje de agua: 0.15148\n"
     ]
    },
    {
     "data": {
      "text/html": [
       "<img src=\"https://earthengine.googleapis.com/v1alpha/projects/earthengine-legacy/thumbnails/52460d9027c10c44154d6576b9e99723-57f33853a2aa2ee294215f1c11afe296:getPixels\"/>"
      ],
      "text/plain": [
       "<IPython.core.display.Image object>"
      ]
     },
     "metadata": {},
     "output_type": "display_data"
    },
    {
     "name": "stdout",
     "output_type": "stream",
     "text": [
      "Imagen # 52 2022-03-18 Nubosidad: 0.002993 Porcentaje de agua: 0.239527\n"
     ]
    },
    {
     "data": {
      "text/html": [
       "<img src=\"https://earthengine.googleapis.com/v1alpha/projects/earthengine-legacy/thumbnails/06866eec4587b7108aefd29a5546bd8c-6aba5a27dcf38775308ea88fe94cdabf:getPixels\"/>"
      ],
      "text/plain": [
       "<IPython.core.display.Image object>"
      ]
     },
     "metadata": {},
     "output_type": "display_data"
    },
    {
     "name": "stdout",
     "output_type": "stream",
     "text": [
      "Imagen # 53 2022-03-20 Nubosidad: 0.000162 Porcentaje de agua: 0.155161\n"
     ]
    },
    {
     "data": {
      "text/html": [
       "<img src=\"https://earthengine.googleapis.com/v1alpha/projects/earthengine-legacy/thumbnails/458f6a74799c761b47450690bc64c4e2-afe1703f821bbbed8514f89582ce7246:getPixels\"/>"
      ],
      "text/plain": [
       "<IPython.core.display.Image object>"
      ]
     },
     "metadata": {},
     "output_type": "display_data"
    },
    {
     "name": "stdout",
     "output_type": "stream",
     "text": [
      "Imagen # 54 2022-03-23 Nubosidad: 0.154971 Porcentaje de agua: 0.202159\n"
     ]
    },
    {
     "data": {
      "text/html": [
       "<img src=\"https://earthengine.googleapis.com/v1alpha/projects/earthengine-legacy/thumbnails/de2294c20e7caf8072a2e81799d4f935-2cfa62434a4fdadb02659309072e330b:getPixels\"/>"
      ],
      "text/plain": [
       "<IPython.core.display.Image object>"
      ]
     },
     "metadata": {},
     "output_type": "display_data"
    },
    {
     "name": "stdout",
     "output_type": "stream",
     "text": [
      "Imagen # 55 2022-03-25 Nubosidad: 0.000241 Porcentaje de agua: 0.133161\n"
     ]
    },
    {
     "data": {
      "text/html": [
       "<img src=\"https://earthengine.googleapis.com/v1alpha/projects/earthengine-legacy/thumbnails/8dd280f088aa5d15fbe0f5b0f3d8372c-e587d9e245c666a59ee46c1af5aec4c1:getPixels\"/>"
      ],
      "text/plain": [
       "<IPython.core.display.Image object>"
      ]
     },
     "metadata": {},
     "output_type": "display_data"
    },
    {
     "name": "stdout",
     "output_type": "stream",
     "text": [
      "Imagen # 56 2022-03-28 Nubosidad: 3.1e-05 Porcentaje de agua: 0.209907\n"
     ]
    },
    {
     "data": {
      "text/html": [
       "<img src=\"https://earthengine.googleapis.com/v1alpha/projects/earthengine-legacy/thumbnails/b60dc22e55faf2e5833acd4c12a76cb2-489f08eb03cf2c878bcd6b9e6870be50:getPixels\"/>"
      ],
      "text/plain": [
       "<IPython.core.display.Image object>"
      ]
     },
     "metadata": {},
     "output_type": "display_data"
    },
    {
     "name": "stdout",
     "output_type": "stream",
     "text": [
      "Imagen # 57 2022-03-30 Nubosidad: 0.010731 Porcentaje de agua: 0.09509\n"
     ]
    },
    {
     "data": {
      "text/html": [
       "<img src=\"https://earthengine.googleapis.com/v1alpha/projects/earthengine-legacy/thumbnails/437bab08c88f1f014d3da39e07c3fd97-48ac5dfcfa164feef07793cd82c251d6:getPixels\"/>"
      ],
      "text/plain": [
       "<IPython.core.display.Image object>"
      ]
     },
     "metadata": {},
     "output_type": "display_data"
    },
    {
     "name": "stdout",
     "output_type": "stream",
     "text": [
      "Imagen # 58 2022-04-02 Nubosidad: 5.1e-05 Porcentaje de agua: 0.19865\n"
     ]
    },
    {
     "data": {
      "text/html": [
       "<img src=\"https://earthengine.googleapis.com/v1alpha/projects/earthengine-legacy/thumbnails/e7ca40b41177e5f1944f28e5e5c7da7b-2a0fd8390516e09a52a2b16be46ad24d:getPixels\"/>"
      ],
      "text/plain": [
       "<IPython.core.display.Image object>"
      ]
     },
     "metadata": {},
     "output_type": "display_data"
    },
    {
     "ename": "KeyboardInterrupt",
     "evalue": "",
     "output_type": "error",
     "traceback": [
      "\u001b[1;31m---------------------------------------------------------------------------\u001b[0m",
      "\u001b[1;31mKeyboardInterrupt\u001b[0m                         Traceback (most recent call last)",
      "Cell \u001b[1;32mIn [83], line 2\u001b[0m\n\u001b[0;32m      1\u001b[0m \u001b[39m# Imagenes con zoom en la ciudad de Ags\u001b[39;00m\n\u001b[1;32m----> 2\u001b[0m display_img(ids_noClouds, parameters \u001b[39m=\u001b[39;49m parameters_roi)\n",
      "Cell \u001b[1;32mIn [58], line 13\u001b[0m, in \u001b[0;36mdisplay_img\u001b[1;34m(ids, parameters, ndvi_display)\u001b[0m\n\u001b[0;32m     10\u001b[0m date \u001b[39m=\u001b[39m datetime\u001b[39m.\u001b[39mstrptime(re\u001b[39m.\u001b[39mfindall(\u001b[39m\"\u001b[39m\u001b[39m(?<=\u001b[39m\u001b[39m\\\u001b[39m\u001b[39m_)\u001b[39m\u001b[39m\\\\\u001b[39;00m\u001b[39md+(?=T)\u001b[39m\u001b[39m\"\u001b[39m, ee\u001b[39m.\u001b[39mImage(sentinel_list\u001b[39m.\u001b[39mget(i))\u001b[39m.\u001b[39mget(\u001b[39m\"\u001b[39m\u001b[39mDATATAKE_IDENTIFIER\u001b[39m\u001b[39m\"\u001b[39m)\u001b[39m.\u001b[39mgetInfo())[\u001b[39m0\u001b[39m], \u001b[39m\"\u001b[39m\u001b[39m%\u001b[39m\u001b[39mY\u001b[39m\u001b[39m%\u001b[39m\u001b[39mm\u001b[39m\u001b[39m%d\u001b[39;00m\u001b[39m\"\u001b[39m)\u001b[39m.\u001b[39mdate()\n\u001b[0;32m     12\u001b[0m \u001b[39m# Nubosidad\u001b[39;00m\n\u001b[1;32m---> 13\u001b[0m cloud \u001b[39m=\u001b[39m ee\u001b[39m.\u001b[39;49mImage(sentinel_list\u001b[39m.\u001b[39;49mget(i))\u001b[39m.\u001b[39;49mget(\u001b[39m\"\u001b[39;49m\u001b[39mCLOUDY_PIXEL_PERCENTAGE\u001b[39;49m\u001b[39m\"\u001b[39;49m)\u001b[39m.\u001b[39;49mgetInfo()\n\u001b[0;32m     15\u001b[0m \u001b[39m# Porcentaje de vegetación\u001b[39;00m\n\u001b[0;32m     16\u001b[0m veg \u001b[39m=\u001b[39m ee\u001b[39m.\u001b[39mImage(sentinel_list\u001b[39m.\u001b[39mget(i))\u001b[39m.\u001b[39mget(\u001b[39m\"\u001b[39m\u001b[39mVEGETATION_PERCENTAGE\u001b[39m\u001b[39m\"\u001b[39m)\u001b[39m.\u001b[39mgetInfo()\n",
      "File \u001b[1;32mc:\\Users\\Erick\\OneDrive\\Documentos\\projects\\rs_streets\\.conda\\lib\\site-packages\\ee\\computedobject.py:98\u001b[0m, in \u001b[0;36mComputedObject.getInfo\u001b[1;34m(self)\u001b[0m\n\u001b[0;32m     92\u001b[0m \u001b[39mdef\u001b[39;00m \u001b[39mgetInfo\u001b[39m(\u001b[39mself\u001b[39m):\n\u001b[0;32m     93\u001b[0m   \u001b[39m\"\"\"Fetch and return information about this object.\u001b[39;00m\n\u001b[0;32m     94\u001b[0m \n\u001b[0;32m     95\u001b[0m \u001b[39m  Returns:\u001b[39;00m\n\u001b[0;32m     96\u001b[0m \u001b[39m    The object can evaluate to anything.\u001b[39;00m\n\u001b[0;32m     97\u001b[0m \u001b[39m  \"\"\"\u001b[39;00m\n\u001b[1;32m---> 98\u001b[0m   \u001b[39mreturn\u001b[39;00m data\u001b[39m.\u001b[39;49mcomputeValue(\u001b[39mself\u001b[39;49m)\n",
      "File \u001b[1;32mc:\\Users\\Erick\\OneDrive\\Documentos\\projects\\rs_streets\\.conda\\lib\\site-packages\\ee\\data.py:757\u001b[0m, in \u001b[0;36mcomputeValue\u001b[1;34m(obj)\u001b[0m\n\u001b[0;32m    754\u001b[0m \u001b[39mif\u001b[39;00m workload_tag:\n\u001b[0;32m    755\u001b[0m   body[\u001b[39m'\u001b[39m\u001b[39mworkloadTag\u001b[39m\u001b[39m'\u001b[39m] \u001b[39m=\u001b[39m workload_tag\n\u001b[1;32m--> 757\u001b[0m \u001b[39mreturn\u001b[39;00m _execute_cloud_call(\n\u001b[0;32m    758\u001b[0m     _get_cloud_api_resource()\u001b[39m.\u001b[39;49mprojects()\u001b[39m.\u001b[39;49mvalue()\u001b[39m.\u001b[39;49mcompute(\n\u001b[0;32m    759\u001b[0m         body\u001b[39m=\u001b[39;49mbody,\n\u001b[0;32m    760\u001b[0m         project\u001b[39m=\u001b[39;49m_get_projects_path(),\n\u001b[0;32m    761\u001b[0m         prettyPrint\u001b[39m=\u001b[39;49m\u001b[39mFalse\u001b[39;49;00m))[\u001b[39m'\u001b[39m\u001b[39mresult\u001b[39m\u001b[39m'\u001b[39m]\n",
      "File \u001b[1;32mc:\\Users\\Erick\\OneDrive\\Documentos\\projects\\rs_streets\\.conda\\lib\\site-packages\\ee\\data.py:328\u001b[0m, in \u001b[0;36m_execute_cloud_call\u001b[1;34m(call, num_retries)\u001b[0m\n\u001b[0;32m    314\u001b[0m \u001b[39m\"\"\"Executes a Cloud API call and translates errors to EEExceptions.\u001b[39;00m\n\u001b[0;32m    315\u001b[0m \n\u001b[0;32m    316\u001b[0m \u001b[39mArgs:\u001b[39;00m\n\u001b[1;32m   (...)\u001b[0m\n\u001b[0;32m    325\u001b[0m \u001b[39m  EEException if the call fails.\u001b[39;00m\n\u001b[0;32m    326\u001b[0m \u001b[39m\"\"\"\u001b[39;00m\n\u001b[0;32m    327\u001b[0m \u001b[39mtry\u001b[39;00m:\n\u001b[1;32m--> 328\u001b[0m   \u001b[39mreturn\u001b[39;00m call\u001b[39m.\u001b[39;49mexecute(num_retries\u001b[39m=\u001b[39;49mnum_retries)\n\u001b[0;32m    329\u001b[0m \u001b[39mexcept\u001b[39;00m googleapiclient\u001b[39m.\u001b[39merrors\u001b[39m.\u001b[39mHttpError \u001b[39mas\u001b[39;00m e:\n\u001b[0;32m    330\u001b[0m   \u001b[39mraise\u001b[39;00m _translate_cloud_exception(e)\n",
      "File \u001b[1;32mc:\\Users\\Erick\\OneDrive\\Documentos\\projects\\rs_streets\\.conda\\lib\\site-packages\\googleapiclient\\_helpers.py:134\u001b[0m, in \u001b[0;36mpositional.<locals>.positional_decorator.<locals>.positional_wrapper\u001b[1;34m(*args, **kwargs)\u001b[0m\n\u001b[0;32m    132\u001b[0m     \u001b[39melif\u001b[39;00m positional_parameters_enforcement \u001b[39m==\u001b[39m POSITIONAL_WARNING:\n\u001b[0;32m    133\u001b[0m         logger\u001b[39m.\u001b[39mwarning(message)\n\u001b[1;32m--> 134\u001b[0m \u001b[39mreturn\u001b[39;00m wrapped(\u001b[39m*\u001b[39margs, \u001b[39m*\u001b[39m\u001b[39m*\u001b[39mkwargs)\n",
      "File \u001b[1;32mc:\\Users\\Erick\\OneDrive\\Documentos\\projects\\rs_streets\\.conda\\lib\\site-packages\\googleapiclient\\http.py:900\u001b[0m, in \u001b[0;36mHttpRequest.execute\u001b[1;34m(self, http, num_retries)\u001b[0m\n\u001b[0;32m    897\u001b[0m     \u001b[39mself\u001b[39m\u001b[39m.\u001b[39mheaders[\u001b[39m\"\u001b[39m\u001b[39mcontent-length\u001b[39m\u001b[39m\"\u001b[39m] \u001b[39m=\u001b[39m \u001b[39mstr\u001b[39m(\u001b[39mlen\u001b[39m(\u001b[39mself\u001b[39m\u001b[39m.\u001b[39mbody))\n\u001b[0;32m    899\u001b[0m \u001b[39m# Handle retries for server-side errors.\u001b[39;00m\n\u001b[1;32m--> 900\u001b[0m resp, content \u001b[39m=\u001b[39m _retry_request(\n\u001b[0;32m    901\u001b[0m     http,\n\u001b[0;32m    902\u001b[0m     num_retries,\n\u001b[0;32m    903\u001b[0m     \u001b[39m\"\u001b[39;49m\u001b[39mrequest\u001b[39;49m\u001b[39m\"\u001b[39;49m,\n\u001b[0;32m    904\u001b[0m     \u001b[39mself\u001b[39;49m\u001b[39m.\u001b[39;49m_sleep,\n\u001b[0;32m    905\u001b[0m     \u001b[39mself\u001b[39;49m\u001b[39m.\u001b[39;49m_rand,\n\u001b[0;32m    906\u001b[0m     \u001b[39mstr\u001b[39;49m(\u001b[39mself\u001b[39;49m\u001b[39m.\u001b[39;49muri),\n\u001b[0;32m    907\u001b[0m     method\u001b[39m=\u001b[39;49m\u001b[39mstr\u001b[39;49m(\u001b[39mself\u001b[39;49m\u001b[39m.\u001b[39;49mmethod),\n\u001b[0;32m    908\u001b[0m     body\u001b[39m=\u001b[39;49m\u001b[39mself\u001b[39;49m\u001b[39m.\u001b[39;49mbody,\n\u001b[0;32m    909\u001b[0m     headers\u001b[39m=\u001b[39;49m\u001b[39mself\u001b[39;49m\u001b[39m.\u001b[39;49mheaders,\n\u001b[0;32m    910\u001b[0m )\n\u001b[0;32m    912\u001b[0m \u001b[39mfor\u001b[39;00m callback \u001b[39min\u001b[39;00m \u001b[39mself\u001b[39m\u001b[39m.\u001b[39mresponse_callbacks:\n\u001b[0;32m    913\u001b[0m     callback(resp)\n",
      "File \u001b[1;32mc:\\Users\\Erick\\OneDrive\\Documentos\\projects\\rs_streets\\.conda\\lib\\site-packages\\googleapiclient\\http.py:177\u001b[0m, in \u001b[0;36m_retry_request\u001b[1;34m(http, num_retries, req_type, sleep, rand, uri, method, *args, **kwargs)\u001b[0m\n\u001b[0;32m    175\u001b[0m \u001b[39mtry\u001b[39;00m:\n\u001b[0;32m    176\u001b[0m     exception \u001b[39m=\u001b[39m \u001b[39mNone\u001b[39;00m\n\u001b[1;32m--> 177\u001b[0m     resp, content \u001b[39m=\u001b[39m http\u001b[39m.\u001b[39mrequest(uri, method, \u001b[39m*\u001b[39margs, \u001b[39m*\u001b[39m\u001b[39m*\u001b[39mkwargs)\n\u001b[0;32m    178\u001b[0m \u001b[39m# Retry on SSL errors and socket timeout errors.\u001b[39;00m\n\u001b[0;32m    179\u001b[0m \u001b[39mexcept\u001b[39;00m _ssl_SSLError \u001b[39mas\u001b[39;00m ssl_error:\n",
      "File \u001b[1;32mc:\\Users\\Erick\\OneDrive\\Documentos\\projects\\rs_streets\\.conda\\lib\\site-packages\\google_auth_httplib2.py:218\u001b[0m, in \u001b[0;36mAuthorizedHttp.request\u001b[1;34m(self, uri, method, body, headers, redirections, connection_type, **kwargs)\u001b[0m\n\u001b[0;32m    215\u001b[0m     body_stream_position \u001b[39m=\u001b[39m body\u001b[39m.\u001b[39mtell()\n\u001b[0;32m    217\u001b[0m \u001b[39m# Make the request.\u001b[39;00m\n\u001b[1;32m--> 218\u001b[0m response, content \u001b[39m=\u001b[39m \u001b[39mself\u001b[39m\u001b[39m.\u001b[39mhttp\u001b[39m.\u001b[39mrequest(\n\u001b[0;32m    219\u001b[0m     uri,\n\u001b[0;32m    220\u001b[0m     method,\n\u001b[0;32m    221\u001b[0m     body\u001b[39m=\u001b[39mbody,\n\u001b[0;32m    222\u001b[0m     headers\u001b[39m=\u001b[39mrequest_headers,\n\u001b[0;32m    223\u001b[0m     redirections\u001b[39m=\u001b[39mredirections,\n\u001b[0;32m    224\u001b[0m     connection_type\u001b[39m=\u001b[39mconnection_type,\n\u001b[0;32m    225\u001b[0m     \u001b[39m*\u001b[39m\u001b[39m*\u001b[39mkwargs\n\u001b[0;32m    226\u001b[0m )\n\u001b[0;32m    228\u001b[0m \u001b[39m# If the response indicated that the credentials needed to be\u001b[39;00m\n\u001b[0;32m    229\u001b[0m \u001b[39m# refreshed, then refresh the credentials and re-attempt the\u001b[39;00m\n\u001b[0;32m    230\u001b[0m \u001b[39m# request.\u001b[39;00m\n\u001b[0;32m    231\u001b[0m \u001b[39m# A stored token may expire between the time it is retrieved and\u001b[39;00m\n\u001b[0;32m    232\u001b[0m \u001b[39m# the time the request is made, so we may need to try twice.\u001b[39;00m\n\u001b[0;32m    233\u001b[0m \u001b[39mif\u001b[39;00m (\n\u001b[0;32m    234\u001b[0m     response\u001b[39m.\u001b[39mstatus \u001b[39min\u001b[39;00m \u001b[39mself\u001b[39m\u001b[39m.\u001b[39m_refresh_status_codes\n\u001b[0;32m    235\u001b[0m     \u001b[39mand\u001b[39;00m _credential_refresh_attempt \u001b[39m<\u001b[39m \u001b[39mself\u001b[39m\u001b[39m.\u001b[39m_max_refresh_attempts\n\u001b[0;32m    236\u001b[0m ):\n",
      "File \u001b[1;32mc:\\Users\\Erick\\OneDrive\\Documentos\\projects\\rs_streets\\.conda\\lib\\site-packages\\ee\\_cloud_api_utils.py:63\u001b[0m, in \u001b[0;36m_Http.request\u001b[1;34m(***failed resolving arguments***)\u001b[0m\n\u001b[0;32m     61\u001b[0m \u001b[39mwith\u001b[39;00m requests\u001b[39m.\u001b[39mSession() \u001b[39mas\u001b[39;00m session:\n\u001b[0;32m     62\u001b[0m   session\u001b[39m.\u001b[39mmax_redirects \u001b[39m=\u001b[39m redirections\n\u001b[1;32m---> 63\u001b[0m   response \u001b[39m=\u001b[39m session\u001b[39m.\u001b[39;49mrequest(\n\u001b[0;32m     64\u001b[0m       method, uri, data\u001b[39m=\u001b[39;49mbody, headers\u001b[39m=\u001b[39;49mheaders, timeout\u001b[39m=\u001b[39;49m\u001b[39mself\u001b[39;49m\u001b[39m.\u001b[39;49m_timeout)\n\u001b[0;32m     65\u001b[0m   headers \u001b[39m=\u001b[39m \u001b[39mdict\u001b[39m(response\u001b[39m.\u001b[39mheaders)\n\u001b[0;32m     66\u001b[0m   headers[\u001b[39m'\u001b[39m\u001b[39mstatus\u001b[39m\u001b[39m'\u001b[39m] \u001b[39m=\u001b[39m response\u001b[39m.\u001b[39mstatus_code\n",
      "File \u001b[1;32mc:\\Users\\Erick\\OneDrive\\Documentos\\projects\\rs_streets\\.conda\\lib\\site-packages\\requests\\sessions.py:587\u001b[0m, in \u001b[0;36mSession.request\u001b[1;34m(self, method, url, params, data, headers, cookies, files, auth, timeout, allow_redirects, proxies, hooks, stream, verify, cert, json)\u001b[0m\n\u001b[0;32m    582\u001b[0m send_kwargs \u001b[39m=\u001b[39m {\n\u001b[0;32m    583\u001b[0m     \u001b[39m\"\u001b[39m\u001b[39mtimeout\u001b[39m\u001b[39m\"\u001b[39m: timeout,\n\u001b[0;32m    584\u001b[0m     \u001b[39m\"\u001b[39m\u001b[39mallow_redirects\u001b[39m\u001b[39m\"\u001b[39m: allow_redirects,\n\u001b[0;32m    585\u001b[0m }\n\u001b[0;32m    586\u001b[0m send_kwargs\u001b[39m.\u001b[39mupdate(settings)\n\u001b[1;32m--> 587\u001b[0m resp \u001b[39m=\u001b[39m \u001b[39mself\u001b[39m\u001b[39m.\u001b[39msend(prep, \u001b[39m*\u001b[39m\u001b[39m*\u001b[39msend_kwargs)\n\u001b[0;32m    589\u001b[0m \u001b[39mreturn\u001b[39;00m resp\n",
      "File \u001b[1;32mc:\\Users\\Erick\\OneDrive\\Documentos\\projects\\rs_streets\\.conda\\lib\\site-packages\\requests\\sessions.py:701\u001b[0m, in \u001b[0;36mSession.send\u001b[1;34m(self, request, **kwargs)\u001b[0m\n\u001b[0;32m    698\u001b[0m start \u001b[39m=\u001b[39m preferred_clock()\n\u001b[0;32m    700\u001b[0m \u001b[39m# Send the request\u001b[39;00m\n\u001b[1;32m--> 701\u001b[0m r \u001b[39m=\u001b[39m adapter\u001b[39m.\u001b[39msend(request, \u001b[39m*\u001b[39m\u001b[39m*\u001b[39mkwargs)\n\u001b[0;32m    703\u001b[0m \u001b[39m# Total elapsed time of the request (approximately)\u001b[39;00m\n\u001b[0;32m    704\u001b[0m elapsed \u001b[39m=\u001b[39m preferred_clock() \u001b[39m-\u001b[39m start\n",
      "File \u001b[1;32mc:\\Users\\Erick\\OneDrive\\Documentos\\projects\\rs_streets\\.conda\\lib\\site-packages\\requests\\adapters.py:489\u001b[0m, in \u001b[0;36mHTTPAdapter.send\u001b[1;34m(self, request, stream, timeout, verify, cert, proxies)\u001b[0m\n\u001b[0;32m    487\u001b[0m \u001b[39mtry\u001b[39;00m:\n\u001b[0;32m    488\u001b[0m     \u001b[39mif\u001b[39;00m \u001b[39mnot\u001b[39;00m chunked:\n\u001b[1;32m--> 489\u001b[0m         resp \u001b[39m=\u001b[39m conn\u001b[39m.\u001b[39;49murlopen(\n\u001b[0;32m    490\u001b[0m             method\u001b[39m=\u001b[39;49mrequest\u001b[39m.\u001b[39;49mmethod,\n\u001b[0;32m    491\u001b[0m             url\u001b[39m=\u001b[39;49murl,\n\u001b[0;32m    492\u001b[0m             body\u001b[39m=\u001b[39;49mrequest\u001b[39m.\u001b[39;49mbody,\n\u001b[0;32m    493\u001b[0m             headers\u001b[39m=\u001b[39;49mrequest\u001b[39m.\u001b[39;49mheaders,\n\u001b[0;32m    494\u001b[0m             redirect\u001b[39m=\u001b[39;49m\u001b[39mFalse\u001b[39;49;00m,\n\u001b[0;32m    495\u001b[0m             assert_same_host\u001b[39m=\u001b[39;49m\u001b[39mFalse\u001b[39;49;00m,\n\u001b[0;32m    496\u001b[0m             preload_content\u001b[39m=\u001b[39;49m\u001b[39mFalse\u001b[39;49;00m,\n\u001b[0;32m    497\u001b[0m             decode_content\u001b[39m=\u001b[39;49m\u001b[39mFalse\u001b[39;49;00m,\n\u001b[0;32m    498\u001b[0m             retries\u001b[39m=\u001b[39;49m\u001b[39mself\u001b[39;49m\u001b[39m.\u001b[39;49mmax_retries,\n\u001b[0;32m    499\u001b[0m             timeout\u001b[39m=\u001b[39;49mtimeout,\n\u001b[0;32m    500\u001b[0m         )\n\u001b[0;32m    502\u001b[0m     \u001b[39m# Send the request.\u001b[39;00m\n\u001b[0;32m    503\u001b[0m     \u001b[39melse\u001b[39;00m:\n\u001b[0;32m    504\u001b[0m         \u001b[39mif\u001b[39;00m \u001b[39mhasattr\u001b[39m(conn, \u001b[39m\"\u001b[39m\u001b[39mproxy_pool\u001b[39m\u001b[39m\"\u001b[39m):\n",
      "File \u001b[1;32mc:\\Users\\Erick\\OneDrive\\Documentos\\projects\\rs_streets\\.conda\\lib\\site-packages\\urllib3\\connectionpool.py:703\u001b[0m, in \u001b[0;36mHTTPConnectionPool.urlopen\u001b[1;34m(self, method, url, body, headers, retries, redirect, assert_same_host, timeout, pool_timeout, release_conn, chunked, body_pos, **response_kw)\u001b[0m\n\u001b[0;32m    700\u001b[0m     \u001b[39mself\u001b[39m\u001b[39m.\u001b[39m_prepare_proxy(conn)\n\u001b[0;32m    702\u001b[0m \u001b[39m# Make the request on the httplib connection object.\u001b[39;00m\n\u001b[1;32m--> 703\u001b[0m httplib_response \u001b[39m=\u001b[39m \u001b[39mself\u001b[39;49m\u001b[39m.\u001b[39;49m_make_request(\n\u001b[0;32m    704\u001b[0m     conn,\n\u001b[0;32m    705\u001b[0m     method,\n\u001b[0;32m    706\u001b[0m     url,\n\u001b[0;32m    707\u001b[0m     timeout\u001b[39m=\u001b[39;49mtimeout_obj,\n\u001b[0;32m    708\u001b[0m     body\u001b[39m=\u001b[39;49mbody,\n\u001b[0;32m    709\u001b[0m     headers\u001b[39m=\u001b[39;49mheaders,\n\u001b[0;32m    710\u001b[0m     chunked\u001b[39m=\u001b[39;49mchunked,\n\u001b[0;32m    711\u001b[0m )\n\u001b[0;32m    713\u001b[0m \u001b[39m# If we're going to release the connection in ``finally:``, then\u001b[39;00m\n\u001b[0;32m    714\u001b[0m \u001b[39m# the response doesn't need to know about the connection. Otherwise\u001b[39;00m\n\u001b[0;32m    715\u001b[0m \u001b[39m# it will also try to release it and we'll have a double-release\u001b[39;00m\n\u001b[0;32m    716\u001b[0m \u001b[39m# mess.\u001b[39;00m\n\u001b[0;32m    717\u001b[0m response_conn \u001b[39m=\u001b[39m conn \u001b[39mif\u001b[39;00m \u001b[39mnot\u001b[39;00m release_conn \u001b[39melse\u001b[39;00m \u001b[39mNone\u001b[39;00m\n",
      "File \u001b[1;32mc:\\Users\\Erick\\OneDrive\\Documentos\\projects\\rs_streets\\.conda\\lib\\site-packages\\urllib3\\connectionpool.py:449\u001b[0m, in \u001b[0;36mHTTPConnectionPool._make_request\u001b[1;34m(self, conn, method, url, timeout, chunked, **httplib_request_kw)\u001b[0m\n\u001b[0;32m    444\u001b[0m             httplib_response \u001b[39m=\u001b[39m conn\u001b[39m.\u001b[39mgetresponse()\n\u001b[0;32m    445\u001b[0m         \u001b[39mexcept\u001b[39;00m \u001b[39mBaseException\u001b[39;00m \u001b[39mas\u001b[39;00m e:\n\u001b[0;32m    446\u001b[0m             \u001b[39m# Remove the TypeError from the exception chain in\u001b[39;00m\n\u001b[0;32m    447\u001b[0m             \u001b[39m# Python 3 (including for exceptions like SystemExit).\u001b[39;00m\n\u001b[0;32m    448\u001b[0m             \u001b[39m# Otherwise it looks like a bug in the code.\u001b[39;00m\n\u001b[1;32m--> 449\u001b[0m             six\u001b[39m.\u001b[39;49mraise_from(e, \u001b[39mNone\u001b[39;49;00m)\n\u001b[0;32m    450\u001b[0m \u001b[39mexcept\u001b[39;00m (SocketTimeout, BaseSSLError, SocketError) \u001b[39mas\u001b[39;00m e:\n\u001b[0;32m    451\u001b[0m     \u001b[39mself\u001b[39m\u001b[39m.\u001b[39m_raise_timeout(err\u001b[39m=\u001b[39me, url\u001b[39m=\u001b[39murl, timeout_value\u001b[39m=\u001b[39mread_timeout)\n",
      "File \u001b[1;32m<string>:3\u001b[0m, in \u001b[0;36mraise_from\u001b[1;34m(value, from_value)\u001b[0m\n",
      "File \u001b[1;32mc:\\Users\\Erick\\OneDrive\\Documentos\\projects\\rs_streets\\.conda\\lib\\site-packages\\urllib3\\connectionpool.py:444\u001b[0m, in \u001b[0;36mHTTPConnectionPool._make_request\u001b[1;34m(self, conn, method, url, timeout, chunked, **httplib_request_kw)\u001b[0m\n\u001b[0;32m    441\u001b[0m \u001b[39mexcept\u001b[39;00m \u001b[39mTypeError\u001b[39;00m:\n\u001b[0;32m    442\u001b[0m     \u001b[39m# Python 3\u001b[39;00m\n\u001b[0;32m    443\u001b[0m     \u001b[39mtry\u001b[39;00m:\n\u001b[1;32m--> 444\u001b[0m         httplib_response \u001b[39m=\u001b[39m conn\u001b[39m.\u001b[39;49mgetresponse()\n\u001b[0;32m    445\u001b[0m     \u001b[39mexcept\u001b[39;00m \u001b[39mBaseException\u001b[39;00m \u001b[39mas\u001b[39;00m e:\n\u001b[0;32m    446\u001b[0m         \u001b[39m# Remove the TypeError from the exception chain in\u001b[39;00m\n\u001b[0;32m    447\u001b[0m         \u001b[39m# Python 3 (including for exceptions like SystemExit).\u001b[39;00m\n\u001b[0;32m    448\u001b[0m         \u001b[39m# Otherwise it looks like a bug in the code.\u001b[39;00m\n\u001b[0;32m    449\u001b[0m         six\u001b[39m.\u001b[39mraise_from(e, \u001b[39mNone\u001b[39;00m)\n",
      "File \u001b[1;32mc:\\Users\\Erick\\OneDrive\\Documentos\\projects\\rs_streets\\.conda\\lib\\http\\client.py:1377\u001b[0m, in \u001b[0;36mHTTPConnection.getresponse\u001b[1;34m(self)\u001b[0m\n\u001b[0;32m   1375\u001b[0m \u001b[39mtry\u001b[39;00m:\n\u001b[0;32m   1376\u001b[0m     \u001b[39mtry\u001b[39;00m:\n\u001b[1;32m-> 1377\u001b[0m         response\u001b[39m.\u001b[39;49mbegin()\n\u001b[0;32m   1378\u001b[0m     \u001b[39mexcept\u001b[39;00m \u001b[39mConnectionError\u001b[39;00m:\n\u001b[0;32m   1379\u001b[0m         \u001b[39mself\u001b[39m\u001b[39m.\u001b[39mclose()\n",
      "File \u001b[1;32mc:\\Users\\Erick\\OneDrive\\Documentos\\projects\\rs_streets\\.conda\\lib\\http\\client.py:320\u001b[0m, in \u001b[0;36mHTTPResponse.begin\u001b[1;34m(self)\u001b[0m\n\u001b[0;32m    318\u001b[0m \u001b[39m# read until we get a non-100 response\u001b[39;00m\n\u001b[0;32m    319\u001b[0m \u001b[39mwhile\u001b[39;00m \u001b[39mTrue\u001b[39;00m:\n\u001b[1;32m--> 320\u001b[0m     version, status, reason \u001b[39m=\u001b[39m \u001b[39mself\u001b[39;49m\u001b[39m.\u001b[39;49m_read_status()\n\u001b[0;32m    321\u001b[0m     \u001b[39mif\u001b[39;00m status \u001b[39m!=\u001b[39m CONTINUE:\n\u001b[0;32m    322\u001b[0m         \u001b[39mbreak\u001b[39;00m\n",
      "File \u001b[1;32mc:\\Users\\Erick\\OneDrive\\Documentos\\projects\\rs_streets\\.conda\\lib\\http\\client.py:281\u001b[0m, in \u001b[0;36mHTTPResponse._read_status\u001b[1;34m(self)\u001b[0m\n\u001b[0;32m    280\u001b[0m \u001b[39mdef\u001b[39;00m \u001b[39m_read_status\u001b[39m(\u001b[39mself\u001b[39m):\n\u001b[1;32m--> 281\u001b[0m     line \u001b[39m=\u001b[39m \u001b[39mstr\u001b[39m(\u001b[39mself\u001b[39;49m\u001b[39m.\u001b[39;49mfp\u001b[39m.\u001b[39;49mreadline(_MAXLINE \u001b[39m+\u001b[39;49m \u001b[39m1\u001b[39;49m), \u001b[39m\"\u001b[39m\u001b[39miso-8859-1\u001b[39m\u001b[39m\"\u001b[39m)\n\u001b[0;32m    282\u001b[0m     \u001b[39mif\u001b[39;00m \u001b[39mlen\u001b[39m(line) \u001b[39m>\u001b[39m _MAXLINE:\n\u001b[0;32m    283\u001b[0m         \u001b[39mraise\u001b[39;00m LineTooLong(\u001b[39m\"\u001b[39m\u001b[39mstatus line\u001b[39m\u001b[39m\"\u001b[39m)\n",
      "File \u001b[1;32mc:\\Users\\Erick\\OneDrive\\Documentos\\projects\\rs_streets\\.conda\\lib\\socket.py:704\u001b[0m, in \u001b[0;36mSocketIO.readinto\u001b[1;34m(self, b)\u001b[0m\n\u001b[0;32m    702\u001b[0m \u001b[39mwhile\u001b[39;00m \u001b[39mTrue\u001b[39;00m:\n\u001b[0;32m    703\u001b[0m     \u001b[39mtry\u001b[39;00m:\n\u001b[1;32m--> 704\u001b[0m         \u001b[39mreturn\u001b[39;00m \u001b[39mself\u001b[39;49m\u001b[39m.\u001b[39;49m_sock\u001b[39m.\u001b[39;49mrecv_into(b)\n\u001b[0;32m    705\u001b[0m     \u001b[39mexcept\u001b[39;00m timeout:\n\u001b[0;32m    706\u001b[0m         \u001b[39mself\u001b[39m\u001b[39m.\u001b[39m_timeout_occurred \u001b[39m=\u001b[39m \u001b[39mTrue\u001b[39;00m\n",
      "File \u001b[1;32mc:\\Users\\Erick\\OneDrive\\Documentos\\projects\\rs_streets\\.conda\\lib\\ssl.py:1242\u001b[0m, in \u001b[0;36mSSLSocket.recv_into\u001b[1;34m(self, buffer, nbytes, flags)\u001b[0m\n\u001b[0;32m   1238\u001b[0m     \u001b[39mif\u001b[39;00m flags \u001b[39m!=\u001b[39m \u001b[39m0\u001b[39m:\n\u001b[0;32m   1239\u001b[0m         \u001b[39mraise\u001b[39;00m \u001b[39mValueError\u001b[39;00m(\n\u001b[0;32m   1240\u001b[0m           \u001b[39m\"\u001b[39m\u001b[39mnon-zero flags not allowed in calls to recv_into() on \u001b[39m\u001b[39m%s\u001b[39;00m\u001b[39m\"\u001b[39m \u001b[39m%\u001b[39m\n\u001b[0;32m   1241\u001b[0m           \u001b[39mself\u001b[39m\u001b[39m.\u001b[39m\u001b[39m__class__\u001b[39m)\n\u001b[1;32m-> 1242\u001b[0m     \u001b[39mreturn\u001b[39;00m \u001b[39mself\u001b[39;49m\u001b[39m.\u001b[39;49mread(nbytes, buffer)\n\u001b[0;32m   1243\u001b[0m \u001b[39melse\u001b[39;00m:\n\u001b[0;32m   1244\u001b[0m     \u001b[39mreturn\u001b[39;00m \u001b[39msuper\u001b[39m()\u001b[39m.\u001b[39mrecv_into(buffer, nbytes, flags)\n",
      "File \u001b[1;32mc:\\Users\\Erick\\OneDrive\\Documentos\\projects\\rs_streets\\.conda\\lib\\ssl.py:1100\u001b[0m, in \u001b[0;36mSSLSocket.read\u001b[1;34m(self, len, buffer)\u001b[0m\n\u001b[0;32m   1098\u001b[0m \u001b[39mtry\u001b[39;00m:\n\u001b[0;32m   1099\u001b[0m     \u001b[39mif\u001b[39;00m buffer \u001b[39mis\u001b[39;00m \u001b[39mnot\u001b[39;00m \u001b[39mNone\u001b[39;00m:\n\u001b[1;32m-> 1100\u001b[0m         \u001b[39mreturn\u001b[39;00m \u001b[39mself\u001b[39;49m\u001b[39m.\u001b[39;49m_sslobj\u001b[39m.\u001b[39;49mread(\u001b[39mlen\u001b[39;49m, buffer)\n\u001b[0;32m   1101\u001b[0m     \u001b[39melse\u001b[39;00m:\n\u001b[0;32m   1102\u001b[0m         \u001b[39mreturn\u001b[39;00m \u001b[39mself\u001b[39m\u001b[39m.\u001b[39m_sslobj\u001b[39m.\u001b[39mread(\u001b[39mlen\u001b[39m)\n",
      "\u001b[1;31mKeyboardInterrupt\u001b[0m: "
     ]
    }
   ],
   "source": [
    "# Imagenes con zoom en la ciudad de Ags\n",
    "display_img(ids_noClouds, parameters = parameters_roi)"
   ]
  },
  {
   "cell_type": "markdown",
   "metadata": {},
   "source": [
    "## NDVI\n",
    "\n",
    "$NDVI = \\frac{NIR - RED}{NIR + RED}$\n",
    "\n",
    "* Saludable = Valores altos\n",
    "* No saludable = Valores bajos\n",
    "\n",
    "`ndvi = image.normalizedDifference([\"B5\", \"B4\"])`"
   ]
  },
  {
   "cell_type": "code",
   "execution_count": 84,
   "metadata": {},
   "outputs": [],
   "source": [
    "# Parametros para el analisis NDVI\n",
    "palette = [\"red\", \"yellow\", \"green\"]\n",
    "\n",
    "ndvi_parameters = {\n",
    "    \"min\":0, # Este color sera rojo - no saludable\n",
    "    \"max\":0.4, # Lo que sea mayor sera verde - saludable\n",
    "    \"dimensions\":512,\n",
    "    \"palette\":palette,\n",
    "    \"region\":roi\n",
    "}"
   ]
  },
  {
   "cell_type": "code",
   "execution_count": 85,
   "metadata": {},
   "outputs": [
    {
     "name": "stdout",
     "output_type": "stream",
     "text": [
      "Imagen # 0 2021-11-03 Nubosidad: 0.187117 Porcentaje de agua: 0.38235\n"
     ]
    },
    {
     "data": {
      "text/html": [
       "<img src=\"https://earthengine.googleapis.com/v1alpha/projects/earthengine-legacy/thumbnails/80e1a4ae57f8f16224b643518f3a5732-81c756c087c2a4e4276bd6d69f41cdca:getPixels\"/>"
      ],
      "text/plain": [
       "<IPython.core.display.Image object>"
      ]
     },
     "metadata": {},
     "output_type": "display_data"
    },
    {
     "name": "stdout",
     "output_type": "stream",
     "text": [
      "Imagen # 1 2021-11-05 Nubosidad: 0.576502 Porcentaje de agua: 0.273206\n"
     ]
    },
    {
     "data": {
      "text/html": [
       "<img src=\"https://earthengine.googleapis.com/v1alpha/projects/earthengine-legacy/thumbnails/b0069bdc022aafb33855f70d69da1412-051c19ad4ad1153f2abb96d37c6b114d:getPixels\"/>"
      ],
      "text/plain": [
       "<IPython.core.display.Image object>"
      ]
     },
     "metadata": {},
     "output_type": "display_data"
    },
    {
     "name": "stdout",
     "output_type": "stream",
     "text": [
      "Imagen # 4 2021-11-15 Nubosidad: 0.24273 Porcentaje de agua: 0.233653\n"
     ]
    },
    {
     "ename": "KeyboardInterrupt",
     "evalue": "",
     "output_type": "error",
     "traceback": [
      "\u001b[1;31m---------------------------------------------------------------------------\u001b[0m",
      "\u001b[1;31mKeyboardInterrupt\u001b[0m                         Traceback (most recent call last)",
      "Cell \u001b[1;32mIn [85], line 2\u001b[0m\n\u001b[0;32m      1\u001b[0m \u001b[39m# NDVI index por imagen\u001b[39;00m\n\u001b[1;32m----> 2\u001b[0m display_img(ids_noClouds, ndvi_parameters, ndvi_display \u001b[39m=\u001b[39;49m \u001b[39mTrue\u001b[39;49;00m)\n",
      "Cell \u001b[1;32mIn [58], line 25\u001b[0m, in \u001b[0;36mdisplay_img\u001b[1;34m(ids, parameters, ndvi_display)\u001b[0m\n\u001b[0;32m     22\u001b[0m \u001b[39mprint\u001b[39m(\u001b[39m\"\u001b[39m\u001b[39mImagen #\u001b[39m\u001b[39m\"\u001b[39m, i, date, \u001b[39m\"\u001b[39m\u001b[39mNubosidad:\u001b[39m\u001b[39m\"\u001b[39m, cloud, \u001b[39m\"\u001b[39m\u001b[39mPorcentaje de agua:\u001b[39m\u001b[39m\"\u001b[39m, water)\n\u001b[0;32m     24\u001b[0m \u001b[39mif\u001b[39;00m ndvi_display \u001b[39m==\u001b[39m \u001b[39mTrue\u001b[39;00m:\n\u001b[1;32m---> 25\u001b[0m     display(Image(url \u001b[39m=\u001b[39m ee\u001b[39m.\u001b[39;49mImage(sentinel_list\u001b[39m.\u001b[39;49mget(i))\u001b[39m.\u001b[39;49mnormalizedDifference([\u001b[39m\"\u001b[39;49m\u001b[39mB5\u001b[39;49m\u001b[39m\"\u001b[39;49m, \u001b[39m\"\u001b[39;49m\u001b[39mB4\u001b[39;49m\u001b[39m\"\u001b[39;49m])\u001b[39m.\u001b[39;49mgetThumbURL(parameters)))\n\u001b[0;32m     27\u001b[0m \u001b[39melse\u001b[39;00m:\n\u001b[0;32m     28\u001b[0m     \u001b[39m# Plot\u001b[39;00m\n\u001b[0;32m     29\u001b[0m     display(Image(url \u001b[39m=\u001b[39m ee\u001b[39m.\u001b[39mImage(sentinel_list\u001b[39m.\u001b[39mget(i))\u001b[39m.\u001b[39mgetThumbURL(parameters)))\n",
      "File \u001b[1;32mc:\\Users\\Erick\\OneDrive\\Documentos\\projects\\rs_streets\\.conda\\lib\\site-packages\\ee\\image.py:522\u001b[0m, in \u001b[0;36mImage.getThumbURL\u001b[1;34m(self, params)\u001b[0m\n\u001b[0;32m    498\u001b[0m \u001b[39m\"\"\"Get a thumbnail URL for this image.\u001b[39;00m\n\u001b[0;32m    499\u001b[0m \n\u001b[0;32m    500\u001b[0m \u001b[39mArgs:\u001b[39;00m\n\u001b[1;32m   (...)\u001b[0m\n\u001b[0;32m    517\u001b[0m \u001b[39m  EEException: If the region parameter is not an array or GeoJSON object.\u001b[39;00m\n\u001b[0;32m    518\u001b[0m \u001b[39m\"\"\"\u001b[39;00m\n\u001b[0;32m    519\u001b[0m \u001b[39m# If the Cloud API is enabled, we can do cleaner handling of the parameters.\u001b[39;00m\n\u001b[0;32m    520\u001b[0m \u001b[39m# If it isn't enabled, we have to be bug-for-bug compatible with current\u001b[39;00m\n\u001b[0;32m    521\u001b[0m \u001b[39m# behaviour.\u001b[39;00m\n\u001b[1;32m--> 522\u001b[0m \u001b[39mreturn\u001b[39;00m data\u001b[39m.\u001b[39mmakeThumbUrl(\u001b[39mself\u001b[39;49m\u001b[39m.\u001b[39;49mgetThumbId(params))\n",
      "File \u001b[1;32mc:\\Users\\Erick\\OneDrive\\Documentos\\projects\\rs_streets\\.conda\\lib\\site-packages\\ee\\image.py:495\u001b[0m, in \u001b[0;36mImage.getThumbId\u001b[1;34m(self, params)\u001b[0m\n\u001b[0;32m    493\u001b[0m image, params \u001b[39m=\u001b[39m image\u001b[39m.\u001b[39m_apply_visualization(params)  \u001b[39m# pylint: disable=protected-access\u001b[39;00m\n\u001b[0;32m    494\u001b[0m params[\u001b[39m'\u001b[39m\u001b[39mimage\u001b[39m\u001b[39m'\u001b[39m] \u001b[39m=\u001b[39m image\n\u001b[1;32m--> 495\u001b[0m \u001b[39mreturn\u001b[39;00m data\u001b[39m.\u001b[39;49mgetThumbId(params)\n",
      "File \u001b[1;32mc:\\Users\\Erick\\OneDrive\\Documentos\\projects\\rs_streets\\.conda\\lib\\site-packages\\ee\\data.py:869\u001b[0m, in \u001b[0;36mgetThumbId\u001b[1;34m(params, thumbType)\u001b[0m\n\u001b[0;32m    866\u001b[0m   request[\u001b[39m'\u001b[39m\u001b[39mfilenamePrefix\u001b[39m\u001b[39m'\u001b[39m] \u001b[39m=\u001b[39m params\u001b[39m.\u001b[39mget(\u001b[39m'\u001b[39m\u001b[39mname\u001b[39m\u001b[39m'\u001b[39m)\n\u001b[0;32m    867\u001b[0m   request[\u001b[39m'\u001b[39m\u001b[39mbandIds\u001b[39m\u001b[39m'\u001b[39m] \u001b[39m=\u001b[39m _cloud_api_utils\u001b[39m.\u001b[39mconvert_to_band_list(\n\u001b[0;32m    868\u001b[0m       params\u001b[39m.\u001b[39mget(\u001b[39m'\u001b[39m\u001b[39mbands\u001b[39m\u001b[39m'\u001b[39m))\n\u001b[1;32m--> 869\u001b[0m   result \u001b[39m=\u001b[39m _execute_cloud_call(\n\u001b[0;32m    870\u001b[0m       _get_cloud_api_resource()\u001b[39m.\u001b[39;49mprojects()\u001b[39m.\u001b[39;49mthumbnails()\u001b[39m.\u001b[39;49mcreate(\n\u001b[0;32m    871\u001b[0m           parent\u001b[39m=\u001b[39;49m_get_projects_path(), fields\u001b[39m=\u001b[39;49m\u001b[39m'\u001b[39;49m\u001b[39mname\u001b[39;49m\u001b[39m'\u001b[39;49m, body\u001b[39m=\u001b[39;49mrequest))\n\u001b[0;32m    872\u001b[0m \u001b[39mreturn\u001b[39;00m {\u001b[39m'\u001b[39m\u001b[39mthumbid\u001b[39m\u001b[39m'\u001b[39m: result[\u001b[39m'\u001b[39m\u001b[39mname\u001b[39m\u001b[39m'\u001b[39m], \u001b[39m'\u001b[39m\u001b[39mtoken\u001b[39m\u001b[39m'\u001b[39m: \u001b[39m'\u001b[39m\u001b[39m'\u001b[39m}\n",
      "File \u001b[1;32mc:\\Users\\Erick\\OneDrive\\Documentos\\projects\\rs_streets\\.conda\\lib\\site-packages\\ee\\data.py:328\u001b[0m, in \u001b[0;36m_execute_cloud_call\u001b[1;34m(call, num_retries)\u001b[0m\n\u001b[0;32m    314\u001b[0m \u001b[39m\"\"\"Executes a Cloud API call and translates errors to EEExceptions.\u001b[39;00m\n\u001b[0;32m    315\u001b[0m \n\u001b[0;32m    316\u001b[0m \u001b[39mArgs:\u001b[39;00m\n\u001b[1;32m   (...)\u001b[0m\n\u001b[0;32m    325\u001b[0m \u001b[39m  EEException if the call fails.\u001b[39;00m\n\u001b[0;32m    326\u001b[0m \u001b[39m\"\"\"\u001b[39;00m\n\u001b[0;32m    327\u001b[0m \u001b[39mtry\u001b[39;00m:\n\u001b[1;32m--> 328\u001b[0m   \u001b[39mreturn\u001b[39;00m call\u001b[39m.\u001b[39;49mexecute(num_retries\u001b[39m=\u001b[39;49mnum_retries)\n\u001b[0;32m    329\u001b[0m \u001b[39mexcept\u001b[39;00m googleapiclient\u001b[39m.\u001b[39merrors\u001b[39m.\u001b[39mHttpError \u001b[39mas\u001b[39;00m e:\n\u001b[0;32m    330\u001b[0m   \u001b[39mraise\u001b[39;00m _translate_cloud_exception(e)\n",
      "File \u001b[1;32mc:\\Users\\Erick\\OneDrive\\Documentos\\projects\\rs_streets\\.conda\\lib\\site-packages\\googleapiclient\\_helpers.py:134\u001b[0m, in \u001b[0;36mpositional.<locals>.positional_decorator.<locals>.positional_wrapper\u001b[1;34m(*args, **kwargs)\u001b[0m\n\u001b[0;32m    132\u001b[0m     \u001b[39melif\u001b[39;00m positional_parameters_enforcement \u001b[39m==\u001b[39m POSITIONAL_WARNING:\n\u001b[0;32m    133\u001b[0m         logger\u001b[39m.\u001b[39mwarning(message)\n\u001b[1;32m--> 134\u001b[0m \u001b[39mreturn\u001b[39;00m wrapped(\u001b[39m*\u001b[39margs, \u001b[39m*\u001b[39m\u001b[39m*\u001b[39mkwargs)\n",
      "File \u001b[1;32mc:\\Users\\Erick\\OneDrive\\Documentos\\projects\\rs_streets\\.conda\\lib\\site-packages\\googleapiclient\\http.py:900\u001b[0m, in \u001b[0;36mHttpRequest.execute\u001b[1;34m(self, http, num_retries)\u001b[0m\n\u001b[0;32m    897\u001b[0m     \u001b[39mself\u001b[39m\u001b[39m.\u001b[39mheaders[\u001b[39m\"\u001b[39m\u001b[39mcontent-length\u001b[39m\u001b[39m\"\u001b[39m] \u001b[39m=\u001b[39m \u001b[39mstr\u001b[39m(\u001b[39mlen\u001b[39m(\u001b[39mself\u001b[39m\u001b[39m.\u001b[39mbody))\n\u001b[0;32m    899\u001b[0m \u001b[39m# Handle retries for server-side errors.\u001b[39;00m\n\u001b[1;32m--> 900\u001b[0m resp, content \u001b[39m=\u001b[39m _retry_request(\n\u001b[0;32m    901\u001b[0m     http,\n\u001b[0;32m    902\u001b[0m     num_retries,\n\u001b[0;32m    903\u001b[0m     \u001b[39m\"\u001b[39;49m\u001b[39mrequest\u001b[39;49m\u001b[39m\"\u001b[39;49m,\n\u001b[0;32m    904\u001b[0m     \u001b[39mself\u001b[39;49m\u001b[39m.\u001b[39;49m_sleep,\n\u001b[0;32m    905\u001b[0m     \u001b[39mself\u001b[39;49m\u001b[39m.\u001b[39;49m_rand,\n\u001b[0;32m    906\u001b[0m     \u001b[39mstr\u001b[39;49m(\u001b[39mself\u001b[39;49m\u001b[39m.\u001b[39;49muri),\n\u001b[0;32m    907\u001b[0m     method\u001b[39m=\u001b[39;49m\u001b[39mstr\u001b[39;49m(\u001b[39mself\u001b[39;49m\u001b[39m.\u001b[39;49mmethod),\n\u001b[0;32m    908\u001b[0m     body\u001b[39m=\u001b[39;49m\u001b[39mself\u001b[39;49m\u001b[39m.\u001b[39;49mbody,\n\u001b[0;32m    909\u001b[0m     headers\u001b[39m=\u001b[39;49m\u001b[39mself\u001b[39;49m\u001b[39m.\u001b[39;49mheaders,\n\u001b[0;32m    910\u001b[0m )\n\u001b[0;32m    912\u001b[0m \u001b[39mfor\u001b[39;00m callback \u001b[39min\u001b[39;00m \u001b[39mself\u001b[39m\u001b[39m.\u001b[39mresponse_callbacks:\n\u001b[0;32m    913\u001b[0m     callback(resp)\n",
      "File \u001b[1;32mc:\\Users\\Erick\\OneDrive\\Documentos\\projects\\rs_streets\\.conda\\lib\\site-packages\\googleapiclient\\http.py:177\u001b[0m, in \u001b[0;36m_retry_request\u001b[1;34m(http, num_retries, req_type, sleep, rand, uri, method, *args, **kwargs)\u001b[0m\n\u001b[0;32m    175\u001b[0m \u001b[39mtry\u001b[39;00m:\n\u001b[0;32m    176\u001b[0m     exception \u001b[39m=\u001b[39m \u001b[39mNone\u001b[39;00m\n\u001b[1;32m--> 177\u001b[0m     resp, content \u001b[39m=\u001b[39m http\u001b[39m.\u001b[39mrequest(uri, method, \u001b[39m*\u001b[39margs, \u001b[39m*\u001b[39m\u001b[39m*\u001b[39mkwargs)\n\u001b[0;32m    178\u001b[0m \u001b[39m# Retry on SSL errors and socket timeout errors.\u001b[39;00m\n\u001b[0;32m    179\u001b[0m \u001b[39mexcept\u001b[39;00m _ssl_SSLError \u001b[39mas\u001b[39;00m ssl_error:\n",
      "File \u001b[1;32mc:\\Users\\Erick\\OneDrive\\Documentos\\projects\\rs_streets\\.conda\\lib\\site-packages\\google_auth_httplib2.py:218\u001b[0m, in \u001b[0;36mAuthorizedHttp.request\u001b[1;34m(self, uri, method, body, headers, redirections, connection_type, **kwargs)\u001b[0m\n\u001b[0;32m    215\u001b[0m     body_stream_position \u001b[39m=\u001b[39m body\u001b[39m.\u001b[39mtell()\n\u001b[0;32m    217\u001b[0m \u001b[39m# Make the request.\u001b[39;00m\n\u001b[1;32m--> 218\u001b[0m response, content \u001b[39m=\u001b[39m \u001b[39mself\u001b[39m\u001b[39m.\u001b[39mhttp\u001b[39m.\u001b[39mrequest(\n\u001b[0;32m    219\u001b[0m     uri,\n\u001b[0;32m    220\u001b[0m     method,\n\u001b[0;32m    221\u001b[0m     body\u001b[39m=\u001b[39mbody,\n\u001b[0;32m    222\u001b[0m     headers\u001b[39m=\u001b[39mrequest_headers,\n\u001b[0;32m    223\u001b[0m     redirections\u001b[39m=\u001b[39mredirections,\n\u001b[0;32m    224\u001b[0m     connection_type\u001b[39m=\u001b[39mconnection_type,\n\u001b[0;32m    225\u001b[0m     \u001b[39m*\u001b[39m\u001b[39m*\u001b[39mkwargs\n\u001b[0;32m    226\u001b[0m )\n\u001b[0;32m    228\u001b[0m \u001b[39m# If the response indicated that the credentials needed to be\u001b[39;00m\n\u001b[0;32m    229\u001b[0m \u001b[39m# refreshed, then refresh the credentials and re-attempt the\u001b[39;00m\n\u001b[0;32m    230\u001b[0m \u001b[39m# request.\u001b[39;00m\n\u001b[0;32m    231\u001b[0m \u001b[39m# A stored token may expire between the time it is retrieved and\u001b[39;00m\n\u001b[0;32m    232\u001b[0m \u001b[39m# the time the request is made, so we may need to try twice.\u001b[39;00m\n\u001b[0;32m    233\u001b[0m \u001b[39mif\u001b[39;00m (\n\u001b[0;32m    234\u001b[0m     response\u001b[39m.\u001b[39mstatus \u001b[39min\u001b[39;00m \u001b[39mself\u001b[39m\u001b[39m.\u001b[39m_refresh_status_codes\n\u001b[0;32m    235\u001b[0m     \u001b[39mand\u001b[39;00m _credential_refresh_attempt \u001b[39m<\u001b[39m \u001b[39mself\u001b[39m\u001b[39m.\u001b[39m_max_refresh_attempts\n\u001b[0;32m    236\u001b[0m ):\n",
      "File \u001b[1;32mc:\\Users\\Erick\\OneDrive\\Documentos\\projects\\rs_streets\\.conda\\lib\\site-packages\\ee\\_cloud_api_utils.py:63\u001b[0m, in \u001b[0;36m_Http.request\u001b[1;34m(***failed resolving arguments***)\u001b[0m\n\u001b[0;32m     61\u001b[0m \u001b[39mwith\u001b[39;00m requests\u001b[39m.\u001b[39mSession() \u001b[39mas\u001b[39;00m session:\n\u001b[0;32m     62\u001b[0m   session\u001b[39m.\u001b[39mmax_redirects \u001b[39m=\u001b[39m redirections\n\u001b[1;32m---> 63\u001b[0m   response \u001b[39m=\u001b[39m session\u001b[39m.\u001b[39;49mrequest(\n\u001b[0;32m     64\u001b[0m       method, uri, data\u001b[39m=\u001b[39;49mbody, headers\u001b[39m=\u001b[39;49mheaders, timeout\u001b[39m=\u001b[39;49m\u001b[39mself\u001b[39;49m\u001b[39m.\u001b[39;49m_timeout)\n\u001b[0;32m     65\u001b[0m   headers \u001b[39m=\u001b[39m \u001b[39mdict\u001b[39m(response\u001b[39m.\u001b[39mheaders)\n\u001b[0;32m     66\u001b[0m   headers[\u001b[39m'\u001b[39m\u001b[39mstatus\u001b[39m\u001b[39m'\u001b[39m] \u001b[39m=\u001b[39m response\u001b[39m.\u001b[39mstatus_code\n",
      "File \u001b[1;32mc:\\Users\\Erick\\OneDrive\\Documentos\\projects\\rs_streets\\.conda\\lib\\site-packages\\requests\\sessions.py:587\u001b[0m, in \u001b[0;36mSession.request\u001b[1;34m(self, method, url, params, data, headers, cookies, files, auth, timeout, allow_redirects, proxies, hooks, stream, verify, cert, json)\u001b[0m\n\u001b[0;32m    582\u001b[0m send_kwargs \u001b[39m=\u001b[39m {\n\u001b[0;32m    583\u001b[0m     \u001b[39m\"\u001b[39m\u001b[39mtimeout\u001b[39m\u001b[39m\"\u001b[39m: timeout,\n\u001b[0;32m    584\u001b[0m     \u001b[39m\"\u001b[39m\u001b[39mallow_redirects\u001b[39m\u001b[39m\"\u001b[39m: allow_redirects,\n\u001b[0;32m    585\u001b[0m }\n\u001b[0;32m    586\u001b[0m send_kwargs\u001b[39m.\u001b[39mupdate(settings)\n\u001b[1;32m--> 587\u001b[0m resp \u001b[39m=\u001b[39m \u001b[39mself\u001b[39m\u001b[39m.\u001b[39msend(prep, \u001b[39m*\u001b[39m\u001b[39m*\u001b[39msend_kwargs)\n\u001b[0;32m    589\u001b[0m \u001b[39mreturn\u001b[39;00m resp\n",
      "File \u001b[1;32mc:\\Users\\Erick\\OneDrive\\Documentos\\projects\\rs_streets\\.conda\\lib\\site-packages\\requests\\sessions.py:701\u001b[0m, in \u001b[0;36mSession.send\u001b[1;34m(self, request, **kwargs)\u001b[0m\n\u001b[0;32m    698\u001b[0m start \u001b[39m=\u001b[39m preferred_clock()\n\u001b[0;32m    700\u001b[0m \u001b[39m# Send the request\u001b[39;00m\n\u001b[1;32m--> 701\u001b[0m r \u001b[39m=\u001b[39m adapter\u001b[39m.\u001b[39msend(request, \u001b[39m*\u001b[39m\u001b[39m*\u001b[39mkwargs)\n\u001b[0;32m    703\u001b[0m \u001b[39m# Total elapsed time of the request (approximately)\u001b[39;00m\n\u001b[0;32m    704\u001b[0m elapsed \u001b[39m=\u001b[39m preferred_clock() \u001b[39m-\u001b[39m start\n",
      "File \u001b[1;32mc:\\Users\\Erick\\OneDrive\\Documentos\\projects\\rs_streets\\.conda\\lib\\site-packages\\requests\\adapters.py:489\u001b[0m, in \u001b[0;36mHTTPAdapter.send\u001b[1;34m(self, request, stream, timeout, verify, cert, proxies)\u001b[0m\n\u001b[0;32m    487\u001b[0m \u001b[39mtry\u001b[39;00m:\n\u001b[0;32m    488\u001b[0m     \u001b[39mif\u001b[39;00m \u001b[39mnot\u001b[39;00m chunked:\n\u001b[1;32m--> 489\u001b[0m         resp \u001b[39m=\u001b[39m conn\u001b[39m.\u001b[39;49murlopen(\n\u001b[0;32m    490\u001b[0m             method\u001b[39m=\u001b[39;49mrequest\u001b[39m.\u001b[39;49mmethod,\n\u001b[0;32m    491\u001b[0m             url\u001b[39m=\u001b[39;49murl,\n\u001b[0;32m    492\u001b[0m             body\u001b[39m=\u001b[39;49mrequest\u001b[39m.\u001b[39;49mbody,\n\u001b[0;32m    493\u001b[0m             headers\u001b[39m=\u001b[39;49mrequest\u001b[39m.\u001b[39;49mheaders,\n\u001b[0;32m    494\u001b[0m             redirect\u001b[39m=\u001b[39;49m\u001b[39mFalse\u001b[39;49;00m,\n\u001b[0;32m    495\u001b[0m             assert_same_host\u001b[39m=\u001b[39;49m\u001b[39mFalse\u001b[39;49;00m,\n\u001b[0;32m    496\u001b[0m             preload_content\u001b[39m=\u001b[39;49m\u001b[39mFalse\u001b[39;49;00m,\n\u001b[0;32m    497\u001b[0m             decode_content\u001b[39m=\u001b[39;49m\u001b[39mFalse\u001b[39;49;00m,\n\u001b[0;32m    498\u001b[0m             retries\u001b[39m=\u001b[39;49m\u001b[39mself\u001b[39;49m\u001b[39m.\u001b[39;49mmax_retries,\n\u001b[0;32m    499\u001b[0m             timeout\u001b[39m=\u001b[39;49mtimeout,\n\u001b[0;32m    500\u001b[0m         )\n\u001b[0;32m    502\u001b[0m     \u001b[39m# Send the request.\u001b[39;00m\n\u001b[0;32m    503\u001b[0m     \u001b[39melse\u001b[39;00m:\n\u001b[0;32m    504\u001b[0m         \u001b[39mif\u001b[39;00m \u001b[39mhasattr\u001b[39m(conn, \u001b[39m\"\u001b[39m\u001b[39mproxy_pool\u001b[39m\u001b[39m\"\u001b[39m):\n",
      "File \u001b[1;32mc:\\Users\\Erick\\OneDrive\\Documentos\\projects\\rs_streets\\.conda\\lib\\site-packages\\urllib3\\connectionpool.py:703\u001b[0m, in \u001b[0;36mHTTPConnectionPool.urlopen\u001b[1;34m(self, method, url, body, headers, retries, redirect, assert_same_host, timeout, pool_timeout, release_conn, chunked, body_pos, **response_kw)\u001b[0m\n\u001b[0;32m    700\u001b[0m     \u001b[39mself\u001b[39m\u001b[39m.\u001b[39m_prepare_proxy(conn)\n\u001b[0;32m    702\u001b[0m \u001b[39m# Make the request on the httplib connection object.\u001b[39;00m\n\u001b[1;32m--> 703\u001b[0m httplib_response \u001b[39m=\u001b[39m \u001b[39mself\u001b[39;49m\u001b[39m.\u001b[39;49m_make_request(\n\u001b[0;32m    704\u001b[0m     conn,\n\u001b[0;32m    705\u001b[0m     method,\n\u001b[0;32m    706\u001b[0m     url,\n\u001b[0;32m    707\u001b[0m     timeout\u001b[39m=\u001b[39;49mtimeout_obj,\n\u001b[0;32m    708\u001b[0m     body\u001b[39m=\u001b[39;49mbody,\n\u001b[0;32m    709\u001b[0m     headers\u001b[39m=\u001b[39;49mheaders,\n\u001b[0;32m    710\u001b[0m     chunked\u001b[39m=\u001b[39;49mchunked,\n\u001b[0;32m    711\u001b[0m )\n\u001b[0;32m    713\u001b[0m \u001b[39m# If we're going to release the connection in ``finally:``, then\u001b[39;00m\n\u001b[0;32m    714\u001b[0m \u001b[39m# the response doesn't need to know about the connection. Otherwise\u001b[39;00m\n\u001b[0;32m    715\u001b[0m \u001b[39m# it will also try to release it and we'll have a double-release\u001b[39;00m\n\u001b[0;32m    716\u001b[0m \u001b[39m# mess.\u001b[39;00m\n\u001b[0;32m    717\u001b[0m response_conn \u001b[39m=\u001b[39m conn \u001b[39mif\u001b[39;00m \u001b[39mnot\u001b[39;00m release_conn \u001b[39melse\u001b[39;00m \u001b[39mNone\u001b[39;00m\n",
      "File \u001b[1;32mc:\\Users\\Erick\\OneDrive\\Documentos\\projects\\rs_streets\\.conda\\lib\\site-packages\\urllib3\\connectionpool.py:449\u001b[0m, in \u001b[0;36mHTTPConnectionPool._make_request\u001b[1;34m(self, conn, method, url, timeout, chunked, **httplib_request_kw)\u001b[0m\n\u001b[0;32m    444\u001b[0m             httplib_response \u001b[39m=\u001b[39m conn\u001b[39m.\u001b[39mgetresponse()\n\u001b[0;32m    445\u001b[0m         \u001b[39mexcept\u001b[39;00m \u001b[39mBaseException\u001b[39;00m \u001b[39mas\u001b[39;00m e:\n\u001b[0;32m    446\u001b[0m             \u001b[39m# Remove the TypeError from the exception chain in\u001b[39;00m\n\u001b[0;32m    447\u001b[0m             \u001b[39m# Python 3 (including for exceptions like SystemExit).\u001b[39;00m\n\u001b[0;32m    448\u001b[0m             \u001b[39m# Otherwise it looks like a bug in the code.\u001b[39;00m\n\u001b[1;32m--> 449\u001b[0m             six\u001b[39m.\u001b[39;49mraise_from(e, \u001b[39mNone\u001b[39;49;00m)\n\u001b[0;32m    450\u001b[0m \u001b[39mexcept\u001b[39;00m (SocketTimeout, BaseSSLError, SocketError) \u001b[39mas\u001b[39;00m e:\n\u001b[0;32m    451\u001b[0m     \u001b[39mself\u001b[39m\u001b[39m.\u001b[39m_raise_timeout(err\u001b[39m=\u001b[39me, url\u001b[39m=\u001b[39murl, timeout_value\u001b[39m=\u001b[39mread_timeout)\n",
      "File \u001b[1;32m<string>:3\u001b[0m, in \u001b[0;36mraise_from\u001b[1;34m(value, from_value)\u001b[0m\n",
      "File \u001b[1;32mc:\\Users\\Erick\\OneDrive\\Documentos\\projects\\rs_streets\\.conda\\lib\\site-packages\\urllib3\\connectionpool.py:444\u001b[0m, in \u001b[0;36mHTTPConnectionPool._make_request\u001b[1;34m(self, conn, method, url, timeout, chunked, **httplib_request_kw)\u001b[0m\n\u001b[0;32m    441\u001b[0m \u001b[39mexcept\u001b[39;00m \u001b[39mTypeError\u001b[39;00m:\n\u001b[0;32m    442\u001b[0m     \u001b[39m# Python 3\u001b[39;00m\n\u001b[0;32m    443\u001b[0m     \u001b[39mtry\u001b[39;00m:\n\u001b[1;32m--> 444\u001b[0m         httplib_response \u001b[39m=\u001b[39m conn\u001b[39m.\u001b[39;49mgetresponse()\n\u001b[0;32m    445\u001b[0m     \u001b[39mexcept\u001b[39;00m \u001b[39mBaseException\u001b[39;00m \u001b[39mas\u001b[39;00m e:\n\u001b[0;32m    446\u001b[0m         \u001b[39m# Remove the TypeError from the exception chain in\u001b[39;00m\n\u001b[0;32m    447\u001b[0m         \u001b[39m# Python 3 (including for exceptions like SystemExit).\u001b[39;00m\n\u001b[0;32m    448\u001b[0m         \u001b[39m# Otherwise it looks like a bug in the code.\u001b[39;00m\n\u001b[0;32m    449\u001b[0m         six\u001b[39m.\u001b[39mraise_from(e, \u001b[39mNone\u001b[39;00m)\n",
      "File \u001b[1;32mc:\\Users\\Erick\\OneDrive\\Documentos\\projects\\rs_streets\\.conda\\lib\\http\\client.py:1377\u001b[0m, in \u001b[0;36mHTTPConnection.getresponse\u001b[1;34m(self)\u001b[0m\n\u001b[0;32m   1375\u001b[0m \u001b[39mtry\u001b[39;00m:\n\u001b[0;32m   1376\u001b[0m     \u001b[39mtry\u001b[39;00m:\n\u001b[1;32m-> 1377\u001b[0m         response\u001b[39m.\u001b[39;49mbegin()\n\u001b[0;32m   1378\u001b[0m     \u001b[39mexcept\u001b[39;00m \u001b[39mConnectionError\u001b[39;00m:\n\u001b[0;32m   1379\u001b[0m         \u001b[39mself\u001b[39m\u001b[39m.\u001b[39mclose()\n",
      "File \u001b[1;32mc:\\Users\\Erick\\OneDrive\\Documentos\\projects\\rs_streets\\.conda\\lib\\http\\client.py:320\u001b[0m, in \u001b[0;36mHTTPResponse.begin\u001b[1;34m(self)\u001b[0m\n\u001b[0;32m    318\u001b[0m \u001b[39m# read until we get a non-100 response\u001b[39;00m\n\u001b[0;32m    319\u001b[0m \u001b[39mwhile\u001b[39;00m \u001b[39mTrue\u001b[39;00m:\n\u001b[1;32m--> 320\u001b[0m     version, status, reason \u001b[39m=\u001b[39m \u001b[39mself\u001b[39;49m\u001b[39m.\u001b[39;49m_read_status()\n\u001b[0;32m    321\u001b[0m     \u001b[39mif\u001b[39;00m status \u001b[39m!=\u001b[39m CONTINUE:\n\u001b[0;32m    322\u001b[0m         \u001b[39mbreak\u001b[39;00m\n",
      "File \u001b[1;32mc:\\Users\\Erick\\OneDrive\\Documentos\\projects\\rs_streets\\.conda\\lib\\http\\client.py:281\u001b[0m, in \u001b[0;36mHTTPResponse._read_status\u001b[1;34m(self)\u001b[0m\n\u001b[0;32m    280\u001b[0m \u001b[39mdef\u001b[39;00m \u001b[39m_read_status\u001b[39m(\u001b[39mself\u001b[39m):\n\u001b[1;32m--> 281\u001b[0m     line \u001b[39m=\u001b[39m \u001b[39mstr\u001b[39m(\u001b[39mself\u001b[39;49m\u001b[39m.\u001b[39;49mfp\u001b[39m.\u001b[39;49mreadline(_MAXLINE \u001b[39m+\u001b[39;49m \u001b[39m1\u001b[39;49m), \u001b[39m\"\u001b[39m\u001b[39miso-8859-1\u001b[39m\u001b[39m\"\u001b[39m)\n\u001b[0;32m    282\u001b[0m     \u001b[39mif\u001b[39;00m \u001b[39mlen\u001b[39m(line) \u001b[39m>\u001b[39m _MAXLINE:\n\u001b[0;32m    283\u001b[0m         \u001b[39mraise\u001b[39;00m LineTooLong(\u001b[39m\"\u001b[39m\u001b[39mstatus line\u001b[39m\u001b[39m\"\u001b[39m)\n",
      "File \u001b[1;32mc:\\Users\\Erick\\OneDrive\\Documentos\\projects\\rs_streets\\.conda\\lib\\socket.py:704\u001b[0m, in \u001b[0;36mSocketIO.readinto\u001b[1;34m(self, b)\u001b[0m\n\u001b[0;32m    702\u001b[0m \u001b[39mwhile\u001b[39;00m \u001b[39mTrue\u001b[39;00m:\n\u001b[0;32m    703\u001b[0m     \u001b[39mtry\u001b[39;00m:\n\u001b[1;32m--> 704\u001b[0m         \u001b[39mreturn\u001b[39;00m \u001b[39mself\u001b[39;49m\u001b[39m.\u001b[39;49m_sock\u001b[39m.\u001b[39;49mrecv_into(b)\n\u001b[0;32m    705\u001b[0m     \u001b[39mexcept\u001b[39;00m timeout:\n\u001b[0;32m    706\u001b[0m         \u001b[39mself\u001b[39m\u001b[39m.\u001b[39m_timeout_occurred \u001b[39m=\u001b[39m \u001b[39mTrue\u001b[39;00m\n",
      "File \u001b[1;32mc:\\Users\\Erick\\OneDrive\\Documentos\\projects\\rs_streets\\.conda\\lib\\ssl.py:1242\u001b[0m, in \u001b[0;36mSSLSocket.recv_into\u001b[1;34m(self, buffer, nbytes, flags)\u001b[0m\n\u001b[0;32m   1238\u001b[0m     \u001b[39mif\u001b[39;00m flags \u001b[39m!=\u001b[39m \u001b[39m0\u001b[39m:\n\u001b[0;32m   1239\u001b[0m         \u001b[39mraise\u001b[39;00m \u001b[39mValueError\u001b[39;00m(\n\u001b[0;32m   1240\u001b[0m           \u001b[39m\"\u001b[39m\u001b[39mnon-zero flags not allowed in calls to recv_into() on \u001b[39m\u001b[39m%s\u001b[39;00m\u001b[39m\"\u001b[39m \u001b[39m%\u001b[39m\n\u001b[0;32m   1241\u001b[0m           \u001b[39mself\u001b[39m\u001b[39m.\u001b[39m\u001b[39m__class__\u001b[39m)\n\u001b[1;32m-> 1242\u001b[0m     \u001b[39mreturn\u001b[39;00m \u001b[39mself\u001b[39;49m\u001b[39m.\u001b[39;49mread(nbytes, buffer)\n\u001b[0;32m   1243\u001b[0m \u001b[39melse\u001b[39;00m:\n\u001b[0;32m   1244\u001b[0m     \u001b[39mreturn\u001b[39;00m \u001b[39msuper\u001b[39m()\u001b[39m.\u001b[39mrecv_into(buffer, nbytes, flags)\n",
      "File \u001b[1;32mc:\\Users\\Erick\\OneDrive\\Documentos\\projects\\rs_streets\\.conda\\lib\\ssl.py:1100\u001b[0m, in \u001b[0;36mSSLSocket.read\u001b[1;34m(self, len, buffer)\u001b[0m\n\u001b[0;32m   1098\u001b[0m \u001b[39mtry\u001b[39;00m:\n\u001b[0;32m   1099\u001b[0m     \u001b[39mif\u001b[39;00m buffer \u001b[39mis\u001b[39;00m \u001b[39mnot\u001b[39;00m \u001b[39mNone\u001b[39;00m:\n\u001b[1;32m-> 1100\u001b[0m         \u001b[39mreturn\u001b[39;00m \u001b[39mself\u001b[39;49m\u001b[39m.\u001b[39;49m_sslobj\u001b[39m.\u001b[39;49mread(\u001b[39mlen\u001b[39;49m, buffer)\n\u001b[0;32m   1101\u001b[0m     \u001b[39melse\u001b[39;00m:\n\u001b[0;32m   1102\u001b[0m         \u001b[39mreturn\u001b[39;00m \u001b[39mself\u001b[39m\u001b[39m.\u001b[39m_sslobj\u001b[39m.\u001b[39mread(\u001b[39mlen\u001b[39m)\n",
      "\u001b[1;31mKeyboardInterrupt\u001b[0m: "
     ]
    }
   ],
   "source": [
    "# NDVI index por imagen\n",
    "display_img(ids_noClouds, ndvi_parameters, ndvi_display = True)"
   ]
  }
 ],
 "metadata": {
  "kernelspec": {
   "display_name": "Python 3.9.15",
   "language": "python",
   "name": "python3"
  },
  "language_info": {
   "codemirror_mode": {
    "name": "ipython",
    "version": 3
   },
   "file_extension": ".py",
   "mimetype": "text/x-python",
   "name": "python",
   "nbconvert_exporter": "python",
   "pygments_lexer": "ipython3",
   "version": "3.9.15"
  },
  "orig_nbformat": 4,
  "vscode": {
   "interpreter": {
    "hash": "98ef3d57ef7dda2493bb0a5332ec68224a063deee5515ba3b6448d5b0a1b9f6a"
   }
  }
 },
 "nbformat": 4,
 "nbformat_minor": 2
}
