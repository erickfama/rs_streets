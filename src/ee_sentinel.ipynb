{
 "cells": [
  {
   "cell_type": "code",
   "execution_count": null,
   "metadata": {},
   "outputs": [],
   "source": [
    "# Librerias\n",
    "\n",
    "# Manipulacion \n",
    "import pandas as pd \n",
    "import geopandas as gpd\n",
    "import re\n",
    "from datetime import datetime\n",
    "\n",
    "# Earth engine (descarga de imagenes)\n",
    "import ee \n",
    "\n",
    "# Mapas interactivos\n",
    "import folium\n",
    "\n",
    "# Plot\n",
    "from IPython.display import Image"
   ]
  },
  {
   "cell_type": "code",
   "execution_count": null,
   "metadata": {},
   "outputs": [],
   "source": [
    "# Autentificar Earth engine\n",
    "# ee.Authenticate() # Esto solo debe ser ejecutado la primera vez y cada vez que el token expira\n",
    "\n",
    "ee.Initialize()"
   ]
  },
  {
   "cell_type": "code",
   "execution_count": null,
   "metadata": {},
   "outputs": [],
   "source": [
    "# Definir area de estudio\n",
    "\n",
    "# Coordenadas\n",
    "lat = 21.8833333\n",
    "lon = -102.3\n",
    "\n",
    "# Punto de interes\n",
    "poi = ee.Geometry.Point(lon, lat)\n",
    "\n",
    "# Periodo de tiempo\n",
    "start_date = \"2021-11-01\"\n",
    "end_date = \"2022-11-15\""
   ]
  },
  {
   "cell_type": "code",
   "execution_count": null,
   "metadata": {},
   "outputs": [],
   "source": [
    "# Descarga de imagenes Sentinel 2 \n",
    "sentinel = ee.ImageCollection(\"COPERNICUS/S2_SR_HARMONIZED\")\\\n",
    "    .filterBounds(poi)\\\n",
    "    .filterDate(start_date, end_date)\n",
    "\n",
    "# Cantidad de imagenes obtenidas\n",
    "print(\"Imagenes totales:\", sentinel.size().getInfo())"
   ]
  },
  {
   "cell_type": "code",
   "execution_count": null,
   "metadata": {},
   "outputs": [],
   "source": [
    "# Informacion de la primera imagen\n",
    "sentinel.first().getInfo()"
   ]
  },
  {
   "cell_type": "code",
   "execution_count": null,
   "metadata": {},
   "outputs": [],
   "source": [
    "# Nubosidad\n",
    "print(sentinel.first().get(\"CLOUDY_PIXEL_PERCENTAGE\").getInfo())"
   ]
  },
  {
   "cell_type": "code",
   "execution_count": null,
   "metadata": {},
   "outputs": [],
   "source": [
    "# Porcentaje de agua\n",
    "print(sentinel.first().get(\"WATER_PERCENTAGE\").getInfo())"
   ]
  },
  {
   "cell_type": "code",
   "execution_count": null,
   "metadata": {},
   "outputs": [],
   "source": [
    "# Fechas\n",
    "print(datetime.strptime(re.findall(\"(?<=\\_)\\\\d+(?=T)\", sentinel.first().get(\"DATATAKE_IDENTIFIER\").getInfo())[0], \"%Y%m%d\").date())"
   ]
  },
  {
   "cell_type": "code",
   "execution_count": null,
   "metadata": {},
   "outputs": [],
   "source": [
    "# Bandas \n",
    "sentinel.first().bandNames().getInfo()"
   ]
  },
  {
   "cell_type": "code",
   "execution_count": null,
   "metadata": {},
   "outputs": [],
   "source": [
    "# Parametros para preprocesamiento\n",
    "parameters = {\n",
    "    \"min\":0,\n",
    "    \"max\":3000,\n",
    "    \"dimensions\":800, # Tamaño cuadrado en pixeles\n",
    "    \"bands\": [\"B4\", \"B3\", \"B2\"] # (R, G, B)\n",
    "}"
   ]
  },
  {
   "cell_type": "code",
   "execution_count": 13,
   "metadata": {},
   "outputs": [],
   "source": [
    "# Imagenes en lista\n",
    "sentinel_list = sentinel.toList(sentinel.size())\n",
    "\n",
    "# Funcion para mostrar cada imagen\n",
    "def display_img(ids, parameters, ndvi_display = False):\n",
    "\n",
    "    for i in ids:\n",
    "    \n",
    "        # Fecha de captura\n",
    "        date = datetime.strptime(re.findall(\"(?<=\\_)\\\\d+(?=T)\", ee.Image(sentinel_list.get(i)).get(\"DATATAKE_IDENTIFIER\").getInfo())[0], \"%Y%m%d\").date()\n",
    "\n",
    "        # Nubosidad\n",
    "        cloud = ee.Image(sentinel_list.get(i)).get(\"CLOUDY_PIXEL_PERCENTAGE\").getInfo()\n",
    "\n",
    "        # Porcentaje de vegetación\n",
    "        veg = ee.Image(sentinel_list.get(i)).get(\"VEGETATION_PERCENTAGE\").getInfo()\n",
    "\n",
    "        # Porcentaje de agua\n",
    "        water = ee.Image(sentinel_list.get(i)).get(\"WATER_PERCENTAGE\").getInfo()\n",
    "\n",
    "        # Informacion de la imagen\n",
    "        print(\"Imagen #\", i, date, \"Nubosidad:\", cloud, \"Porcentaje de agua:\", water)\n",
    "\n",
    "        if ndvi_display == True:\n",
    "            display(Image(url = ee.Image(sentinel_list.get(i)).normalizedDifference([\"B8\", \"B4\"]).getThumbURL(parameters)))\n",
    "\n",
    "        else:\n",
    "            # Plot\n",
    "            display(Image(url = ee.Image(sentinel_list.get(i)).getThumbURL(parameters)))\n",
    "        \n",
    "# Funcion para crear data frame con info de las imagenes\n",
    "def img_info(ids):\n",
    "    data = []\n",
    "    for i in ids:\n",
    "\n",
    "        # Fecha de captura\n",
    "        date = datetime.strptime(re.findall(\"(?<=\\_)\\\\d+(?=T)\", ee.Image(sentinel_list.get(i)).get(\"DATATAKE_IDENTIFIER\").getInfo())[0], \"%Y%m%d\").date()\n",
    "\n",
    "        # Nubosidad\n",
    "        cloud = ee.Image(sentinel_list.get(i)).get(\"CLOUDY_PIXEL_PERCENTAGE\").getInfo()\n",
    "\n",
    "        # Porcentaje de vegetación\n",
    "        veg = ee.Image(sentinel_list.get(i)).get(\"VEGETATION_PERCENTAGE\").getInfo()\n",
    "        \n",
    "        # Porcentaje de agua\n",
    "        water = ee.Image(sentinel_list.get(i)).get(\"WATER_PERCENTAGE\").getInfo()\n",
    "\n",
    "        # Informacion de la imagen\n",
    "        print(\"Imagen #\", i, date, \"Nubosidad:\", cloud,\"Porcentaje de vegetación:\", veg, \"Porcentaje de agua:\", water)\n",
    "        \n",
    "        image_data = [i, date, cloud, veg, water]\n",
    "        data.append(image_data)\n",
    "    \n",
    "    return data"
   ]
  },
  {
   "cell_type": "code",
   "execution_count": null,
   "metadata": {},
   "outputs": [],
   "source": [
    "# DF de informacion\n",
    "sentinel_df = pd.DataFrame(img_info(range(sentinel.size().getInfo())), columns = [\"img_id\", \"date\", \"cloud_cover\", \"vegetation_percentage\", \"water_percentage\"])"
   ]
  },
  {
   "cell_type": "code",
   "execution_count": null,
   "metadata": {},
   "outputs": [],
   "source": [
    "# Imagenes recolectadas\n",
    "parameters = {\n",
    "    \"min\":0, # 0 bueno\n",
    "    \"max\":3000, # 3000 bueno\n",
    "    \"dimensions\":800, # Tamaño cuadrado en pixeles\n",
    "    \"bands\": [\"B4\", \"B3\", \"B2\"] # (R, G, B)\n",
    "}\n",
    "\n",
    "display_img([88], parameters = parameters)"
   ]
  },
  {
   "cell_type": "code",
   "execution_count": null,
   "metadata": {},
   "outputs": [],
   "source": [
    "# Data frame con  informacion de las imagenes\n",
    "sentinel_df.head() # Con esto se puede filtrar por la nubosidad, la cual parece ser buena por debajo de 10"
   ]
  },
  {
   "cell_type": "markdown",
   "metadata": {},
   "source": [
    "## Filtrado de imagenes"
   ]
  },
  {
   "cell_type": "code",
   "execution_count": null,
   "metadata": {},
   "outputs": [],
   "source": [
    "# Seleccionar las imagenes que tengan una nubosidad por debajo de 10\n",
    "ids_noClouds = sentinel_df.img_id[sentinel_df.cloud_cover < 10]\n",
    "len(ids_noClouds) # 90 Imagenes "
   ]
  },
  {
   "cell_type": "code",
   "execution_count": null,
   "metadata": {},
   "outputs": [],
   "source": [
    "# Definir region de interes\n",
    "roi = poi.buffer(5000) # Metros = 5 km"
   ]
  },
  {
   "cell_type": "code",
   "execution_count": null,
   "metadata": {},
   "outputs": [],
   "source": [
    "# Nuevos parametros para región de interés\n",
    "parameters_roi = {\n",
    "    \"min\":0,\n",
    "    \"max\":3000,\n",
    "    \"dimensions\":800, # Tamaño cuadrado en pixeles\n",
    "    \"bands\": [\"B4\", \"B3\", \"B2\"], # (R, G, B)\n",
    "    \"region\":roi # Region de interes\n",
    "}"
   ]
  },
  {
   "cell_type": "code",
   "execution_count": null,
   "metadata": {},
   "outputs": [],
   "source": [
    "display_img([0], parameters_roi)"
   ]
  },
  {
   "cell_type": "code",
   "execution_count": null,
   "metadata": {},
   "outputs": [],
   "source": [
    "# Imagenes con zoom en la ciudad de Ags\n",
    "display_img(ids_noClouds, parameters = parameters_roi)"
   ]
  },
  {
   "cell_type": "markdown",
   "metadata": {},
   "source": [
    "## NDVI\n",
    "\n",
    "$NDVI = \\frac{NIR - RED}{NIR + RED}$\n",
    "\n",
    "* Saludable = Valores altos\n",
    "* No saludable = Valores bajos\n",
    "\n",
    "`ndvi = image.normalizedDifference([\"B5\", \"B4\"])`"
   ]
  },
  {
   "cell_type": "code",
   "execution_count": null,
   "metadata": {},
   "outputs": [],
   "source": [
    "# Parametros para el analisis NDVI\n",
    "palette = [\"red\", \"yellow\", \"green\"]\n",
    "\n",
    "ndvi_parameters = {\n",
    "    \"min\":0, # Este color sera rojo - no saludable\n",
    "    \"max\":0.4, # Lo que sea mayor sera verde - saludable\n",
    "    \"dimensions\":512,\n",
    "    \"palette\":palette,\n",
    "    \"region\":roi\n",
    "}"
   ]
  },
  {
   "cell_type": "code",
   "execution_count": null,
   "metadata": {},
   "outputs": [],
   "source": [
    "# NDVI index por imagen\n",
    "display_img(ids_noClouds, ndvi_parameters, ndvi_display = True)"
   ]
  }
 ],
 "metadata": {
  "kernelspec": {
   "display_name": "Python 3.9.15",
   "language": "python",
   "name": "python3"
  },
  "language_info": {
   "codemirror_mode": {
    "name": "ipython",
    "version": 3
   },
   "file_extension": ".py",
   "mimetype": "text/x-python",
   "name": "python",
   "nbconvert_exporter": "python",
   "pygments_lexer": "ipython3",
   "version": "3.9.15"
  },
  "orig_nbformat": 4,
  "vscode": {
   "interpreter": {
    "hash": "98ef3d57ef7dda2493bb0a5332ec68224a063deee5515ba3b6448d5b0a1b9f6a"
   }
  }
 },
 "nbformat": 4,
 "nbformat_minor": 2
}
