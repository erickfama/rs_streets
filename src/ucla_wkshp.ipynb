{
 "cells": [
  {
   "cell_type": "markdown",
   "metadata": {},
   "source": [
    "# Workflow percepcion remota utilizando imagenes Landsat y Earth engine\n",
    "\n",
    "1. Descargar Anaconda\n",
    "\n",
    "2. Crear virtual environment\n",
    "    > Posibles problemas: **conda activate no es reconocido por VScode**. Ejecutar anaconda prompt y escribir `conda init powershell`\n",
    "                         > **La ejecución de scripts no está habilidatada**. Abrir windows powershell y ejecutar Set-ExecutionPolicy, opción 1.\n",
    "3. installar librerias earthengine-api y geemap:\n",
    "    > `conda install -c conda-forge earthengine-api`\n",
    "    > `conda install -c conda-forge geemap`\n",
    "\n",
    "4. Instalar Google CLI (https://cloud.google.com/sdk/docs/install):\n",
    "    > `(New-Object Net.WebClient).DownloadFile(\"https://dl.google.com/dl/cloudsdk/channels/rapid/GoogleCloudSDKInstaller.exe\", \"$env:Temp\\GoogleCloudSDKInstaller.exe\")`\n",
    "    > `& $env:Temp\\GoogleCloudSDKInstaller.exe`\n",
    "\n",
    "5. Configurar gcloud CLI (último paso de la instalación):\n",
    "    > Conectar con cuenta y proyecto (**rs_diss**)\n",
    "\n",
    "6. Autentificar earthengine `earthengine authenticate`\n",
    "    > Generar token e introducirlo (Se debe habilitar la API de Earth engine en el proyecto de Google Cloud SDK)\n",
    "\n",
    "7. Definir area de estudio\n",
    "\n",
    "8. Descargar imagenes\n",
    "\n",
    "9. Descartar imagenes con base en su nivel de nubosidad\n",
    "\n",
    "10. Acotar imagenes a una region mas pequeña (zoom)\n",
    "\n",
    "11. Aplicar analisis\n"
   ]
  },
  {
   "cell_type": "code",
   "execution_count": 2,
   "metadata": {},
   "outputs": [],
   "source": [
    "# Librerias\n",
    "\n",
    "# Manipulacion \n",
    "import pandas as pd \n",
    "import geopandas as gpd\n",
    "\n",
    "# Earth engine (descarga de imagenes)\n",
    "import ee \n",
    "\n",
    "# Mapas interactivos\n",
    "import folium\n",
    "\n",
    "# Plot\n",
    "from IPython.display import Image"
   ]
  },
  {
   "cell_type": "code",
   "execution_count": 3,
   "metadata": {},
   "outputs": [
    {
     "data": {
      "text/html": [
       "<p>To authorize access needed by Earth Engine, open the following\n",
       "        URL in a web browser and follow the instructions:</p>\n",
       "        <p><a href=https://code.earthengine.google.com/client-auth?scopes=https%3A//www.googleapis.com/auth/earthengine%20https%3A//www.googleapis.com/auth/devstorage.full_control&request_id=upcp8uRlEJ20SbOym1Ha3OxyAqFDQ0k6anr9G6vIl7g&tc=K6AKtKqJQjG9ALWV3Gn3zpn2cM19AiP2FeodheJiRsI&cc=NOg3fJ26b9tSwlb3KRkWs6tGrkwfLnVqQ38hOfL0THU>https://code.earthengine.google.com/client-auth?scopes=https%3A//www.googleapis.com/auth/earthengine%20https%3A//www.googleapis.com/auth/devstorage.full_control&request_id=upcp8uRlEJ20SbOym1Ha3OxyAqFDQ0k6anr9G6vIl7g&tc=K6AKtKqJQjG9ALWV3Gn3zpn2cM19AiP2FeodheJiRsI&cc=NOg3fJ26b9tSwlb3KRkWs6tGrkwfLnVqQ38hOfL0THU</a></p>\n",
       "        <p>The authorization workflow will generate a code, which you should paste in the box below.</p>\n",
       "        "
      ],
      "text/plain": [
       "<IPython.core.display.HTML object>"
      ]
     },
     "metadata": {},
     "output_type": "display_data"
    },
    {
     "name": "stdout",
     "output_type": "stream",
     "text": [
      "\n",
      "Successfully saved authorization token.\n"
     ]
    }
   ],
   "source": [
    "# Autentificar Earth engine\n",
    "ee.Authenticate()\n",
    "\n",
    "ee.Initialize()"
   ]
  },
  {
   "cell_type": "code",
   "execution_count": 4,
   "metadata": {},
   "outputs": [],
   "source": [
    "# Definir area de estudio\n",
    "\n",
    "# Coordenadas\n",
    "lat = 21.8833333\n",
    "lon = -102.3\n",
    "\n",
    "# Punto de interes\n",
    "poi = ee.Geometry.Point(lon, lat)\n",
    "\n",
    "# Periodo de tiempo\n",
    "start_date = \"2021-11-01\"\n",
    "end_date = \"2022-11-15\""
   ]
  },
  {
   "cell_type": "code",
   "execution_count": 5,
   "metadata": {},
   "outputs": [
    {
     "name": "stdout",
     "output_type": "stream",
     "text": [
      "Imagenes totales: 42\n"
     ]
    }
   ],
   "source": [
    "# Descarga de imagenes Landsat 9\n",
    "landsat = ee.ImageCollection(\"LANDSAT/LC09/C02/T1_L2\")\\\n",
    "    .filterBounds(poi)\\\n",
    "    .filterDate(start_date, end_date)\n",
    "\n",
    "# Cantidad de imagenes obtenidas\n",
    "print(\"Imagenes totales:\", landsat.size().getInfo())"
   ]
  },
  {
   "cell_type": "code",
   "execution_count": 6,
   "metadata": {},
   "outputs": [
    {
     "data": {
      "text/plain": [
       "{'type': 'Image',\n",
       " 'bands': [{'id': 'SR_B1',\n",
       "   'data_type': {'type': 'PixelType',\n",
       "    'precision': 'int',\n",
       "    'min': 0,\n",
       "    'max': 65535},\n",
       "   'dimensions': [7881, 7841],\n",
       "   'crs': 'EPSG:32614',\n",
       "   'crs_transform': [30, 0, 119085, 0, -30, 2516115]},\n",
       "  {'id': 'SR_B2',\n",
       "   'data_type': {'type': 'PixelType',\n",
       "    'precision': 'int',\n",
       "    'min': 0,\n",
       "    'max': 65535},\n",
       "   'dimensions': [7881, 7841],\n",
       "   'crs': 'EPSG:32614',\n",
       "   'crs_transform': [30, 0, 119085, 0, -30, 2516115]},\n",
       "  {'id': 'SR_B3',\n",
       "   'data_type': {'type': 'PixelType',\n",
       "    'precision': 'int',\n",
       "    'min': 0,\n",
       "    'max': 65535},\n",
       "   'dimensions': [7881, 7841],\n",
       "   'crs': 'EPSG:32614',\n",
       "   'crs_transform': [30, 0, 119085, 0, -30, 2516115]},\n",
       "  {'id': 'SR_B4',\n",
       "   'data_type': {'type': 'PixelType',\n",
       "    'precision': 'int',\n",
       "    'min': 0,\n",
       "    'max': 65535},\n",
       "   'dimensions': [7881, 7841],\n",
       "   'crs': 'EPSG:32614',\n",
       "   'crs_transform': [30, 0, 119085, 0, -30, 2516115]},\n",
       "  {'id': 'SR_B5',\n",
       "   'data_type': {'type': 'PixelType',\n",
       "    'precision': 'int',\n",
       "    'min': 0,\n",
       "    'max': 65535},\n",
       "   'dimensions': [7881, 7841],\n",
       "   'crs': 'EPSG:32614',\n",
       "   'crs_transform': [30, 0, 119085, 0, -30, 2516115]},\n",
       "  {'id': 'SR_B6',\n",
       "   'data_type': {'type': 'PixelType',\n",
       "    'precision': 'int',\n",
       "    'min': 0,\n",
       "    'max': 65535},\n",
       "   'dimensions': [7881, 7841],\n",
       "   'crs': 'EPSG:32614',\n",
       "   'crs_transform': [30, 0, 119085, 0, -30, 2516115]},\n",
       "  {'id': 'SR_B7',\n",
       "   'data_type': {'type': 'PixelType',\n",
       "    'precision': 'int',\n",
       "    'min': 0,\n",
       "    'max': 65535},\n",
       "   'dimensions': [7881, 7841],\n",
       "   'crs': 'EPSG:32614',\n",
       "   'crs_transform': [30, 0, 119085, 0, -30, 2516115]},\n",
       "  {'id': 'SR_QA_AEROSOL',\n",
       "   'data_type': {'type': 'PixelType',\n",
       "    'precision': 'int',\n",
       "    'min': 0,\n",
       "    'max': 255},\n",
       "   'dimensions': [7881, 7841],\n",
       "   'crs': 'EPSG:32614',\n",
       "   'crs_transform': [30, 0, 119085, 0, -30, 2516115]},\n",
       "  {'id': 'ST_B10',\n",
       "   'data_type': {'type': 'PixelType',\n",
       "    'precision': 'int',\n",
       "    'min': 0,\n",
       "    'max': 65535},\n",
       "   'dimensions': [7881, 7841],\n",
       "   'crs': 'EPSG:32614',\n",
       "   'crs_transform': [30, 0, 119085, 0, -30, 2516115]},\n",
       "  {'id': 'ST_ATRAN',\n",
       "   'data_type': {'type': 'PixelType',\n",
       "    'precision': 'int',\n",
       "    'min': -32768,\n",
       "    'max': 32767},\n",
       "   'dimensions': [7881, 7841],\n",
       "   'crs': 'EPSG:32614',\n",
       "   'crs_transform': [30, 0, 119085, 0, -30, 2516115]},\n",
       "  {'id': 'ST_CDIST',\n",
       "   'data_type': {'type': 'PixelType',\n",
       "    'precision': 'int',\n",
       "    'min': -32768,\n",
       "    'max': 32767},\n",
       "   'dimensions': [7881, 7841],\n",
       "   'crs': 'EPSG:32614',\n",
       "   'crs_transform': [30, 0, 119085, 0, -30, 2516115]},\n",
       "  {'id': 'ST_DRAD',\n",
       "   'data_type': {'type': 'PixelType',\n",
       "    'precision': 'int',\n",
       "    'min': -32768,\n",
       "    'max': 32767},\n",
       "   'dimensions': [7881, 7841],\n",
       "   'crs': 'EPSG:32614',\n",
       "   'crs_transform': [30, 0, 119085, 0, -30, 2516115]},\n",
       "  {'id': 'ST_EMIS',\n",
       "   'data_type': {'type': 'PixelType',\n",
       "    'precision': 'int',\n",
       "    'min': -32768,\n",
       "    'max': 32767},\n",
       "   'dimensions': [7881, 7841],\n",
       "   'crs': 'EPSG:32614',\n",
       "   'crs_transform': [30, 0, 119085, 0, -30, 2516115]},\n",
       "  {'id': 'ST_EMSD',\n",
       "   'data_type': {'type': 'PixelType',\n",
       "    'precision': 'int',\n",
       "    'min': -32768,\n",
       "    'max': 32767},\n",
       "   'dimensions': [7881, 7841],\n",
       "   'crs': 'EPSG:32614',\n",
       "   'crs_transform': [30, 0, 119085, 0, -30, 2516115]},\n",
       "  {'id': 'ST_QA',\n",
       "   'data_type': {'type': 'PixelType',\n",
       "    'precision': 'int',\n",
       "    'min': -32768,\n",
       "    'max': 32767},\n",
       "   'dimensions': [7881, 7841],\n",
       "   'crs': 'EPSG:32614',\n",
       "   'crs_transform': [30, 0, 119085, 0, -30, 2516115]},\n",
       "  {'id': 'ST_TRAD',\n",
       "   'data_type': {'type': 'PixelType',\n",
       "    'precision': 'int',\n",
       "    'min': -32768,\n",
       "    'max': 32767},\n",
       "   'dimensions': [7881, 7841],\n",
       "   'crs': 'EPSG:32614',\n",
       "   'crs_transform': [30, 0, 119085, 0, -30, 2516115]},\n",
       "  {'id': 'ST_URAD',\n",
       "   'data_type': {'type': 'PixelType',\n",
       "    'precision': 'int',\n",
       "    'min': -32768,\n",
       "    'max': 32767},\n",
       "   'dimensions': [7881, 7841],\n",
       "   'crs': 'EPSG:32614',\n",
       "   'crs_transform': [30, 0, 119085, 0, -30, 2516115]},\n",
       "  {'id': 'QA_PIXEL',\n",
       "   'data_type': {'type': 'PixelType',\n",
       "    'precision': 'int',\n",
       "    'min': 0,\n",
       "    'max': 65535},\n",
       "   'dimensions': [7881, 7841],\n",
       "   'crs': 'EPSG:32614',\n",
       "   'crs_transform': [30, 0, 119085, 0, -30, 2516115]},\n",
       "  {'id': 'QA_RADSAT',\n",
       "   'data_type': {'type': 'PixelType',\n",
       "    'precision': 'int',\n",
       "    'min': 0,\n",
       "    'max': 65535},\n",
       "   'dimensions': [7881, 7841],\n",
       "   'crs': 'EPSG:32614',\n",
       "   'crs_transform': [30, 0, 119085, 0, -30, 2516115]}],\n",
       " 'id': 'LANDSAT/LC09/C02/T1_L2/LC09_027045_20211116',\n",
       " 'version': 1644907278054587,\n",
       " 'properties': {'DATA_SOURCE_ELEVATION': 'GLS2000',\n",
       "  'WRS_TYPE': 2,\n",
       "  'REFLECTANCE_ADD_BAND_1': -0.2,\n",
       "  'REFLECTANCE_ADD_BAND_2': -0.2,\n",
       "  'DATUM': 'WGS84',\n",
       "  'REFLECTANCE_ADD_BAND_3': -0.2,\n",
       "  'REFLECTANCE_ADD_BAND_4': -0.2,\n",
       "  'REFLECTANCE_ADD_BAND_5': -0.2,\n",
       "  'REFLECTANCE_ADD_BAND_6': -0.2,\n",
       "  'REFLECTANCE_ADD_BAND_7': -0.2,\n",
       "  'system:footprint': {'type': 'LinearRing',\n",
       "   'coordinates': [[-100.8219405172372, 20.623391489081836],\n",
       "    [-100.81565179192566, 20.650306816187346],\n",
       "    [-100.77232150009789, 20.83777156375305],\n",
       "    [-100.6239019899391, 21.480774414806607],\n",
       "    [-100.52951738943453, 21.887745346863525],\n",
       "    [-100.47810236584048, 22.109599120352517],\n",
       "    [-100.41856561208317, 22.366338532276544],\n",
       "    [-100.41964910966374, 22.36683062321406],\n",
       "    [-101.17801385929792, 22.51221056066087],\n",
       "    [-102.1213900087272, 22.687549448032048],\n",
       "    [-102.25066666980742, 22.71109225239237],\n",
       "    [-102.25907743582565, 22.67405960715353],\n",
       "    [-102.29651234801993, 22.504899788605126],\n",
       "    [-102.42806441775393, 21.907869848918104],\n",
       "    [-102.55887465830067, 21.310841201854995],\n",
       "    [-102.59084062605524, 21.16400058752925],\n",
       "    [-102.6235290418253, 21.01145742428496],\n",
       "    [-102.62975422126944, 20.98153396218576],\n",
       "    [-102.41177484147579, 20.939451877605393],\n",
       "    [-100.96627045178083, 20.652555406150665],\n",
       "    [-100.82228069993599, 20.623240102319087],\n",
       "    [-100.8219405172372, 20.623391489081836]]},\n",
       "  'REFLECTIVE_SAMPLES': 7881,\n",
       "  'GROUND_CONTROL_POINTS_VERSION': 5,\n",
       "  'SUN_AZIMUTH': 151.32501262,\n",
       "  'UTM_ZONE': 14,\n",
       "  'DATE_ACQUIRED': '2021-11-16',\n",
       "  'ELLIPSOID': 'WGS84',\n",
       "  'system:time_end': 1637082353219,\n",
       "  'DATA_SOURCE_PRESSURE': 'Calculated',\n",
       "  'LANDSAT_PRODUCT_ID': 'LC09_L2SP_027045_20211116_20220119_02_T1',\n",
       "  'STATION_ID': 'LGN',\n",
       "  'TEMPERATURE_ADD_BAND_ST_B10': 149,\n",
       "  'DATA_SOURCE_REANALYSIS': 'GEOS-5 FP-IT',\n",
       "  'REFLECTANCE_MULT_BAND_7': 2.75e-05,\n",
       "  'system:time_start': 1637082353219,\n",
       "  'REFLECTANCE_MULT_BAND_6': 2.75e-05,\n",
       "  'L1_PROCESSING_LEVEL': 'L1TP',\n",
       "  'PROCESSING_SOFTWARE_VERSION': 'LPGS_15.6.0',\n",
       "  'L1_DATE_PRODUCT_GENERATED': '2022-01-19T11:12:28Z',\n",
       "  'ORIENTATION': 'NORTH_UP',\n",
       "  'REFLECTANCE_MULT_BAND_1': 2.75e-05,\n",
       "  'WRS_ROW': 45,\n",
       "  'REFLECTANCE_MULT_BAND_3': 2.75e-05,\n",
       "  'REFLECTANCE_MULT_BAND_2': 2.75e-05,\n",
       "  'TARGET_WRS_ROW': 45,\n",
       "  'REFLECTANCE_MULT_BAND_5': 2.75e-05,\n",
       "  'REFLECTANCE_MULT_BAND_4': 2.75e-05,\n",
       "  'THERMAL_LINES': 7841,\n",
       "  'GRID_CELL_SIZE_THERMAL': 30,\n",
       "  'IMAGE_QUALITY_TIRS': 9,\n",
       "  'NADIR_OFFNADIR': 'OFFNADIR',\n",
       "  'CLOUD_COVER': 3.87,\n",
       "  'REQUEST_ID': 'P70183xsdxvrx_00013',\n",
       "  'EARTH_SUN_DISTANCE': 0.988824,\n",
       "  'GEOMETRIC_RMSE_VERIFY': 3.142,\n",
       "  'COLLECTION_CATEGORY': 'T1',\n",
       "  'SCENE_CENTER_TIME': '17:05:53.2195979Z',\n",
       "  'GRID_CELL_SIZE_REFLECTIVE': 30,\n",
       "  'SUN_ELEVATION': 44.40571449,\n",
       "  'ALGORITHM_SOURCE_SURFACE_TEMPERATURE': 'st_1.3.0',\n",
       "  'TEMPERATURE_MAXIMUM_BAND_ST_B10': 372.999941,\n",
       "  'CLOUD_COVER_LAND': 3.87,\n",
       "  'GEOMETRIC_RMSE_MODEL': 5.379,\n",
       "  'ROLL_ANGLE': -11.504,\n",
       "  'COLLECTION_NUMBER': 2,\n",
       "  'DATE_PRODUCT_GENERATED': 1642591340000,\n",
       "  'L1_REQUEST_ID': 'P70183xsdxvrx_00013',\n",
       "  'DATA_SOURCE_OZONE': 'MODIS',\n",
       "  'SATURATION_BAND_1': 'N',\n",
       "  'DATA_SOURCE_WATER_VAPOR': 'MODIS',\n",
       "  'SATURATION_BAND_2': 'N',\n",
       "  'SATURATION_BAND_3': 'N',\n",
       "  'IMAGE_QUALITY_OLI': 9,\n",
       "  'SATURATION_BAND_4': 'N',\n",
       "  'LANDSAT_SCENE_ID': 'LC90270452021320LGN01',\n",
       "  'SATURATION_BAND_5': 'N',\n",
       "  'MAP_PROJECTION': 'UTM',\n",
       "  'SATURATION_BAND_6': 'N',\n",
       "  'SENSOR_ID': 'OLI_TIRS',\n",
       "  'SATURATION_BAND_7': 'Y',\n",
       "  'SATURATION_BAND_8': 'N',\n",
       "  'WRS_PATH': 27,\n",
       "  'L1_PROCESSING_SOFTWARE_VERSION': 'LPGS_15.6.0',\n",
       "  'SATURATION_BAND_9': 'N',\n",
       "  'TARGET_WRS_PATH': 28,\n",
       "  'L1_LANDSAT_PRODUCT_ID': 'LC09_L1TP_027045_20211116_20220119_02_T1',\n",
       "  'TEMPERATURE_MULT_BAND_ST_B10': 0.00341802,\n",
       "  'PROCESSING_LEVEL': 'L2SP',\n",
       "  'ALGORITHM_SOURCE_SURFACE_REFLECTANCE': 'LaSRC_1.5.0',\n",
       "  'GROUND_CONTROL_POINTS_MODEL': 995,\n",
       "  'SPACECRAFT_ID': 'LANDSAT_9',\n",
       "  'TEMPERATURE_MINIMUM_BAND_ST_B10': 149.003418,\n",
       "  'GEOMETRIC_RMSE_MODEL_Y': 3.576,\n",
       "  'REFLECTIVE_LINES': 7841,\n",
       "  'GEOMETRIC_RMSE_MODEL_X': 4.018,\n",
       "  'THERMAL_SAMPLES': 7881,\n",
       "  'system:asset_size': 1008321024,\n",
       "  'DATA_SOURCE_AIR_TEMPERATURE': 'MODIS',\n",
       "  'GROUND_CONTROL_POINTS_VERIFY': 270,\n",
       "  'system:index': 'LC09_027045_20211116'}}"
      ]
     },
     "execution_count": 6,
     "metadata": {},
     "output_type": "execute_result"
    }
   ],
   "source": [
    "# Informacion de la primera imagen\n",
    "landsat.first().getInfo()"
   ]
  },
  {
   "cell_type": "code",
   "execution_count": 8,
   "metadata": {},
   "outputs": [
    {
     "name": "stdout",
     "output_type": "stream",
     "text": [
      "3.87\n"
     ]
    }
   ],
   "source": [
    "# Nubosidad\n",
    "print(landsat.first().get(\"CLOUD_COVER\").getInfo())"
   ]
  },
  {
   "cell_type": "code",
   "execution_count": 9,
   "metadata": {},
   "outputs": [
    {
     "data": {
      "text/plain": [
       "'2021-11-16'"
      ]
     },
     "execution_count": 9,
     "metadata": {},
     "output_type": "execute_result"
    }
   ],
   "source": [
    "# Fechas\n",
    "landsat.first().get(\"DATE_ACQUIRED\").getInfo()"
   ]
  },
  {
   "cell_type": "code",
   "execution_count": 10,
   "metadata": {},
   "outputs": [
    {
     "data": {
      "text/plain": [
       "['SR_B1',\n",
       " 'SR_B2',\n",
       " 'SR_B3',\n",
       " 'SR_B4',\n",
       " 'SR_B5',\n",
       " 'SR_B6',\n",
       " 'SR_B7',\n",
       " 'SR_QA_AEROSOL',\n",
       " 'ST_B10',\n",
       " 'ST_ATRAN',\n",
       " 'ST_CDIST',\n",
       " 'ST_DRAD',\n",
       " 'ST_EMIS',\n",
       " 'ST_EMSD',\n",
       " 'ST_QA',\n",
       " 'ST_TRAD',\n",
       " 'ST_URAD',\n",
       " 'QA_PIXEL',\n",
       " 'QA_RADSAT']"
      ]
     },
     "execution_count": 10,
     "metadata": {},
     "output_type": "execute_result"
    }
   ],
   "source": [
    "# Bandas \n",
    "landsat.first().bandNames().getInfo()"
   ]
  },
  {
   "cell_type": "code",
   "execution_count": 11,
   "metadata": {},
   "outputs": [],
   "source": [
    "# Parametros para preprocesamiento\n",
    "parameters = {\n",
    "    \"min\":7000,\n",
    "    \"max\":16000,\n",
    "    \"dimensions\":800, # Tamaño cuadrado en pixeles\n",
    "    \"bands\": [\"SR_B4\", \"SR_B3\", \"SR_B2\"] # (R, G, B)\n",
    "}"
   ]
  },
  {
   "cell_type": "code",
   "execution_count": 12,
   "metadata": {},
   "outputs": [],
   "source": [
    "# Imagenes en lista\n",
    "landsat_list = landsat.toList(landsat.size())\n",
    "\n",
    "# Funcion para mostrar cada imagen\n",
    "def display_img(ids, parameters, ndvi_display = False):\n",
    "\n",
    "    for i in ids:\n",
    "    \n",
    "        # Fecha de captura\n",
    "        date = ee.Image(landsat_list.get(i)).get(\"DATE_ACQUIRED\").getInfo()\n",
    "\n",
    "        # Nubosidad\n",
    "        cloud = ee.Image(landsat_list.get(i)).get(\"CLOUD_COVER\").getInfo()\n",
    "    \n",
    "        # Informacion de la imagen\n",
    "        print(\"Imagen #\", i, date, \"Nubosidad:\", cloud)\n",
    "\n",
    "        if ndvi_display == True:\n",
    "            display(Image(url = ee.Image(landsat_list.get(i)).normalizedDifference([\"SR_B5\", \"SR_B4\"]).getThumbURL(parameters)))\n",
    "\n",
    "        else:\n",
    "            # Plot\n",
    "            display(Image(url = ee.Image(landsat_list.get(i)).getThumbURL(parameters)))\n",
    "        \n",
    "# Funcion para crear data frame con info de las imagenes\n",
    "def img_info(ids):\n",
    "    data = []\n",
    "    for i in ids:\n",
    "\n",
    "        # Fecha de captura\n",
    "        date = ee.Image(landsat_list.get(i)).get(\"DATE_ACQUIRED\").getInfo()\n",
    "\n",
    "        # Nubosidad\n",
    "        cloud = ee.Image(landsat_list.get(i)).get(\"CLOUD_COVER\").getInfo()\n",
    "\n",
    "        # Informacion de la imagen\n",
    "        print(\"Imagen #\", i, date, \"Nubosidad:\", cloud)\n",
    "        \n",
    "        image_data = [i, date, cloud]\n",
    "        data.append(image_data)\n",
    "    \n",
    "    return data"
   ]
  },
  {
   "cell_type": "code",
   "execution_count": 13,
   "metadata": {},
   "outputs": [
    {
     "name": "stdout",
     "output_type": "stream",
     "text": [
      "Imagen # 0 2021-11-16 Nubosidad: 3.87\n",
      "Imagen # 1 2021-12-10 Nubosidad: 45.52\n",
      "Imagen # 2 2021-12-26 Nubosidad: 0.18\n",
      "Imagen # 3 2022-01-11 Nubosidad: 54.56\n",
      "Imagen # 4 2022-01-27 Nubosidad: 3.34\n",
      "Imagen # 5 2022-02-12 Nubosidad: 13.48\n",
      "Imagen # 6 2022-02-28 Nubosidad: 3.07\n",
      "Imagen # 7 2022-04-01 Nubosidad: 0.02\n",
      "Imagen # 8 2022-04-17 Nubosidad: 25.06\n",
      "Imagen # 9 2022-05-03 Nubosidad: 31.1\n",
      "Imagen # 10 2022-05-19 Nubosidad: 0.03\n",
      "Imagen # 11 2022-06-04 Nubosidad: 21.64\n",
      "Imagen # 12 2022-06-20 Nubosidad: 30.73\n",
      "Imagen # 13 2022-07-06 Nubosidad: 5.9\n",
      "Imagen # 14 2022-07-22 Nubosidad: 82.15\n",
      "Imagen # 15 2022-08-07 Nubosidad: 31.21\n",
      "Imagen # 16 2022-09-08 Nubosidad: 67.06\n",
      "Imagen # 17 2022-09-24 Nubosidad: 5.66\n",
      "Imagen # 18 2022-10-10 Nubosidad: 38.57\n",
      "Imagen # 19 2022-10-26 Nubosidad: 0.05\n",
      "Imagen # 20 2022-11-11 Nubosidad: 0.07\n",
      "Imagen # 21 2021-12-17 Nubosidad: 14.6\n",
      "Imagen # 22 2022-01-02 Nubosidad: 0.02\n",
      "Imagen # 23 2022-01-18 Nubosidad: 0.19\n",
      "Imagen # 24 2022-02-03 Nubosidad: 30.2\n",
      "Imagen # 25 2022-02-19 Nubosidad: 0.06\n",
      "Imagen # 26 2022-03-07 Nubosidad: 0\n",
      "Imagen # 27 2022-03-23 Nubosidad: 0.12\n",
      "Imagen # 28 2022-04-08 Nubosidad: 4.14\n",
      "Imagen # 29 2022-04-24 Nubosidad: 0\n",
      "Imagen # 30 2022-05-10 Nubosidad: 2.7\n",
      "Imagen # 31 2022-05-26 Nubosidad: 3.83\n",
      "Imagen # 32 2022-06-11 Nubosidad: 4.01\n",
      "Imagen # 33 2022-06-27 Nubosidad: 15.6\n",
      "Imagen # 34 2022-07-13 Nubosidad: 7.42\n",
      "Imagen # 35 2022-07-29 Nubosidad: 61.91\n",
      "Imagen # 36 2022-08-14 Nubosidad: 60.73\n",
      "Imagen # 37 2022-08-30 Nubosidad: 36.92\n",
      "Imagen # 38 2022-09-15 Nubosidad: 12.46\n",
      "Imagen # 39 2022-10-01 Nubosidad: 1.29\n",
      "Imagen # 40 2022-10-17 Nubosidad: 11.15\n",
      "Imagen # 41 2022-11-02 Nubosidad: 0.05\n"
     ]
    }
   ],
   "source": [
    "# DF de informacion\n",
    "landsat_df = pd.DataFrame(img_info(range(landsat.size().getInfo())), columns = [\"img_id\", \"date\", \"cloud_cover\"])"
   ]
  },
  {
   "cell_type": "code",
   "execution_count": 22,
   "metadata": {},
   "outputs": [
    {
     "name": "stdout",
     "output_type": "stream",
     "text": [
      "Imagen # 0 2021-11-16 Nubosidad: 3.87\n"
     ]
    },
    {
     "data": {
      "text/html": [
       "<img src=\"https://earthengine.googleapis.com/v1alpha/projects/earthengine-legacy/thumbnails/4d00ed5581623a209519dc5ab25dd77e-28a0482137f083d433915af4f2d65d74:getPixels\"/>"
      ],
      "text/plain": [
       "<IPython.core.display.Image object>"
      ]
     },
     "metadata": {},
     "output_type": "display_data"
    },
    {
     "name": "stdout",
     "output_type": "stream",
     "text": [
      "Imagen # 1 2021-12-10 Nubosidad: 45.52\n"
     ]
    },
    {
     "data": {
      "text/html": [
       "<img src=\"https://earthengine.googleapis.com/v1alpha/projects/earthengine-legacy/thumbnails/671a469346d4eeac4170faa3dbd1e8b0-a63f330f57725ba3d3c8ba9db4659b8b:getPixels\"/>"
      ],
      "text/plain": [
       "<IPython.core.display.Image object>"
      ]
     },
     "metadata": {},
     "output_type": "display_data"
    },
    {
     "name": "stdout",
     "output_type": "stream",
     "text": [
      "Imagen # 2 2021-12-26 Nubosidad: 0.18\n"
     ]
    },
    {
     "data": {
      "text/html": [
       "<img src=\"https://earthengine.googleapis.com/v1alpha/projects/earthengine-legacy/thumbnails/67986343ac0dbc1cc6eb17a3e402ac9e-fc136a2219518e1d7b77a31f097dd3bd:getPixels\"/>"
      ],
      "text/plain": [
       "<IPython.core.display.Image object>"
      ]
     },
     "metadata": {},
     "output_type": "display_data"
    },
    {
     "name": "stdout",
     "output_type": "stream",
     "text": [
      "Imagen # 3 2022-01-11 Nubosidad: 54.56\n"
     ]
    },
    {
     "data": {
      "text/html": [
       "<img src=\"https://earthengine.googleapis.com/v1alpha/projects/earthengine-legacy/thumbnails/3d8945c23627f9a0cb2de3e9e277f603-b84327e881b21950d9751f7fdf2d1e68:getPixels\"/>"
      ],
      "text/plain": [
       "<IPython.core.display.Image object>"
      ]
     },
     "metadata": {},
     "output_type": "display_data"
    },
    {
     "name": "stdout",
     "output_type": "stream",
     "text": [
      "Imagen # 4 2022-01-27 Nubosidad: 3.34\n"
     ]
    },
    {
     "data": {
      "text/html": [
       "<img src=\"https://earthengine.googleapis.com/v1alpha/projects/earthengine-legacy/thumbnails/8b101fc88beb018b961f679ba0a49119-e8b366a25a02a42fbe8a9932ebade515:getPixels\"/>"
      ],
      "text/plain": [
       "<IPython.core.display.Image object>"
      ]
     },
     "metadata": {},
     "output_type": "display_data"
    },
    {
     "name": "stdout",
     "output_type": "stream",
     "text": [
      "Imagen # 5 2022-02-12 Nubosidad: 13.48\n"
     ]
    },
    {
     "data": {
      "text/html": [
       "<img src=\"https://earthengine.googleapis.com/v1alpha/projects/earthengine-legacy/thumbnails/a06f02a3cd5983a68ec1b153e77675c9-e192d96fbc61b3a22a7356b98a5d1e52:getPixels\"/>"
      ],
      "text/plain": [
       "<IPython.core.display.Image object>"
      ]
     },
     "metadata": {},
     "output_type": "display_data"
    },
    {
     "ename": "KeyboardInterrupt",
     "evalue": "",
     "output_type": "error",
     "traceback": [
      "\u001b[1;31m---------------------------------------------------------------------------\u001b[0m",
      "\u001b[1;31mKeyboardInterrupt\u001b[0m                         Traceback (most recent call last)",
      "Cell \u001b[1;32mIn [22], line 2\u001b[0m\n\u001b[0;32m      1\u001b[0m \u001b[39m# Imagenes recolectadas\u001b[39;00m\n\u001b[1;32m----> 2\u001b[0m display_img(landsat_df\u001b[39m.\u001b[39;49mimg_id, parameters \u001b[39m=\u001b[39;49m parameters)\n",
      "Cell \u001b[1;32mIn [12], line 10\u001b[0m, in \u001b[0;36mdisplay_img\u001b[1;34m(ids, parameters, ndvi_display)\u001b[0m\n\u001b[0;32m      5\u001b[0m \u001b[39mdef\u001b[39;00m \u001b[39mdisplay_img\u001b[39m(ids, parameters, ndvi_display \u001b[39m=\u001b[39m \u001b[39mFalse\u001b[39;00m):\n\u001b[0;32m      7\u001b[0m     \u001b[39mfor\u001b[39;00m i \u001b[39min\u001b[39;00m ids:\n\u001b[0;32m      8\u001b[0m     \n\u001b[0;32m      9\u001b[0m         \u001b[39m# Fecha de captura\u001b[39;00m\n\u001b[1;32m---> 10\u001b[0m         date \u001b[39m=\u001b[39m ee\u001b[39m.\u001b[39;49mImage(landsat_list\u001b[39m.\u001b[39;49mget(i))\u001b[39m.\u001b[39;49mget(\u001b[39m\"\u001b[39;49m\u001b[39mDATE_ACQUIRED\u001b[39;49m\u001b[39m\"\u001b[39;49m)\u001b[39m.\u001b[39;49mgetInfo()\n\u001b[0;32m     12\u001b[0m         \u001b[39m# Nubosidad\u001b[39;00m\n\u001b[0;32m     13\u001b[0m         cloud \u001b[39m=\u001b[39m ee\u001b[39m.\u001b[39mImage(landsat_list\u001b[39m.\u001b[39mget(i))\u001b[39m.\u001b[39mget(\u001b[39m\"\u001b[39m\u001b[39mCLOUD_COVER\u001b[39m\u001b[39m\"\u001b[39m)\u001b[39m.\u001b[39mgetInfo()\n",
      "File \u001b[1;32mc:\\Users\\Erick\\OneDrive\\Documentos\\projects\\rs_streets\\.conda\\lib\\site-packages\\ee\\computedobject.py:98\u001b[0m, in \u001b[0;36mComputedObject.getInfo\u001b[1;34m(self)\u001b[0m\n\u001b[0;32m     92\u001b[0m \u001b[39mdef\u001b[39;00m \u001b[39mgetInfo\u001b[39m(\u001b[39mself\u001b[39m):\n\u001b[0;32m     93\u001b[0m   \u001b[39m\"\"\"Fetch and return information about this object.\u001b[39;00m\n\u001b[0;32m     94\u001b[0m \n\u001b[0;32m     95\u001b[0m \u001b[39m  Returns:\u001b[39;00m\n\u001b[0;32m     96\u001b[0m \u001b[39m    The object can evaluate to anything.\u001b[39;00m\n\u001b[0;32m     97\u001b[0m \u001b[39m  \"\"\"\u001b[39;00m\n\u001b[1;32m---> 98\u001b[0m   \u001b[39mreturn\u001b[39;00m data\u001b[39m.\u001b[39;49mcomputeValue(\u001b[39mself\u001b[39;49m)\n",
      "File \u001b[1;32mc:\\Users\\Erick\\OneDrive\\Documentos\\projects\\rs_streets\\.conda\\lib\\site-packages\\ee\\data.py:757\u001b[0m, in \u001b[0;36mcomputeValue\u001b[1;34m(obj)\u001b[0m\n\u001b[0;32m    754\u001b[0m \u001b[39mif\u001b[39;00m workload_tag:\n\u001b[0;32m    755\u001b[0m   body[\u001b[39m'\u001b[39m\u001b[39mworkloadTag\u001b[39m\u001b[39m'\u001b[39m] \u001b[39m=\u001b[39m workload_tag\n\u001b[1;32m--> 757\u001b[0m \u001b[39mreturn\u001b[39;00m _execute_cloud_call(\n\u001b[0;32m    758\u001b[0m     _get_cloud_api_resource()\u001b[39m.\u001b[39;49mprojects()\u001b[39m.\u001b[39;49mvalue()\u001b[39m.\u001b[39;49mcompute(\n\u001b[0;32m    759\u001b[0m         body\u001b[39m=\u001b[39;49mbody,\n\u001b[0;32m    760\u001b[0m         project\u001b[39m=\u001b[39;49m_get_projects_path(),\n\u001b[0;32m    761\u001b[0m         prettyPrint\u001b[39m=\u001b[39;49m\u001b[39mFalse\u001b[39;49;00m))[\u001b[39m'\u001b[39m\u001b[39mresult\u001b[39m\u001b[39m'\u001b[39m]\n",
      "File \u001b[1;32mc:\\Users\\Erick\\OneDrive\\Documentos\\projects\\rs_streets\\.conda\\lib\\site-packages\\ee\\data.py:328\u001b[0m, in \u001b[0;36m_execute_cloud_call\u001b[1;34m(call, num_retries)\u001b[0m\n\u001b[0;32m    314\u001b[0m \u001b[39m\"\"\"Executes a Cloud API call and translates errors to EEExceptions.\u001b[39;00m\n\u001b[0;32m    315\u001b[0m \n\u001b[0;32m    316\u001b[0m \u001b[39mArgs:\u001b[39;00m\n\u001b[1;32m   (...)\u001b[0m\n\u001b[0;32m    325\u001b[0m \u001b[39m  EEException if the call fails.\u001b[39;00m\n\u001b[0;32m    326\u001b[0m \u001b[39m\"\"\"\u001b[39;00m\n\u001b[0;32m    327\u001b[0m \u001b[39mtry\u001b[39;00m:\n\u001b[1;32m--> 328\u001b[0m   \u001b[39mreturn\u001b[39;00m call\u001b[39m.\u001b[39;49mexecute(num_retries\u001b[39m=\u001b[39;49mnum_retries)\n\u001b[0;32m    329\u001b[0m \u001b[39mexcept\u001b[39;00m googleapiclient\u001b[39m.\u001b[39merrors\u001b[39m.\u001b[39mHttpError \u001b[39mas\u001b[39;00m e:\n\u001b[0;32m    330\u001b[0m   \u001b[39mraise\u001b[39;00m _translate_cloud_exception(e)\n",
      "File \u001b[1;32mc:\\Users\\Erick\\OneDrive\\Documentos\\projects\\rs_streets\\.conda\\lib\\site-packages\\googleapiclient\\_helpers.py:134\u001b[0m, in \u001b[0;36mpositional.<locals>.positional_decorator.<locals>.positional_wrapper\u001b[1;34m(*args, **kwargs)\u001b[0m\n\u001b[0;32m    132\u001b[0m     \u001b[39melif\u001b[39;00m positional_parameters_enforcement \u001b[39m==\u001b[39m POSITIONAL_WARNING:\n\u001b[0;32m    133\u001b[0m         logger\u001b[39m.\u001b[39mwarning(message)\n\u001b[1;32m--> 134\u001b[0m \u001b[39mreturn\u001b[39;00m wrapped(\u001b[39m*\u001b[39margs, \u001b[39m*\u001b[39m\u001b[39m*\u001b[39mkwargs)\n",
      "File \u001b[1;32mc:\\Users\\Erick\\OneDrive\\Documentos\\projects\\rs_streets\\.conda\\lib\\site-packages\\googleapiclient\\http.py:900\u001b[0m, in \u001b[0;36mHttpRequest.execute\u001b[1;34m(self, http, num_retries)\u001b[0m\n\u001b[0;32m    897\u001b[0m     \u001b[39mself\u001b[39m\u001b[39m.\u001b[39mheaders[\u001b[39m\"\u001b[39m\u001b[39mcontent-length\u001b[39m\u001b[39m\"\u001b[39m] \u001b[39m=\u001b[39m \u001b[39mstr\u001b[39m(\u001b[39mlen\u001b[39m(\u001b[39mself\u001b[39m\u001b[39m.\u001b[39mbody))\n\u001b[0;32m    899\u001b[0m \u001b[39m# Handle retries for server-side errors.\u001b[39;00m\n\u001b[1;32m--> 900\u001b[0m resp, content \u001b[39m=\u001b[39m _retry_request(\n\u001b[0;32m    901\u001b[0m     http,\n\u001b[0;32m    902\u001b[0m     num_retries,\n\u001b[0;32m    903\u001b[0m     \u001b[39m\"\u001b[39;49m\u001b[39mrequest\u001b[39;49m\u001b[39m\"\u001b[39;49m,\n\u001b[0;32m    904\u001b[0m     \u001b[39mself\u001b[39;49m\u001b[39m.\u001b[39;49m_sleep,\n\u001b[0;32m    905\u001b[0m     \u001b[39mself\u001b[39;49m\u001b[39m.\u001b[39;49m_rand,\n\u001b[0;32m    906\u001b[0m     \u001b[39mstr\u001b[39;49m(\u001b[39mself\u001b[39;49m\u001b[39m.\u001b[39;49muri),\n\u001b[0;32m    907\u001b[0m     method\u001b[39m=\u001b[39;49m\u001b[39mstr\u001b[39;49m(\u001b[39mself\u001b[39;49m\u001b[39m.\u001b[39;49mmethod),\n\u001b[0;32m    908\u001b[0m     body\u001b[39m=\u001b[39;49m\u001b[39mself\u001b[39;49m\u001b[39m.\u001b[39;49mbody,\n\u001b[0;32m    909\u001b[0m     headers\u001b[39m=\u001b[39;49m\u001b[39mself\u001b[39;49m\u001b[39m.\u001b[39;49mheaders,\n\u001b[0;32m    910\u001b[0m )\n\u001b[0;32m    912\u001b[0m \u001b[39mfor\u001b[39;00m callback \u001b[39min\u001b[39;00m \u001b[39mself\u001b[39m\u001b[39m.\u001b[39mresponse_callbacks:\n\u001b[0;32m    913\u001b[0m     callback(resp)\n",
      "File \u001b[1;32mc:\\Users\\Erick\\OneDrive\\Documentos\\projects\\rs_streets\\.conda\\lib\\site-packages\\googleapiclient\\http.py:177\u001b[0m, in \u001b[0;36m_retry_request\u001b[1;34m(http, num_retries, req_type, sleep, rand, uri, method, *args, **kwargs)\u001b[0m\n\u001b[0;32m    175\u001b[0m \u001b[39mtry\u001b[39;00m:\n\u001b[0;32m    176\u001b[0m     exception \u001b[39m=\u001b[39m \u001b[39mNone\u001b[39;00m\n\u001b[1;32m--> 177\u001b[0m     resp, content \u001b[39m=\u001b[39m http\u001b[39m.\u001b[39mrequest(uri, method, \u001b[39m*\u001b[39margs, \u001b[39m*\u001b[39m\u001b[39m*\u001b[39mkwargs)\n\u001b[0;32m    178\u001b[0m \u001b[39m# Retry on SSL errors and socket timeout errors.\u001b[39;00m\n\u001b[0;32m    179\u001b[0m \u001b[39mexcept\u001b[39;00m _ssl_SSLError \u001b[39mas\u001b[39;00m ssl_error:\n",
      "File \u001b[1;32mc:\\Users\\Erick\\OneDrive\\Documentos\\projects\\rs_streets\\.conda\\lib\\site-packages\\google_auth_httplib2.py:218\u001b[0m, in \u001b[0;36mAuthorizedHttp.request\u001b[1;34m(self, uri, method, body, headers, redirections, connection_type, **kwargs)\u001b[0m\n\u001b[0;32m    215\u001b[0m     body_stream_position \u001b[39m=\u001b[39m body\u001b[39m.\u001b[39mtell()\n\u001b[0;32m    217\u001b[0m \u001b[39m# Make the request.\u001b[39;00m\n\u001b[1;32m--> 218\u001b[0m response, content \u001b[39m=\u001b[39m \u001b[39mself\u001b[39m\u001b[39m.\u001b[39mhttp\u001b[39m.\u001b[39mrequest(\n\u001b[0;32m    219\u001b[0m     uri,\n\u001b[0;32m    220\u001b[0m     method,\n\u001b[0;32m    221\u001b[0m     body\u001b[39m=\u001b[39mbody,\n\u001b[0;32m    222\u001b[0m     headers\u001b[39m=\u001b[39mrequest_headers,\n\u001b[0;32m    223\u001b[0m     redirections\u001b[39m=\u001b[39mredirections,\n\u001b[0;32m    224\u001b[0m     connection_type\u001b[39m=\u001b[39mconnection_type,\n\u001b[0;32m    225\u001b[0m     \u001b[39m*\u001b[39m\u001b[39m*\u001b[39mkwargs\n\u001b[0;32m    226\u001b[0m )\n\u001b[0;32m    228\u001b[0m \u001b[39m# If the response indicated that the credentials needed to be\u001b[39;00m\n\u001b[0;32m    229\u001b[0m \u001b[39m# refreshed, then refresh the credentials and re-attempt the\u001b[39;00m\n\u001b[0;32m    230\u001b[0m \u001b[39m# request.\u001b[39;00m\n\u001b[0;32m    231\u001b[0m \u001b[39m# A stored token may expire between the time it is retrieved and\u001b[39;00m\n\u001b[0;32m    232\u001b[0m \u001b[39m# the time the request is made, so we may need to try twice.\u001b[39;00m\n\u001b[0;32m    233\u001b[0m \u001b[39mif\u001b[39;00m (\n\u001b[0;32m    234\u001b[0m     response\u001b[39m.\u001b[39mstatus \u001b[39min\u001b[39;00m \u001b[39mself\u001b[39m\u001b[39m.\u001b[39m_refresh_status_codes\n\u001b[0;32m    235\u001b[0m     \u001b[39mand\u001b[39;00m _credential_refresh_attempt \u001b[39m<\u001b[39m \u001b[39mself\u001b[39m\u001b[39m.\u001b[39m_max_refresh_attempts\n\u001b[0;32m    236\u001b[0m ):\n",
      "File \u001b[1;32mc:\\Users\\Erick\\OneDrive\\Documentos\\projects\\rs_streets\\.conda\\lib\\site-packages\\ee\\_cloud_api_utils.py:63\u001b[0m, in \u001b[0;36m_Http.request\u001b[1;34m(***failed resolving arguments***)\u001b[0m\n\u001b[0;32m     61\u001b[0m \u001b[39mwith\u001b[39;00m requests\u001b[39m.\u001b[39mSession() \u001b[39mas\u001b[39;00m session:\n\u001b[0;32m     62\u001b[0m   session\u001b[39m.\u001b[39mmax_redirects \u001b[39m=\u001b[39m redirections\n\u001b[1;32m---> 63\u001b[0m   response \u001b[39m=\u001b[39m session\u001b[39m.\u001b[39;49mrequest(\n\u001b[0;32m     64\u001b[0m       method, uri, data\u001b[39m=\u001b[39;49mbody, headers\u001b[39m=\u001b[39;49mheaders, timeout\u001b[39m=\u001b[39;49m\u001b[39mself\u001b[39;49m\u001b[39m.\u001b[39;49m_timeout)\n\u001b[0;32m     65\u001b[0m   headers \u001b[39m=\u001b[39m \u001b[39mdict\u001b[39m(response\u001b[39m.\u001b[39mheaders)\n\u001b[0;32m     66\u001b[0m   headers[\u001b[39m'\u001b[39m\u001b[39mstatus\u001b[39m\u001b[39m'\u001b[39m] \u001b[39m=\u001b[39m response\u001b[39m.\u001b[39mstatus_code\n",
      "File \u001b[1;32mc:\\Users\\Erick\\OneDrive\\Documentos\\projects\\rs_streets\\.conda\\lib\\site-packages\\requests\\sessions.py:587\u001b[0m, in \u001b[0;36mSession.request\u001b[1;34m(self, method, url, params, data, headers, cookies, files, auth, timeout, allow_redirects, proxies, hooks, stream, verify, cert, json)\u001b[0m\n\u001b[0;32m    582\u001b[0m send_kwargs \u001b[39m=\u001b[39m {\n\u001b[0;32m    583\u001b[0m     \u001b[39m\"\u001b[39m\u001b[39mtimeout\u001b[39m\u001b[39m\"\u001b[39m: timeout,\n\u001b[0;32m    584\u001b[0m     \u001b[39m\"\u001b[39m\u001b[39mallow_redirects\u001b[39m\u001b[39m\"\u001b[39m: allow_redirects,\n\u001b[0;32m    585\u001b[0m }\n\u001b[0;32m    586\u001b[0m send_kwargs\u001b[39m.\u001b[39mupdate(settings)\n\u001b[1;32m--> 587\u001b[0m resp \u001b[39m=\u001b[39m \u001b[39mself\u001b[39m\u001b[39m.\u001b[39msend(prep, \u001b[39m*\u001b[39m\u001b[39m*\u001b[39msend_kwargs)\n\u001b[0;32m    589\u001b[0m \u001b[39mreturn\u001b[39;00m resp\n",
      "File \u001b[1;32mc:\\Users\\Erick\\OneDrive\\Documentos\\projects\\rs_streets\\.conda\\lib\\site-packages\\requests\\sessions.py:701\u001b[0m, in \u001b[0;36mSession.send\u001b[1;34m(self, request, **kwargs)\u001b[0m\n\u001b[0;32m    698\u001b[0m start \u001b[39m=\u001b[39m preferred_clock()\n\u001b[0;32m    700\u001b[0m \u001b[39m# Send the request\u001b[39;00m\n\u001b[1;32m--> 701\u001b[0m r \u001b[39m=\u001b[39m adapter\u001b[39m.\u001b[39msend(request, \u001b[39m*\u001b[39m\u001b[39m*\u001b[39mkwargs)\n\u001b[0;32m    703\u001b[0m \u001b[39m# Total elapsed time of the request (approximately)\u001b[39;00m\n\u001b[0;32m    704\u001b[0m elapsed \u001b[39m=\u001b[39m preferred_clock() \u001b[39m-\u001b[39m start\n",
      "File \u001b[1;32mc:\\Users\\Erick\\OneDrive\\Documentos\\projects\\rs_streets\\.conda\\lib\\site-packages\\requests\\adapters.py:489\u001b[0m, in \u001b[0;36mHTTPAdapter.send\u001b[1;34m(self, request, stream, timeout, verify, cert, proxies)\u001b[0m\n\u001b[0;32m    487\u001b[0m \u001b[39mtry\u001b[39;00m:\n\u001b[0;32m    488\u001b[0m     \u001b[39mif\u001b[39;00m \u001b[39mnot\u001b[39;00m chunked:\n\u001b[1;32m--> 489\u001b[0m         resp \u001b[39m=\u001b[39m conn\u001b[39m.\u001b[39;49murlopen(\n\u001b[0;32m    490\u001b[0m             method\u001b[39m=\u001b[39;49mrequest\u001b[39m.\u001b[39;49mmethod,\n\u001b[0;32m    491\u001b[0m             url\u001b[39m=\u001b[39;49murl,\n\u001b[0;32m    492\u001b[0m             body\u001b[39m=\u001b[39;49mrequest\u001b[39m.\u001b[39;49mbody,\n\u001b[0;32m    493\u001b[0m             headers\u001b[39m=\u001b[39;49mrequest\u001b[39m.\u001b[39;49mheaders,\n\u001b[0;32m    494\u001b[0m             redirect\u001b[39m=\u001b[39;49m\u001b[39mFalse\u001b[39;49;00m,\n\u001b[0;32m    495\u001b[0m             assert_same_host\u001b[39m=\u001b[39;49m\u001b[39mFalse\u001b[39;49;00m,\n\u001b[0;32m    496\u001b[0m             preload_content\u001b[39m=\u001b[39;49m\u001b[39mFalse\u001b[39;49;00m,\n\u001b[0;32m    497\u001b[0m             decode_content\u001b[39m=\u001b[39;49m\u001b[39mFalse\u001b[39;49;00m,\n\u001b[0;32m    498\u001b[0m             retries\u001b[39m=\u001b[39;49m\u001b[39mself\u001b[39;49m\u001b[39m.\u001b[39;49mmax_retries,\n\u001b[0;32m    499\u001b[0m             timeout\u001b[39m=\u001b[39;49mtimeout,\n\u001b[0;32m    500\u001b[0m         )\n\u001b[0;32m    502\u001b[0m     \u001b[39m# Send the request.\u001b[39;00m\n\u001b[0;32m    503\u001b[0m     \u001b[39melse\u001b[39;00m:\n\u001b[0;32m    504\u001b[0m         \u001b[39mif\u001b[39;00m \u001b[39mhasattr\u001b[39m(conn, \u001b[39m\"\u001b[39m\u001b[39mproxy_pool\u001b[39m\u001b[39m\"\u001b[39m):\n",
      "File \u001b[1;32mc:\\Users\\Erick\\OneDrive\\Documentos\\projects\\rs_streets\\.conda\\lib\\site-packages\\urllib3\\connectionpool.py:703\u001b[0m, in \u001b[0;36mHTTPConnectionPool.urlopen\u001b[1;34m(self, method, url, body, headers, retries, redirect, assert_same_host, timeout, pool_timeout, release_conn, chunked, body_pos, **response_kw)\u001b[0m\n\u001b[0;32m    700\u001b[0m     \u001b[39mself\u001b[39m\u001b[39m.\u001b[39m_prepare_proxy(conn)\n\u001b[0;32m    702\u001b[0m \u001b[39m# Make the request on the httplib connection object.\u001b[39;00m\n\u001b[1;32m--> 703\u001b[0m httplib_response \u001b[39m=\u001b[39m \u001b[39mself\u001b[39;49m\u001b[39m.\u001b[39;49m_make_request(\n\u001b[0;32m    704\u001b[0m     conn,\n\u001b[0;32m    705\u001b[0m     method,\n\u001b[0;32m    706\u001b[0m     url,\n\u001b[0;32m    707\u001b[0m     timeout\u001b[39m=\u001b[39;49mtimeout_obj,\n\u001b[0;32m    708\u001b[0m     body\u001b[39m=\u001b[39;49mbody,\n\u001b[0;32m    709\u001b[0m     headers\u001b[39m=\u001b[39;49mheaders,\n\u001b[0;32m    710\u001b[0m     chunked\u001b[39m=\u001b[39;49mchunked,\n\u001b[0;32m    711\u001b[0m )\n\u001b[0;32m    713\u001b[0m \u001b[39m# If we're going to release the connection in ``finally:``, then\u001b[39;00m\n\u001b[0;32m    714\u001b[0m \u001b[39m# the response doesn't need to know about the connection. Otherwise\u001b[39;00m\n\u001b[0;32m    715\u001b[0m \u001b[39m# it will also try to release it and we'll have a double-release\u001b[39;00m\n\u001b[0;32m    716\u001b[0m \u001b[39m# mess.\u001b[39;00m\n\u001b[0;32m    717\u001b[0m response_conn \u001b[39m=\u001b[39m conn \u001b[39mif\u001b[39;00m \u001b[39mnot\u001b[39;00m release_conn \u001b[39melse\u001b[39;00m \u001b[39mNone\u001b[39;00m\n",
      "File \u001b[1;32mc:\\Users\\Erick\\OneDrive\\Documentos\\projects\\rs_streets\\.conda\\lib\\site-packages\\urllib3\\connectionpool.py:449\u001b[0m, in \u001b[0;36mHTTPConnectionPool._make_request\u001b[1;34m(self, conn, method, url, timeout, chunked, **httplib_request_kw)\u001b[0m\n\u001b[0;32m    444\u001b[0m             httplib_response \u001b[39m=\u001b[39m conn\u001b[39m.\u001b[39mgetresponse()\n\u001b[0;32m    445\u001b[0m         \u001b[39mexcept\u001b[39;00m \u001b[39mBaseException\u001b[39;00m \u001b[39mas\u001b[39;00m e:\n\u001b[0;32m    446\u001b[0m             \u001b[39m# Remove the TypeError from the exception chain in\u001b[39;00m\n\u001b[0;32m    447\u001b[0m             \u001b[39m# Python 3 (including for exceptions like SystemExit).\u001b[39;00m\n\u001b[0;32m    448\u001b[0m             \u001b[39m# Otherwise it looks like a bug in the code.\u001b[39;00m\n\u001b[1;32m--> 449\u001b[0m             six\u001b[39m.\u001b[39;49mraise_from(e, \u001b[39mNone\u001b[39;49;00m)\n\u001b[0;32m    450\u001b[0m \u001b[39mexcept\u001b[39;00m (SocketTimeout, BaseSSLError, SocketError) \u001b[39mas\u001b[39;00m e:\n\u001b[0;32m    451\u001b[0m     \u001b[39mself\u001b[39m\u001b[39m.\u001b[39m_raise_timeout(err\u001b[39m=\u001b[39me, url\u001b[39m=\u001b[39murl, timeout_value\u001b[39m=\u001b[39mread_timeout)\n",
      "File \u001b[1;32m<string>:3\u001b[0m, in \u001b[0;36mraise_from\u001b[1;34m(value, from_value)\u001b[0m\n",
      "File \u001b[1;32mc:\\Users\\Erick\\OneDrive\\Documentos\\projects\\rs_streets\\.conda\\lib\\site-packages\\urllib3\\connectionpool.py:444\u001b[0m, in \u001b[0;36mHTTPConnectionPool._make_request\u001b[1;34m(self, conn, method, url, timeout, chunked, **httplib_request_kw)\u001b[0m\n\u001b[0;32m    441\u001b[0m \u001b[39mexcept\u001b[39;00m \u001b[39mTypeError\u001b[39;00m:\n\u001b[0;32m    442\u001b[0m     \u001b[39m# Python 3\u001b[39;00m\n\u001b[0;32m    443\u001b[0m     \u001b[39mtry\u001b[39;00m:\n\u001b[1;32m--> 444\u001b[0m         httplib_response \u001b[39m=\u001b[39m conn\u001b[39m.\u001b[39;49mgetresponse()\n\u001b[0;32m    445\u001b[0m     \u001b[39mexcept\u001b[39;00m \u001b[39mBaseException\u001b[39;00m \u001b[39mas\u001b[39;00m e:\n\u001b[0;32m    446\u001b[0m         \u001b[39m# Remove the TypeError from the exception chain in\u001b[39;00m\n\u001b[0;32m    447\u001b[0m         \u001b[39m# Python 3 (including for exceptions like SystemExit).\u001b[39;00m\n\u001b[0;32m    448\u001b[0m         \u001b[39m# Otherwise it looks like a bug in the code.\u001b[39;00m\n\u001b[0;32m    449\u001b[0m         six\u001b[39m.\u001b[39mraise_from(e, \u001b[39mNone\u001b[39;00m)\n",
      "File \u001b[1;32mc:\\Users\\Erick\\OneDrive\\Documentos\\projects\\rs_streets\\.conda\\lib\\http\\client.py:1377\u001b[0m, in \u001b[0;36mHTTPConnection.getresponse\u001b[1;34m(self)\u001b[0m\n\u001b[0;32m   1375\u001b[0m \u001b[39mtry\u001b[39;00m:\n\u001b[0;32m   1376\u001b[0m     \u001b[39mtry\u001b[39;00m:\n\u001b[1;32m-> 1377\u001b[0m         response\u001b[39m.\u001b[39;49mbegin()\n\u001b[0;32m   1378\u001b[0m     \u001b[39mexcept\u001b[39;00m \u001b[39mConnectionError\u001b[39;00m:\n\u001b[0;32m   1379\u001b[0m         \u001b[39mself\u001b[39m\u001b[39m.\u001b[39mclose()\n",
      "File \u001b[1;32mc:\\Users\\Erick\\OneDrive\\Documentos\\projects\\rs_streets\\.conda\\lib\\http\\client.py:320\u001b[0m, in \u001b[0;36mHTTPResponse.begin\u001b[1;34m(self)\u001b[0m\n\u001b[0;32m    318\u001b[0m \u001b[39m# read until we get a non-100 response\u001b[39;00m\n\u001b[0;32m    319\u001b[0m \u001b[39mwhile\u001b[39;00m \u001b[39mTrue\u001b[39;00m:\n\u001b[1;32m--> 320\u001b[0m     version, status, reason \u001b[39m=\u001b[39m \u001b[39mself\u001b[39;49m\u001b[39m.\u001b[39;49m_read_status()\n\u001b[0;32m    321\u001b[0m     \u001b[39mif\u001b[39;00m status \u001b[39m!=\u001b[39m CONTINUE:\n\u001b[0;32m    322\u001b[0m         \u001b[39mbreak\u001b[39;00m\n",
      "File \u001b[1;32mc:\\Users\\Erick\\OneDrive\\Documentos\\projects\\rs_streets\\.conda\\lib\\http\\client.py:281\u001b[0m, in \u001b[0;36mHTTPResponse._read_status\u001b[1;34m(self)\u001b[0m\n\u001b[0;32m    280\u001b[0m \u001b[39mdef\u001b[39;00m \u001b[39m_read_status\u001b[39m(\u001b[39mself\u001b[39m):\n\u001b[1;32m--> 281\u001b[0m     line \u001b[39m=\u001b[39m \u001b[39mstr\u001b[39m(\u001b[39mself\u001b[39;49m\u001b[39m.\u001b[39;49mfp\u001b[39m.\u001b[39;49mreadline(_MAXLINE \u001b[39m+\u001b[39;49m \u001b[39m1\u001b[39;49m), \u001b[39m\"\u001b[39m\u001b[39miso-8859-1\u001b[39m\u001b[39m\"\u001b[39m)\n\u001b[0;32m    282\u001b[0m     \u001b[39mif\u001b[39;00m \u001b[39mlen\u001b[39m(line) \u001b[39m>\u001b[39m _MAXLINE:\n\u001b[0;32m    283\u001b[0m         \u001b[39mraise\u001b[39;00m LineTooLong(\u001b[39m\"\u001b[39m\u001b[39mstatus line\u001b[39m\u001b[39m\"\u001b[39m)\n",
      "File \u001b[1;32mc:\\Users\\Erick\\OneDrive\\Documentos\\projects\\rs_streets\\.conda\\lib\\socket.py:704\u001b[0m, in \u001b[0;36mSocketIO.readinto\u001b[1;34m(self, b)\u001b[0m\n\u001b[0;32m    702\u001b[0m \u001b[39mwhile\u001b[39;00m \u001b[39mTrue\u001b[39;00m:\n\u001b[0;32m    703\u001b[0m     \u001b[39mtry\u001b[39;00m:\n\u001b[1;32m--> 704\u001b[0m         \u001b[39mreturn\u001b[39;00m \u001b[39mself\u001b[39;49m\u001b[39m.\u001b[39;49m_sock\u001b[39m.\u001b[39;49mrecv_into(b)\n\u001b[0;32m    705\u001b[0m     \u001b[39mexcept\u001b[39;00m timeout:\n\u001b[0;32m    706\u001b[0m         \u001b[39mself\u001b[39m\u001b[39m.\u001b[39m_timeout_occurred \u001b[39m=\u001b[39m \u001b[39mTrue\u001b[39;00m\n",
      "File \u001b[1;32mc:\\Users\\Erick\\OneDrive\\Documentos\\projects\\rs_streets\\.conda\\lib\\ssl.py:1242\u001b[0m, in \u001b[0;36mSSLSocket.recv_into\u001b[1;34m(self, buffer, nbytes, flags)\u001b[0m\n\u001b[0;32m   1238\u001b[0m     \u001b[39mif\u001b[39;00m flags \u001b[39m!=\u001b[39m \u001b[39m0\u001b[39m:\n\u001b[0;32m   1239\u001b[0m         \u001b[39mraise\u001b[39;00m \u001b[39mValueError\u001b[39;00m(\n\u001b[0;32m   1240\u001b[0m           \u001b[39m\"\u001b[39m\u001b[39mnon-zero flags not allowed in calls to recv_into() on \u001b[39m\u001b[39m%s\u001b[39;00m\u001b[39m\"\u001b[39m \u001b[39m%\u001b[39m\n\u001b[0;32m   1241\u001b[0m           \u001b[39mself\u001b[39m\u001b[39m.\u001b[39m\u001b[39m__class__\u001b[39m)\n\u001b[1;32m-> 1242\u001b[0m     \u001b[39mreturn\u001b[39;00m \u001b[39mself\u001b[39;49m\u001b[39m.\u001b[39;49mread(nbytes, buffer)\n\u001b[0;32m   1243\u001b[0m \u001b[39melse\u001b[39;00m:\n\u001b[0;32m   1244\u001b[0m     \u001b[39mreturn\u001b[39;00m \u001b[39msuper\u001b[39m()\u001b[39m.\u001b[39mrecv_into(buffer, nbytes, flags)\n",
      "File \u001b[1;32mc:\\Users\\Erick\\OneDrive\\Documentos\\projects\\rs_streets\\.conda\\lib\\ssl.py:1100\u001b[0m, in \u001b[0;36mSSLSocket.read\u001b[1;34m(self, len, buffer)\u001b[0m\n\u001b[0;32m   1098\u001b[0m \u001b[39mtry\u001b[39;00m:\n\u001b[0;32m   1099\u001b[0m     \u001b[39mif\u001b[39;00m buffer \u001b[39mis\u001b[39;00m \u001b[39mnot\u001b[39;00m \u001b[39mNone\u001b[39;00m:\n\u001b[1;32m-> 1100\u001b[0m         \u001b[39mreturn\u001b[39;00m \u001b[39mself\u001b[39;49m\u001b[39m.\u001b[39;49m_sslobj\u001b[39m.\u001b[39;49mread(\u001b[39mlen\u001b[39;49m, buffer)\n\u001b[0;32m   1101\u001b[0m     \u001b[39melse\u001b[39;00m:\n\u001b[0;32m   1102\u001b[0m         \u001b[39mreturn\u001b[39;00m \u001b[39mself\u001b[39m\u001b[39m.\u001b[39m_sslobj\u001b[39m.\u001b[39mread(\u001b[39mlen\u001b[39m)\n",
      "\u001b[1;31mKeyboardInterrupt\u001b[0m: "
     ]
    }
   ],
   "source": [
    "# Imagenes recolectadas\n",
    "display_img(landsat_df.img_id, parameters = parameters)"
   ]
  },
  {
   "cell_type": "code",
   "execution_count": null,
   "metadata": {},
   "outputs": [],
   "source": [
    "# Data frame con  informacion de las imagenes\n",
    "landsat_df.head() # Con esto se puede filtrar por la nubosidad, la cual parece ser buena por debajo de 10"
   ]
  },
  {
   "cell_type": "markdown",
   "metadata": {},
   "source": [
    "## Filtrado de imagenes"
   ]
  },
  {
   "cell_type": "code",
   "execution_count": null,
   "metadata": {},
   "outputs": [],
   "source": [
    "# Seleccionar las imagenes que tengan una nubosidad por debajo de 10\n",
    "ids_noClouds = landsat_df.img_id[landsat_df.cloud_cover < 10]\n",
    "len(ids_noClouds) # 23 Imagenes "
   ]
  },
  {
   "cell_type": "code",
   "execution_count": null,
   "metadata": {},
   "outputs": [],
   "source": [
    "# Definir region de interes\n",
    "roi = poi.buffer(10000) # Metros = 10 km"
   ]
  },
  {
   "cell_type": "code",
   "execution_count": null,
   "metadata": {},
   "outputs": [],
   "source": [
    "# Nuevos parametros\n",
    "parameters = {\n",
    "    \"min\":6000,\n",
    "    \"max\":16000,\n",
    "    \"dimensions\":800, # Tamaño cuadrado en pixeles\n",
    "    \"bands\": [\"SR_B4\", \"SR_B3\", \"SR_B2\"], # (R, G, B)\n",
    "    \"region\":roi # Region de interes\n",
    "}"
   ]
  },
  {
   "cell_type": "code",
   "execution_count": null,
   "metadata": {},
   "outputs": [],
   "source": [
    "# Imagenes con zoom en la ciudad de Ags\n",
    "display_img(ids_noClouds, parameters = parameters)"
   ]
  },
  {
   "cell_type": "markdown",
   "metadata": {},
   "source": [
    "## NDVI\n",
    "\n",
    "$NDVI = \\frac{NIR - RED}{NIR + RED}$\n",
    "\n",
    "* Saludable = Valores altos\n",
    "* No saludable = Valores bajos\n",
    "\n",
    "`ndvi = image.normalizedDifference([\"B5\", \"B4\"])`"
   ]
  },
  {
   "cell_type": "code",
   "execution_count": null,
   "metadata": {},
   "outputs": [],
   "source": [
    "# Parametros para el analisis NDVI\n",
    "palette = [\"red\", \"yellow\", \"green\"]\n",
    "\n",
    "ndvi_parameters = {\n",
    "    \"min\":0, # Este color sera rojo - no saludable\n",
    "    \"max\":0.4, # Lo que sea mayor sera verde - saludable\n",
    "    \"dimensions\":512,\n",
    "    \"palette\":palette,\n",
    "    \"region\":roi\n",
    "}"
   ]
  },
  {
   "cell_type": "code",
   "execution_count": 46,
   "metadata": {},
   "outputs": [
    {
     "name": "stdout",
     "output_type": "stream",
     "text": [
      "Imagen # 0 2021-11-16 Nubosidad: 3.87\n"
     ]
    },
    {
     "data": {
      "text/html": [
       "<img src=\"https://earthengine.googleapis.com/v1alpha/projects/earthengine-legacy/thumbnails/4059f6cba343e14a60fedfed9ac7583e-f57888872bc3763cd3e10680c6008df9:getPixels\"/>"
      ],
      "text/plain": [
       "<IPython.core.display.Image object>"
      ]
     },
     "metadata": {},
     "output_type": "display_data"
    },
    {
     "name": "stdout",
     "output_type": "stream",
     "text": [
      "Imagen # 2 2021-12-26 Nubosidad: 0.18\n"
     ]
    },
    {
     "data": {
      "text/html": [
       "<img src=\"https://earthengine.googleapis.com/v1alpha/projects/earthengine-legacy/thumbnails/63621a6e54780cef252ae54f5d53e29a-9847dcd1331049d927e06ab22c0ddb17:getPixels\"/>"
      ],
      "text/plain": [
       "<IPython.core.display.Image object>"
      ]
     },
     "metadata": {},
     "output_type": "display_data"
    },
    {
     "name": "stdout",
     "output_type": "stream",
     "text": [
      "Imagen # 4 2022-01-27 Nubosidad: 3.34\n"
     ]
    },
    {
     "data": {
      "text/html": [
       "<img src=\"https://earthengine.googleapis.com/v1alpha/projects/earthengine-legacy/thumbnails/6c5a3501846793f842fe446ba4c4a3af-c40a9525613317f1daf3eb54b5d9807a:getPixels\"/>"
      ],
      "text/plain": [
       "<IPython.core.display.Image object>"
      ]
     },
     "metadata": {},
     "output_type": "display_data"
    },
    {
     "name": "stdout",
     "output_type": "stream",
     "text": [
      "Imagen # 6 2022-02-28 Nubosidad: 3.07\n"
     ]
    },
    {
     "data": {
      "text/html": [
       "<img src=\"https://earthengine.googleapis.com/v1alpha/projects/earthengine-legacy/thumbnails/6d8d87fc16576259d276b09a72212831-e2986fa4419f161bc174308068e6c190:getPixels\"/>"
      ],
      "text/plain": [
       "<IPython.core.display.Image object>"
      ]
     },
     "metadata": {},
     "output_type": "display_data"
    },
    {
     "name": "stdout",
     "output_type": "stream",
     "text": [
      "Imagen # 7 2022-04-01 Nubosidad: 0.02\n"
     ]
    },
    {
     "data": {
      "text/html": [
       "<img src=\"https://earthengine.googleapis.com/v1alpha/projects/earthengine-legacy/thumbnails/09d22c3710d26173b49b6f9ce4d45b44-7af3f80e87e83ebf55d41fd1b302cc43:getPixels\"/>"
      ],
      "text/plain": [
       "<IPython.core.display.Image object>"
      ]
     },
     "metadata": {},
     "output_type": "display_data"
    },
    {
     "name": "stdout",
     "output_type": "stream",
     "text": [
      "Imagen # 10 2022-05-19 Nubosidad: 0.03\n"
     ]
    },
    {
     "data": {
      "text/html": [
       "<img src=\"https://earthengine.googleapis.com/v1alpha/projects/earthengine-legacy/thumbnails/a332410773ce3163118057de81f48cb1-944d186d7a01effcfd6a3d07d35c94b0:getPixels\"/>"
      ],
      "text/plain": [
       "<IPython.core.display.Image object>"
      ]
     },
     "metadata": {},
     "output_type": "display_data"
    },
    {
     "name": "stdout",
     "output_type": "stream",
     "text": [
      "Imagen # 13 2022-07-06 Nubosidad: 5.9\n"
     ]
    },
    {
     "data": {
      "text/html": [
       "<img src=\"https://earthengine.googleapis.com/v1alpha/projects/earthengine-legacy/thumbnails/0f9c7f718fad479b17f786838582616d-f76153250fc7c579741ef4d8fa303b45:getPixels\"/>"
      ],
      "text/plain": [
       "<IPython.core.display.Image object>"
      ]
     },
     "metadata": {},
     "output_type": "display_data"
    },
    {
     "name": "stdout",
     "output_type": "stream",
     "text": [
      "Imagen # 17 2022-09-24 Nubosidad: 5.66\n"
     ]
    },
    {
     "data": {
      "text/html": [
       "<img src=\"https://earthengine.googleapis.com/v1alpha/projects/earthengine-legacy/thumbnails/d4f22f01c45c57848e228b7564b55e42-f70435c7610dce925c57670da3a7d6fa:getPixels\"/>"
      ],
      "text/plain": [
       "<IPython.core.display.Image object>"
      ]
     },
     "metadata": {},
     "output_type": "display_data"
    },
    {
     "name": "stdout",
     "output_type": "stream",
     "text": [
      "Imagen # 19 2022-10-26 Nubosidad: 0.05\n"
     ]
    },
    {
     "data": {
      "text/html": [
       "<img src=\"https://earthengine.googleapis.com/v1alpha/projects/earthengine-legacy/thumbnails/6cbbb42cc65826dcc44ef55c4832ce3f-3dd2649ca5f96995b5897a3bd8b1d9ac:getPixels\"/>"
      ],
      "text/plain": [
       "<IPython.core.display.Image object>"
      ]
     },
     "metadata": {},
     "output_type": "display_data"
    },
    {
     "name": "stdout",
     "output_type": "stream",
     "text": [
      "Imagen # 20 2022-11-11 Nubosidad: 0.07\n"
     ]
    },
    {
     "data": {
      "text/html": [
       "<img src=\"https://earthengine.googleapis.com/v1alpha/projects/earthengine-legacy/thumbnails/041e3ef33a0147e9bd50fea8e6a8b8e8-029cc03db92a86ac049f0e592023be2a:getPixels\"/>"
      ],
      "text/plain": [
       "<IPython.core.display.Image object>"
      ]
     },
     "metadata": {},
     "output_type": "display_data"
    },
    {
     "name": "stdout",
     "output_type": "stream",
     "text": [
      "Imagen # 22 2022-01-02 Nubosidad: 0.02\n"
     ]
    },
    {
     "data": {
      "text/html": [
       "<img src=\"https://earthengine.googleapis.com/v1alpha/projects/earthengine-legacy/thumbnails/981bae262e420c4185e8cd4a6064ff19-34d98085cf2669fdaeedf0e3b958bac4:getPixels\"/>"
      ],
      "text/plain": [
       "<IPython.core.display.Image object>"
      ]
     },
     "metadata": {},
     "output_type": "display_data"
    },
    {
     "name": "stdout",
     "output_type": "stream",
     "text": [
      "Imagen # 23 2022-01-18 Nubosidad: 0.19\n"
     ]
    },
    {
     "data": {
      "text/html": [
       "<img src=\"https://earthengine.googleapis.com/v1alpha/projects/earthengine-legacy/thumbnails/e2b98eea25ddf756c0f150669a6a46e1-85fffb559b73e7f75b713a7af69e9074:getPixels\"/>"
      ],
      "text/plain": [
       "<IPython.core.display.Image object>"
      ]
     },
     "metadata": {},
     "output_type": "display_data"
    },
    {
     "name": "stdout",
     "output_type": "stream",
     "text": [
      "Imagen # 25 2022-02-19 Nubosidad: 0.06\n"
     ]
    },
    {
     "data": {
      "text/html": [
       "<img src=\"https://earthengine.googleapis.com/v1alpha/projects/earthengine-legacy/thumbnails/4854e5a2077d3d5fccb50b70ec0db5af-8382549fc3ed340b4b09e149e6b13e0b:getPixels\"/>"
      ],
      "text/plain": [
       "<IPython.core.display.Image object>"
      ]
     },
     "metadata": {},
     "output_type": "display_data"
    },
    {
     "name": "stdout",
     "output_type": "stream",
     "text": [
      "Imagen # 26 2022-03-07 Nubosidad: 0\n"
     ]
    },
    {
     "data": {
      "text/html": [
       "<img src=\"https://earthengine.googleapis.com/v1alpha/projects/earthengine-legacy/thumbnails/a86420164701fea7962c49085cade335-92bbc5b94d1861dbb785fe69ab0f1e32:getPixels\"/>"
      ],
      "text/plain": [
       "<IPython.core.display.Image object>"
      ]
     },
     "metadata": {},
     "output_type": "display_data"
    },
    {
     "name": "stdout",
     "output_type": "stream",
     "text": [
      "Imagen # 27 2022-03-23 Nubosidad: 0.12\n"
     ]
    },
    {
     "data": {
      "text/html": [
       "<img src=\"https://earthengine.googleapis.com/v1alpha/projects/earthengine-legacy/thumbnails/cf1e51ca9baa2783d42bb6a167b0b030-eca8478d3444ad3f4eb866b8229496de:getPixels\"/>"
      ],
      "text/plain": [
       "<IPython.core.display.Image object>"
      ]
     },
     "metadata": {},
     "output_type": "display_data"
    },
    {
     "name": "stdout",
     "output_type": "stream",
     "text": [
      "Imagen # 28 2022-04-08 Nubosidad: 4.14\n"
     ]
    },
    {
     "data": {
      "text/html": [
       "<img src=\"https://earthengine.googleapis.com/v1alpha/projects/earthengine-legacy/thumbnails/97431bbda3144543391873e234783fa9-385ab3a1b3a4d97c37e719708bbd02da:getPixels\"/>"
      ],
      "text/plain": [
       "<IPython.core.display.Image object>"
      ]
     },
     "metadata": {},
     "output_type": "display_data"
    },
    {
     "name": "stdout",
     "output_type": "stream",
     "text": [
      "Imagen # 29 2022-04-24 Nubosidad: 0\n"
     ]
    },
    {
     "data": {
      "text/html": [
       "<img src=\"https://earthengine.googleapis.com/v1alpha/projects/earthengine-legacy/thumbnails/9ad5688fb580fe12510e9eec1ebffe1c-275d2048311fcaa25fa99e8ea509e4ac:getPixels\"/>"
      ],
      "text/plain": [
       "<IPython.core.display.Image object>"
      ]
     },
     "metadata": {},
     "output_type": "display_data"
    },
    {
     "name": "stdout",
     "output_type": "stream",
     "text": [
      "Imagen # 30 2022-05-10 Nubosidad: 2.7\n"
     ]
    },
    {
     "data": {
      "text/html": [
       "<img src=\"https://earthengine.googleapis.com/v1alpha/projects/earthengine-legacy/thumbnails/f0a4ee84bb552b2a521aa2498b63332f-a506c734d9d88bf9792f24eef6f30992:getPixels\"/>"
      ],
      "text/plain": [
       "<IPython.core.display.Image object>"
      ]
     },
     "metadata": {},
     "output_type": "display_data"
    },
    {
     "name": "stdout",
     "output_type": "stream",
     "text": [
      "Imagen # 31 2022-05-26 Nubosidad: 3.83\n"
     ]
    },
    {
     "data": {
      "text/html": [
       "<img src=\"https://earthengine.googleapis.com/v1alpha/projects/earthengine-legacy/thumbnails/8c0e62080cb87e904808174b36055be5-44ef3d3551e5954ee3beddabf4b01fad:getPixels\"/>"
      ],
      "text/plain": [
       "<IPython.core.display.Image object>"
      ]
     },
     "metadata": {},
     "output_type": "display_data"
    },
    {
     "name": "stdout",
     "output_type": "stream",
     "text": [
      "Imagen # 32 2022-06-11 Nubosidad: 4.01\n"
     ]
    },
    {
     "data": {
      "text/html": [
       "<img src=\"https://earthengine.googleapis.com/v1alpha/projects/earthengine-legacy/thumbnails/2dadfe5d548762f06d7ac7f93de3c5de-dc212d012b8e6b2ed09c4ef5ba7a3ac1:getPixels\"/>"
      ],
      "text/plain": [
       "<IPython.core.display.Image object>"
      ]
     },
     "metadata": {},
     "output_type": "display_data"
    },
    {
     "name": "stdout",
     "output_type": "stream",
     "text": [
      "Imagen # 34 2022-07-13 Nubosidad: 7.42\n"
     ]
    },
    {
     "data": {
      "text/html": [
       "<img src=\"https://earthengine.googleapis.com/v1alpha/projects/earthengine-legacy/thumbnails/347ed629d6410a485ea241830e0e4bae-79c6d403a1952d3c60e16665ea92fb46:getPixels\"/>"
      ],
      "text/plain": [
       "<IPython.core.display.Image object>"
      ]
     },
     "metadata": {},
     "output_type": "display_data"
    },
    {
     "name": "stdout",
     "output_type": "stream",
     "text": [
      "Imagen # 39 2022-10-01 Nubosidad: 1.29\n"
     ]
    },
    {
     "data": {
      "text/html": [
       "<img src=\"https://earthengine.googleapis.com/v1alpha/projects/earthengine-legacy/thumbnails/ebda58664570acf5b3e4db49116a2e96-817212e3439e5dca6b127475dacfe6f6:getPixels\"/>"
      ],
      "text/plain": [
       "<IPython.core.display.Image object>"
      ]
     },
     "metadata": {},
     "output_type": "display_data"
    },
    {
     "name": "stdout",
     "output_type": "stream",
     "text": [
      "Imagen # 41 2022-11-02 Nubosidad: 0.05\n"
     ]
    },
    {
     "data": {
      "text/html": [
       "<img src=\"https://earthengine.googleapis.com/v1alpha/projects/earthengine-legacy/thumbnails/ad5effd2f79c80f0c24fbaea015d04f7-a6f2cddf3acd752bfc2e7581b810fb88:getPixels\"/>"
      ],
      "text/plain": [
       "<IPython.core.display.Image object>"
      ]
     },
     "metadata": {},
     "output_type": "display_data"
    }
   ],
   "source": [
    "# NDVI index por imagen\n",
    "display_img(ids_noClouds, ndvi_parameters, ndvi_display = True)"
   ]
  }
 ],
 "metadata": {
  "kernelspec": {
   "display_name": "Python 3.9.15 (conda)",
   "language": "python",
   "name": "python3"
  },
  "language_info": {
   "codemirror_mode": {
    "name": "ipython",
    "version": 3
   },
   "file_extension": ".py",
   "mimetype": "text/x-python",
   "name": "python",
   "nbconvert_exporter": "python",
   "pygments_lexer": "ipython3",
   "version": "3.9.15"
  },
  "orig_nbformat": 4,
  "vscode": {
   "interpreter": {
    "hash": "98ef3d57ef7dda2493bb0a5332ec68224a063deee5515ba3b6448d5b0a1b9f6a"
   }
  }
 },
 "nbformat": 4,
 "nbformat_minor": 2
}
