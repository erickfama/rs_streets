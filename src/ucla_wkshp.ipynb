{
 "cells": [
  {
   "cell_type": "markdown",
   "metadata": {},
   "source": [
    "# Workflow percepcion remota utilizando imagenes Landsat y Earth engine\n",
    "\n",
    "1. Descargar Anaconda\n",
    "\n",
    "2. Crear virtual environment\n",
    "    > Posibles problemas: **conda activate no es reconocido por VScode**. Ejecutar anaconda prompt y escribir `conda init powershell`\n",
    "                         > **La ejecución de scripts no está habilidatada**. Abrir windows powershell y ejecutar Set-ExecutionPolicy, opción 1.\n",
    "3. installar librerias earthengine-api y geemap:\n",
    "    > `conda install -c conda-forge earthengine-api`\n",
    "    > `conda install -c conda-forge geemap`\n",
    "\n",
    "4. Instalar Google CLI (https://cloud.google.com/sdk/docs/install):\n",
    "    > `(New-Object Net.WebClient).DownloadFile(\"https://dl.google.com/dl/cloudsdk/channels/rapid/GoogleCloudSDKInstaller.exe\", \"$env:Temp\\GoogleCloudSDKInstaller.exe\")`\n",
    "    > `& $env:Temp\\GoogleCloudSDKInstaller.exe`\n",
    "\n",
    "5. Configurar gcloud CLI (último paso de la instalación):\n",
    "    > Conectar con cuenta y proyecto (**rs_diss**)\n",
    "\n",
    "6. Autentificar earthengine `earthengine authenticate`\n",
    "    > Generar token e introducirlo (Se debe habilitar la API de Earth engine en el proyecto de Google Cloud SDK)\n",
    "\n",
    "7. Definir area de estudio\n",
    "\n",
    "8. Descargar imagenes\n",
    "\n",
    "9. Descartar imagenes con base en su nivel de nubosidad\n",
    "\n",
    "10. Acotar imagenes a una region mas pequeña (zoom)\n",
    "\n",
    "11. Aplicar analisis\n"
   ]
  },
  {
   "cell_type": "code",
   "execution_count": null,
   "metadata": {},
   "outputs": [],
   "source": [
    "# Librerias\n",
    "\n",
    "# Manipulacion \n",
    "import pandas as pd \n",
    "import geopandas as gpd\n",
    "\n",
    "# Earth engine (descarga de imagenes)\n",
    "import ee \n",
    "\n",
    "# Mapas interactivos\n",
    "import folium\n",
    "\n",
    "# Plot\n",
    "from IPython.display import Image"
   ]
  },
  {
   "cell_type": "code",
   "execution_count": null,
   "metadata": {},
   "outputs": [],
   "source": [
    "# Autentificar Earth engine\n",
    "# ee.Authenticate() Esto solo debe ser ejecutado la primera vez\n",
    "\n",
    "ee.Initialize()"
   ]
  },
  {
   "cell_type": "code",
   "execution_count": null,
   "metadata": {},
   "outputs": [],
   "source": [
    "# Definir area de estudio\n",
    "\n",
    "# Coordenadas\n",
    "lat = 21.8833333\n",
    "lon = -102.3\n",
    "\n",
    "# Punto de interes\n",
    "poi = ee.Geometry.Point(lon, lat)\n",
    "\n",
    "# Periodo de tiempo\n",
    "start_date = \"2021-11-01\"\n",
    "end_date = \"2022-11-15\""
   ]
  },
  {
   "cell_type": "code",
   "execution_count": null,
   "metadata": {},
   "outputs": [],
   "source": [
    "# Descarga de imagenes Landsat 9\n",
    "landsat = ee.ImageCollection(\"LANDSAT/LC09/C02/T1_L2\")\\\n",
    "    .filterBounds(poi)\\\n",
    "    .filterDate(start_date, end_date)\n",
    "\n",
    "# Cantidad de imagenes obtenidas\n",
    "print(\"Imagenes totales:\", landsat.size().getInfo())"
   ]
  },
  {
   "cell_type": "code",
   "execution_count": null,
   "metadata": {},
   "outputs": [],
   "source": [
    "# Informacion de la primera imagen\n",
    "landsat.first().getInfo()"
   ]
  },
  {
   "cell_type": "code",
   "execution_count": null,
   "metadata": {},
   "outputs": [],
   "source": [
    "# Nubosidad\n",
    "print(landsat.first().get(\"CLOUD_COVER\").getInfo())"
   ]
  },
  {
   "cell_type": "code",
   "execution_count": null,
   "metadata": {},
   "outputs": [],
   "source": [
    "# Fechas\n",
    "landsat.first().get(\"DATE_ACQUIRED\").getInfo()"
   ]
  },
  {
   "cell_type": "code",
   "execution_count": null,
   "metadata": {},
   "outputs": [],
   "source": [
    "# Bandas \n",
    "landsat.first().bandNames().getInfo()"
   ]
  },
  {
   "cell_type": "code",
   "execution_count": null,
   "metadata": {},
   "outputs": [],
   "source": [
    "# Parametros para preprocesamiento\n",
    "parameters = {\n",
    "    \"min\":7000,\n",
    "    \"max\":16000,\n",
    "    \"dimensions\":800, # Tamaño cuadrado en pixeles\n",
    "    \"bands\": [\"SR_B4\", \"SR_B3\", \"SR_B2\"] # (R, G, B)\n",
    "}"
   ]
  },
  {
   "cell_type": "code",
   "execution_count": null,
   "metadata": {},
   "outputs": [],
   "source": [
    "# Imagenes en lista\n",
    "landsat_list = landsat.toList(landsat.size())\n",
    "\n",
    "# Funcion para mostrar cada imagen\n",
    "def display_img(ids, parameters, ndvi_display = False):\n",
    "\n",
    "    for i in ids:\n",
    "    \n",
    "        # Fecha de captura\n",
    "        date = ee.Image(landsat_list.get(i)).get(\"DATE_ACQUIRED\").getInfo()\n",
    "\n",
    "        # Nubosidad\n",
    "        cloud = ee.Image(landsat_list.get(i)).get(\"CLOUD_COVER\").getInfo()\n",
    "    \n",
    "        # Informacion de la imagen\n",
    "        print(\"Imagen #\", i, date, \"Nubosidad:\", cloud)\n",
    "\n",
    "        if ndvi_display == True:\n",
    "            display(Image(url = ee.Image(landsat_list.get(i)).normalizedDifference([\"SR_B5\", \"SR_B4\"]).getThumbURL(parameters)))\n",
    "\n",
    "        else:\n",
    "            # Plot\n",
    "            display(Image(url = ee.Image(landsat_list.get(i)).getThumbURL(parameters)))\n",
    "        \n",
    "# Funcion para crear data frame con info de las imagenes\n",
    "def img_info(ids):\n",
    "    data = []\n",
    "    for i in ids:\n",
    "\n",
    "        # Fecha de captura\n",
    "        date = ee.Image(landsat_list.get(i)).get(\"DATE_ACQUIRED\").getInfo()\n",
    "\n",
    "        # Nubosidad\n",
    "        cloud = ee.Image(landsat_list.get(i)).get(\"CLOUD_COVER\").getInfo()\n",
    "\n",
    "        # Informacion de la imagen\n",
    "        print(\"Imagen #\", i, date, \"Nubosidad:\", cloud)\n",
    "        \n",
    "        image_data = [i, date, cloud]\n",
    "        data.append(image_data)\n",
    "    \n",
    "    return data"
   ]
  },
  {
   "cell_type": "code",
   "execution_count": null,
   "metadata": {},
   "outputs": [],
   "source": [
    "# DF de informacion\n",
    "landsat_df = pd.DataFrame(img_info(range(landsat.size().getInfo())), columns = [\"img_id\", \"date\", \"cloud_cover\"])"
   ]
  },
  {
   "cell_type": "code",
   "execution_count": null,
   "metadata": {},
   "outputs": [],
   "source": [
    "# Imagenes recolectadas\n",
    "display_img(landsat_df.img_id, parameters = parameters)"
   ]
  },
  {
   "cell_type": "code",
   "execution_count": null,
   "metadata": {},
   "outputs": [],
   "source": [
    "# Data frame con  informacion de las imagenes\n",
    "landsat_df.head() # Con esto se puede filtrar por la nubosidad, la cual parece ser buena por debajo de 10"
   ]
  },
  {
   "cell_type": "markdown",
   "metadata": {},
   "source": [
    "## Filtrado de imagenes"
   ]
  },
  {
   "cell_type": "code",
   "execution_count": null,
   "metadata": {},
   "outputs": [],
   "source": [
    "# Seleccionar las imagenes que tengan una nubosidad por debajo de 10\n",
    "ids_noClouds = landsat_df.img_id[landsat_df.cloud_cover < 10]\n",
    "len(ids_noClouds) # 23 Imagenes "
   ]
  },
  {
   "cell_type": "code",
   "execution_count": null,
   "metadata": {},
   "outputs": [],
   "source": [
    "# Definir region de interes\n",
    "roi = poi.buffer(10000) # Metros = 10 km"
   ]
  },
  {
   "cell_type": "code",
   "execution_count": null,
   "metadata": {},
   "outputs": [],
   "source": [
    "# Nuevos parametros\n",
    "parameters = {\n",
    "    \"min\":7000,\n",
    "    \"max\":16000,\n",
    "    \"dimensions\":800, # Tamaño cuadrado en pixeles\n",
    "    \"bands\": [\"SR_B4\", \"SR_B3\", \"SR_B2\"], # (R, G, B)\n",
    "    \"region\":roi # Region de interes\n",
    "}"
   ]
  },
  {
   "cell_type": "code",
   "execution_count": null,
   "metadata": {},
   "outputs": [],
   "source": [
    "display_img([0, 2], parameters)"
   ]
  },
  {
   "cell_type": "code",
   "execution_count": null,
   "metadata": {},
   "outputs": [],
   "source": [
    "# Imagenes con zoom en la ciudad de Ags\n",
    "display_img(ids_noClouds, parameters = parameters)"
   ]
  },
  {
   "cell_type": "markdown",
   "metadata": {},
   "source": [
    "## NDVI\n",
    "\n",
    "$NDVI = \\frac{NIR - RED}{NIR + RED}$\n",
    "\n",
    "* Saludable = Valores altos\n",
    "* No saludable = Valores bajos\n",
    "\n",
    "`ndvi = image.normalizedDifference([\"B5\", \"B4\"])`"
   ]
  },
  {
   "cell_type": "code",
   "execution_count": null,
   "metadata": {},
   "outputs": [],
   "source": [
    "# Parametros para el analisis NDVI\n",
    "palette = [\"red\", \"yellow\", \"green\"]\n",
    "\n",
    "ndvi_parameters = {\n",
    "    \"min\":0, # Este color sera rojo - no saludable\n",
    "    \"max\":0.4, # Lo que sea mayor sera verde - saludable\n",
    "    \"dimensions\":512,\n",
    "    \"palette\":palette,\n",
    "    \"region\":roi\n",
    "}"
   ]
  },
  {
   "cell_type": "code",
   "execution_count": null,
   "metadata": {},
   "outputs": [],
   "source": [
    "# NDVI index por imagen\n",
    "display_img(ids_noClouds, ndvi_parameters, ndvi_display = True)"
   ]
  },
  {
   "cell_type": "markdown",
   "metadata": {},
   "source": [
    "* GOES - Satélite\n",
    "* Repetir para Sentinel\n",
    "* aplicar índice de agua (revisar variaciones)\n",
    "* NOT - Lab Observatorio tierra (Revisar)\n",
    "* Sensores de humedad en satélites (revisar nombre)\n",
    "* Utilizar shape de cuerpos de agua. Contrastar el shapefile con las imágenes. Serie de INEGI de cobertura de suelo. "
   ]
  },
  {
   "cell_type": "markdown",
   "metadata": {},
   "source": [
    "1. Bitácora de fugas (fecha y localización)\n",
    "2. Imágenes de drones (o información al respecto)"
   ]
  }
 ],
 "metadata": {
  "kernelspec": {
   "display_name": "Python 3.9.15 (conda)",
   "language": "python",
   "name": "python3"
  },
  "language_info": {
   "codemirror_mode": {
    "name": "ipython",
    "version": 3
   },
   "file_extension": ".py",
   "mimetype": "text/x-python",
   "name": "python",
   "nbconvert_exporter": "python",
   "pygments_lexer": "ipython3",
   "version": "3.9.15"
  },
  "orig_nbformat": 4,
  "vscode": {
   "interpreter": {
    "hash": "98ef3d57ef7dda2493bb0a5332ec68224a063deee5515ba3b6448d5b0a1b9f6a"
   }
  }
 },
 "nbformat": 4,
 "nbformat_minor": 2
}
