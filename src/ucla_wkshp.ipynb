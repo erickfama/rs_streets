{
 "cells": [
  {
   "cell_type": "markdown",
   "metadata": {},
   "source": [
    "# Workflow percepcion remota utilizando imagenes Landsat y Earth engine\n",
    "\n",
    "1. Descargar Anaconda\n",
    "\n",
    "2. Crear virtual environment\n",
    "    > Posibles problemas: **conda activate no es reconocido por VScode**. Ejecutar anaconda prompt y escribir `conda init powershell`\n",
    "\n",
    "3. installar librerias earthengine-api y geemap:\n",
    "    > `conda install -c conda-forge earthengine-api`\n",
    "    > `conda install -c conda-forge geemap`\n",
    "\n",
    "4. Instalar Google CLI (https://cloud.google.com/sdk/docs/install):\n",
    "    > `(New-Object Net.WebClient).DownloadFile(\"https://dl.google.com/dl/cloudsdk/channels/rapid/GoogleCloudSDKInstaller.exe\", \"$env:Temp\\GoogleCloudSDKInstaller.exe\")`\n",
    "    > `& $env:Temp\\GoogleCloudSDKInstaller.exe`\n",
    "\n",
    "5. Configurar gcloud CLI (último paso de la instalación):\n",
    "    > Conectar con cuenta y proyecto (**rs_diss**)\n",
    "\n",
    "6. Autentificar earthengine `earthengine authenticate`\n",
    "    > Generar token e introducirlo (Se debe habilitar la API de Earth engine en el proyecto de Google Cloud SDK)\n",
    "\n",
    "7. Definir area de estudio\n",
    "\n",
    "8. Descargar imagenes\n",
    "\n",
    "9. Descartar imagenes con base en su nivel de nubosidad\n",
    "\n",
    "10. Acotar imagenes a una region mas pequeña (zoom)\n",
    "\n",
    "11. Aplicar analisis\n"
   ]
  },
  {
   "cell_type": "code",
   "execution_count": 47,
   "metadata": {},
   "outputs": [],
   "source": [
    "# Librerias\n",
    "\n",
    "# Manipulacion \n",
    "import pandas as pd \n",
    "import geopandas as gpd\n",
    "\n",
    "# Earth engine (descarga de imagenes)\n",
    "import ee \n",
    "\n",
    "# Mapas interactivos\n",
    "import folium\n",
    "\n",
    "# Plot\n",
    "from IPython.display import Image"
   ]
  },
  {
   "cell_type": "code",
   "execution_count": null,
   "metadata": {},
   "outputs": [],
   "source": [
    "# Autentificar Earth engine\n",
    "ee.Authenticate()\n",
    "\n",
    "ee.Initialize()"
   ]
  },
  {
   "cell_type": "code",
   "execution_count": null,
   "metadata": {},
   "outputs": [],
   "source": [
    "# Definir area de estudio\n",
    "\n",
    "# Coordenadas\n",
    "lat = 21.8833333\n",
    "lon = -102.3\n",
    "\n",
    "# Punto de interes\n",
    "poi = ee.Geometry.Point(lon, lat)\n",
    "\n",
    "# Periodo de tiempo\n",
    "start_date = \"2021-11-01\"\n",
    "end_date = \"2022-11-15\""
   ]
  },
  {
   "cell_type": "code",
   "execution_count": null,
   "metadata": {},
   "outputs": [],
   "source": [
    "# Descarga de imagenes Landsat 9\n",
    "landsat = ee.ImageCollection(\"LANDSAT/LC09/C02/T1_L2\")\\\n",
    "    .filterBounds(poi)\\\n",
    "    .filterDate(start_date, end_date)\n",
    "\n",
    "# Cantidad de imagenes obtenidas\n",
    "print(\"Imagenes totales:\", landsat.size().getInfo())"
   ]
  },
  {
   "cell_type": "code",
   "execution_count": null,
   "metadata": {},
   "outputs": [],
   "source": [
    "# Informacion de la primera imagen\n",
    "landsat.first().getInfo()"
   ]
  },
  {
   "cell_type": "code",
   "execution_count": null,
   "metadata": {},
   "outputs": [],
   "source": [
    "# Nubosidad\n",
    "print(landsat.get(\"CLOUD_COVER\").getInfo())"
   ]
  },
  {
   "cell_type": "code",
   "execution_count": null,
   "metadata": {},
   "outputs": [],
   "source": [
    "# Fechas\n",
    "landsat.first().get(\"DATE_ACQUIRED\").getInfo()"
   ]
  },
  {
   "cell_type": "code",
   "execution_count": null,
   "metadata": {},
   "outputs": [],
   "source": [
    "# Bandas \n",
    "landsat.first().bandNames().getInfo()"
   ]
  },
  {
   "cell_type": "code",
   "execution_count": null,
   "metadata": {},
   "outputs": [],
   "source": [
    "# Parametros para preprocesamiento\n",
    "parameters = {\n",
    "    \"min\":7000,\n",
    "    \"max\":16000,\n",
    "    \"dimensions\":800, # Tamaño cuadrado en pixeles\n",
    "    \"bands\": [\"SR_B4\", \"SR_B3\", \"SR_B2\"] # (R, G, B)\n",
    "}"
   ]
  },
  {
   "cell_type": "code",
   "execution_count": null,
   "metadata": {},
   "outputs": [],
   "source": [
    "# Imagenes en lista\n",
    "landsat_list = landsat.toList(landsat.size())\n",
    "\n",
    "# Funcion para mostrar cada imagen\n",
    "def display_img(ids, parameters, ndvi_display = False):\n",
    "\n",
    "    for i in ids:\n",
    "    \n",
    "        # Fecha de captura\n",
    "        date = ee.Image(landsat_list.get(i)).get(\"DATE_ACQUIRED\").getInfo()\n",
    "\n",
    "        # Nubosidad\n",
    "        cloud = ee.Image(landsat_list.get(i)).get(\"CLOUD_COVER\").getInfo()\n",
    "    \n",
    "        # Informacion de la imagen\n",
    "        print(\"Imagen #\", i, date, \"Nubosidad:\", cloud)\n",
    "\n",
    "        if ndvi_display == True:\n",
    "            display(Image(url = ee.Image(landsat_list.get(i)).normalizedDifference([\"SR_B5\", \"SR_B4\"]).getThumbURL(parameters)))\n",
    "\n",
    "        else:\n",
    "            # Plot\n",
    "            display(Image(url = ee.Image(landsat_list.get(i)).getThumbURL(parameters)))\n",
    "        \n",
    "# Funcion para crear data frame con info de las imagenes\n",
    "def img_info(ids):\n",
    "    data = []\n",
    "    for i in ids:\n",
    "\n",
    "        # Fecha de captura\n",
    "        date = ee.Image(landsat_list.get(i)).get(\"DATE_ACQUIRED\").getInfo()\n",
    "\n",
    "        # Nubosidad\n",
    "        cloud = ee.Image(landsat_list.get(i)).get(\"CLOUD_COVER\").getInfo()\n",
    "\n",
    "        # Informacion de la imagen\n",
    "        print(\"Imagen #\", i, date, \"Nubosidad:\", cloud)\n",
    "        \n",
    "        image_data = [i, date, cloud]\n",
    "        data.append(image_data)\n",
    "    \n",
    "    return data"
   ]
  },
  {
   "cell_type": "code",
   "execution_count": null,
   "metadata": {},
   "outputs": [],
   "source": [
    "# DF de informacion\n",
    "landsat_df = pd.DataFrame(img_info(range(landsat.size().getInfo())), columns = [\"img_id\", \"date\", \"cloud_cover\"])"
   ]
  },
  {
   "cell_type": "code",
   "execution_count": 48,
   "metadata": {},
   "outputs": [
    {
     "name": "stdout",
     "output_type": "stream",
     "text": [
      "Imagen # 0 2021-11-16 Nubosidad: 3.87\n"
     ]
    },
    {
     "data": {
      "text/html": [
       "<img src=\"https://earthengine.googleapis.com/v1alpha/projects/earthengine-legacy/thumbnails/83a40f25ab216956c2302dd243e9476e-a21088bf70223e928641a6d7e130dfeb:getPixels\"/>"
      ],
      "text/plain": [
       "<IPython.core.display.Image object>"
      ]
     },
     "metadata": {},
     "output_type": "display_data"
    },
    {
     "name": "stdout",
     "output_type": "stream",
     "text": [
      "Imagen # 1 2021-12-10 Nubosidad: 45.52\n"
     ]
    },
    {
     "data": {
      "text/html": [
       "<img src=\"https://earthengine.googleapis.com/v1alpha/projects/earthengine-legacy/thumbnails/0bf143a2c0b672b16462514721275020-fd311e4f0dfd333bfa121e8fe12f8896:getPixels\"/>"
      ],
      "text/plain": [
       "<IPython.core.display.Image object>"
      ]
     },
     "metadata": {},
     "output_type": "display_data"
    },
    {
     "name": "stdout",
     "output_type": "stream",
     "text": [
      "Imagen # 2 2021-12-26 Nubosidad: 0.18\n"
     ]
    },
    {
     "data": {
      "text/html": [
       "<img src=\"https://earthengine.googleapis.com/v1alpha/projects/earthengine-legacy/thumbnails/c8ec04692dee54e3749549a2dc8dd3a7-5c7bab08b22409ba5572faa8f046b073:getPixels\"/>"
      ],
      "text/plain": [
       "<IPython.core.display.Image object>"
      ]
     },
     "metadata": {},
     "output_type": "display_data"
    },
    {
     "name": "stdout",
     "output_type": "stream",
     "text": [
      "Imagen # 3 2022-01-11 Nubosidad: 54.56\n"
     ]
    },
    {
     "data": {
      "text/html": [
       "<img src=\"https://earthengine.googleapis.com/v1alpha/projects/earthengine-legacy/thumbnails/3f155d16b6f92ceb947460dcc2b83a73-1fd0bb95143c8bff7f3cf3bb8f2d2380:getPixels\"/>"
      ],
      "text/plain": [
       "<IPython.core.display.Image object>"
      ]
     },
     "metadata": {},
     "output_type": "display_data"
    },
    {
     "name": "stdout",
     "output_type": "stream",
     "text": [
      "Imagen # 4 2022-01-27 Nubosidad: 3.34\n"
     ]
    },
    {
     "data": {
      "text/html": [
       "<img src=\"https://earthengine.googleapis.com/v1alpha/projects/earthengine-legacy/thumbnails/d6dde411fcb240d96adb283909b45b83-431c8f5eaf5e58f6e061d70b4efe3913:getPixels\"/>"
      ],
      "text/plain": [
       "<IPython.core.display.Image object>"
      ]
     },
     "metadata": {},
     "output_type": "display_data"
    },
    {
     "name": "stdout",
     "output_type": "stream",
     "text": [
      "Imagen # 5 2022-02-12 Nubosidad: 13.48\n"
     ]
    },
    {
     "data": {
      "text/html": [
       "<img src=\"https://earthengine.googleapis.com/v1alpha/projects/earthengine-legacy/thumbnails/f1d891fe58e397e0c1315d306aa410cb-f5d98719a7ad171221061f100fe1af9c:getPixels\"/>"
      ],
      "text/plain": [
       "<IPython.core.display.Image object>"
      ]
     },
     "metadata": {},
     "output_type": "display_data"
    },
    {
     "name": "stdout",
     "output_type": "stream",
     "text": [
      "Imagen # 6 2022-02-28 Nubosidad: 3.07\n"
     ]
    },
    {
     "data": {
      "text/html": [
       "<img src=\"https://earthengine.googleapis.com/v1alpha/projects/earthengine-legacy/thumbnails/1d8cc2e5e252e9a1079f93504df68267-164d2ab595f33c043ff3962dfa37f3e2:getPixels\"/>"
      ],
      "text/plain": [
       "<IPython.core.display.Image object>"
      ]
     },
     "metadata": {},
     "output_type": "display_data"
    },
    {
     "name": "stdout",
     "output_type": "stream",
     "text": [
      "Imagen # 7 2022-04-01 Nubosidad: 0.02\n"
     ]
    },
    {
     "data": {
      "text/html": [
       "<img src=\"https://earthengine.googleapis.com/v1alpha/projects/earthengine-legacy/thumbnails/db58d962eb281c6370e83562352ba341-a8bc0e2a1f587b357de461f4da8a6130:getPixels\"/>"
      ],
      "text/plain": [
       "<IPython.core.display.Image object>"
      ]
     },
     "metadata": {},
     "output_type": "display_data"
    },
    {
     "name": "stdout",
     "output_type": "stream",
     "text": [
      "Imagen # 8 2022-04-17 Nubosidad: 25.06\n"
     ]
    },
    {
     "data": {
      "text/html": [
       "<img src=\"https://earthengine.googleapis.com/v1alpha/projects/earthengine-legacy/thumbnails/8c90068dc419937a6849d4da90a6dae5-e20c546d663ba84d81914f37bd8f128c:getPixels\"/>"
      ],
      "text/plain": [
       "<IPython.core.display.Image object>"
      ]
     },
     "metadata": {},
     "output_type": "display_data"
    },
    {
     "name": "stdout",
     "output_type": "stream",
     "text": [
      "Imagen # 9 2022-05-03 Nubosidad: 31.1\n"
     ]
    },
    {
     "data": {
      "text/html": [
       "<img src=\"https://earthengine.googleapis.com/v1alpha/projects/earthengine-legacy/thumbnails/e956e6d5d29a81cb7cb9b094358e87ae-7bca91db39238220a94a13a765b41035:getPixels\"/>"
      ],
      "text/plain": [
       "<IPython.core.display.Image object>"
      ]
     },
     "metadata": {},
     "output_type": "display_data"
    },
    {
     "name": "stdout",
     "output_type": "stream",
     "text": [
      "Imagen # 10 2022-05-19 Nubosidad: 0.03\n"
     ]
    },
    {
     "data": {
      "text/html": [
       "<img src=\"https://earthengine.googleapis.com/v1alpha/projects/earthengine-legacy/thumbnails/5b522942eb20d51e9c3e9e1029462d70-f20d90b0873a311f6e14f9c252a6220e:getPixels\"/>"
      ],
      "text/plain": [
       "<IPython.core.display.Image object>"
      ]
     },
     "metadata": {},
     "output_type": "display_data"
    },
    {
     "name": "stdout",
     "output_type": "stream",
     "text": [
      "Imagen # 11 2022-06-04 Nubosidad: 21.64\n"
     ]
    },
    {
     "data": {
      "text/html": [
       "<img src=\"https://earthengine.googleapis.com/v1alpha/projects/earthengine-legacy/thumbnails/c0f7b12aae7951f68b17aac462cfa4a6-11769abecf7fb9cc8d75925bcfba0b19:getPixels\"/>"
      ],
      "text/plain": [
       "<IPython.core.display.Image object>"
      ]
     },
     "metadata": {},
     "output_type": "display_data"
    },
    {
     "name": "stdout",
     "output_type": "stream",
     "text": [
      "Imagen # 12 2022-06-20 Nubosidad: 30.73\n"
     ]
    },
    {
     "data": {
      "text/html": [
       "<img src=\"https://earthengine.googleapis.com/v1alpha/projects/earthengine-legacy/thumbnails/944b9d77e2322453b91a45220f31ce61-f4076f255a44fc58c49f189a827a7181:getPixels\"/>"
      ],
      "text/plain": [
       "<IPython.core.display.Image object>"
      ]
     },
     "metadata": {},
     "output_type": "display_data"
    },
    {
     "name": "stdout",
     "output_type": "stream",
     "text": [
      "Imagen # 13 2022-07-06 Nubosidad: 5.9\n"
     ]
    },
    {
     "data": {
      "text/html": [
       "<img src=\"https://earthengine.googleapis.com/v1alpha/projects/earthengine-legacy/thumbnails/5916d5aff72818a4cd41f9f393e30d80-f4f88efe8bd194c3ce47d2e27904bd28:getPixels\"/>"
      ],
      "text/plain": [
       "<IPython.core.display.Image object>"
      ]
     },
     "metadata": {},
     "output_type": "display_data"
    },
    {
     "name": "stdout",
     "output_type": "stream",
     "text": [
      "Imagen # 14 2022-07-22 Nubosidad: 82.15\n"
     ]
    },
    {
     "data": {
      "text/html": [
       "<img src=\"https://earthengine.googleapis.com/v1alpha/projects/earthengine-legacy/thumbnails/b411991d79c762771eedc95749550d43-cecabca47043e67a1888a4e782531385:getPixels\"/>"
      ],
      "text/plain": [
       "<IPython.core.display.Image object>"
      ]
     },
     "metadata": {},
     "output_type": "display_data"
    },
    {
     "name": "stdout",
     "output_type": "stream",
     "text": [
      "Imagen # 15 2022-08-07 Nubosidad: 31.21\n"
     ]
    },
    {
     "data": {
      "text/html": [
       "<img src=\"https://earthengine.googleapis.com/v1alpha/projects/earthengine-legacy/thumbnails/efadbecc21877820122f6da316a21446-d16f249b280becd4a7e42200411b6cfe:getPixels\"/>"
      ],
      "text/plain": [
       "<IPython.core.display.Image object>"
      ]
     },
     "metadata": {},
     "output_type": "display_data"
    },
    {
     "name": "stdout",
     "output_type": "stream",
     "text": [
      "Imagen # 16 2022-09-08 Nubosidad: 67.06\n"
     ]
    },
    {
     "data": {
      "text/html": [
       "<img src=\"https://earthengine.googleapis.com/v1alpha/projects/earthengine-legacy/thumbnails/5569dae052a3537a59bda83bd83a5c87-e7acbf4a579aff31c5f692dbd7c4e0ef:getPixels\"/>"
      ],
      "text/plain": [
       "<IPython.core.display.Image object>"
      ]
     },
     "metadata": {},
     "output_type": "display_data"
    },
    {
     "name": "stdout",
     "output_type": "stream",
     "text": [
      "Imagen # 17 2022-09-24 Nubosidad: 5.66\n"
     ]
    },
    {
     "data": {
      "text/html": [
       "<img src=\"https://earthengine.googleapis.com/v1alpha/projects/earthengine-legacy/thumbnails/9ef47cbfc66cf20a4eaaf9d95a584ddb-d43fc80af2301acebae072e3710a4655:getPixels\"/>"
      ],
      "text/plain": [
       "<IPython.core.display.Image object>"
      ]
     },
     "metadata": {},
     "output_type": "display_data"
    },
    {
     "name": "stdout",
     "output_type": "stream",
     "text": [
      "Imagen # 18 2022-10-10 Nubosidad: 38.57\n"
     ]
    },
    {
     "data": {
      "text/html": [
       "<img src=\"https://earthengine.googleapis.com/v1alpha/projects/earthengine-legacy/thumbnails/61d5365275c91f8c952d09d87f7ac041-7e22b77476cc8fac4210d8564702324d:getPixels\"/>"
      ],
      "text/plain": [
       "<IPython.core.display.Image object>"
      ]
     },
     "metadata": {},
     "output_type": "display_data"
    },
    {
     "name": "stdout",
     "output_type": "stream",
     "text": [
      "Imagen # 19 2022-10-26 Nubosidad: 0.05\n"
     ]
    },
    {
     "data": {
      "text/html": [
       "<img src=\"https://earthengine.googleapis.com/v1alpha/projects/earthengine-legacy/thumbnails/c1fd9c8d6cf7df04e9bfdb3a0242542d-9c7651a0bbd344aefee06382ce708cce:getPixels\"/>"
      ],
      "text/plain": [
       "<IPython.core.display.Image object>"
      ]
     },
     "metadata": {},
     "output_type": "display_data"
    },
    {
     "name": "stdout",
     "output_type": "stream",
     "text": [
      "Imagen # 20 2022-11-11 Nubosidad: 0.07\n"
     ]
    },
    {
     "data": {
      "text/html": [
       "<img src=\"https://earthengine.googleapis.com/v1alpha/projects/earthengine-legacy/thumbnails/25482d1c16722d2402eba63982b1e63c-817c266bff9b25b2fe621bb21f0b3b43:getPixels\"/>"
      ],
      "text/plain": [
       "<IPython.core.display.Image object>"
      ]
     },
     "metadata": {},
     "output_type": "display_data"
    },
    {
     "name": "stdout",
     "output_type": "stream",
     "text": [
      "Imagen # 21 2021-12-17 Nubosidad: 14.6\n"
     ]
    },
    {
     "data": {
      "text/html": [
       "<img src=\"https://earthengine.googleapis.com/v1alpha/projects/earthengine-legacy/thumbnails/ae21cbf14dffa5ae01cbf0095e5259db-3022248592a5a341224771d5c6957507:getPixels\"/>"
      ],
      "text/plain": [
       "<IPython.core.display.Image object>"
      ]
     },
     "metadata": {},
     "output_type": "display_data"
    },
    {
     "name": "stdout",
     "output_type": "stream",
     "text": [
      "Imagen # 22 2022-01-02 Nubosidad: 0.02\n"
     ]
    },
    {
     "data": {
      "text/html": [
       "<img src=\"https://earthengine.googleapis.com/v1alpha/projects/earthengine-legacy/thumbnails/a37606d59794173e1a66ec67540c08f3-73224f201b522debca0a48360e67ece1:getPixels\"/>"
      ],
      "text/plain": [
       "<IPython.core.display.Image object>"
      ]
     },
     "metadata": {},
     "output_type": "display_data"
    },
    {
     "name": "stdout",
     "output_type": "stream",
     "text": [
      "Imagen # 23 2022-01-18 Nubosidad: 0.19\n"
     ]
    },
    {
     "data": {
      "text/html": [
       "<img src=\"https://earthengine.googleapis.com/v1alpha/projects/earthengine-legacy/thumbnails/417f14f4dc166822053e1021aecb3be4-029642c0b8ebcdc5fd743dbd7b1ebbc1:getPixels\"/>"
      ],
      "text/plain": [
       "<IPython.core.display.Image object>"
      ]
     },
     "metadata": {},
     "output_type": "display_data"
    },
    {
     "name": "stdout",
     "output_type": "stream",
     "text": [
      "Imagen # 24 2022-02-03 Nubosidad: 30.2\n"
     ]
    },
    {
     "data": {
      "text/html": [
       "<img src=\"https://earthengine.googleapis.com/v1alpha/projects/earthengine-legacy/thumbnails/cd2168da68b07cd1ff0410e736027ff9-92dc04b08ffa07f7b70116918b1b97ac:getPixels\"/>"
      ],
      "text/plain": [
       "<IPython.core.display.Image object>"
      ]
     },
     "metadata": {},
     "output_type": "display_data"
    },
    {
     "name": "stdout",
     "output_type": "stream",
     "text": [
      "Imagen # 25 2022-02-19 Nubosidad: 0.06\n"
     ]
    },
    {
     "data": {
      "text/html": [
       "<img src=\"https://earthengine.googleapis.com/v1alpha/projects/earthengine-legacy/thumbnails/aede3fd8c91f0782160e41b2ae545202-46751efdada7a018f19175d69a016780:getPixels\"/>"
      ],
      "text/plain": [
       "<IPython.core.display.Image object>"
      ]
     },
     "metadata": {},
     "output_type": "display_data"
    },
    {
     "name": "stdout",
     "output_type": "stream",
     "text": [
      "Imagen # 26 2022-03-07 Nubosidad: 0\n"
     ]
    },
    {
     "data": {
      "text/html": [
       "<img src=\"https://earthengine.googleapis.com/v1alpha/projects/earthengine-legacy/thumbnails/396791a8bf6f2c80e58c4e088a95a38e-98ad679bd673bdb1414d6b189d7cf88c:getPixels\"/>"
      ],
      "text/plain": [
       "<IPython.core.display.Image object>"
      ]
     },
     "metadata": {},
     "output_type": "display_data"
    },
    {
     "name": "stdout",
     "output_type": "stream",
     "text": [
      "Imagen # 27 2022-03-23 Nubosidad: 0.12\n"
     ]
    },
    {
     "data": {
      "text/html": [
       "<img src=\"https://earthengine.googleapis.com/v1alpha/projects/earthengine-legacy/thumbnails/780fe1642f412db5913eeca506ab3ad6-1c69b9be3654e0daec0bc4758610f06f:getPixels\"/>"
      ],
      "text/plain": [
       "<IPython.core.display.Image object>"
      ]
     },
     "metadata": {},
     "output_type": "display_data"
    },
    {
     "name": "stdout",
     "output_type": "stream",
     "text": [
      "Imagen # 28 2022-04-08 Nubosidad: 4.14\n"
     ]
    },
    {
     "data": {
      "text/html": [
       "<img src=\"https://earthengine.googleapis.com/v1alpha/projects/earthengine-legacy/thumbnails/02751ed4f80a2c74e9e9dda4b491ceb8-b2b28cc7c202a0f0871fcfdf19e77c13:getPixels\"/>"
      ],
      "text/plain": [
       "<IPython.core.display.Image object>"
      ]
     },
     "metadata": {},
     "output_type": "display_data"
    },
    {
     "name": "stdout",
     "output_type": "stream",
     "text": [
      "Imagen # 29 2022-04-24 Nubosidad: 0\n"
     ]
    },
    {
     "data": {
      "text/html": [
       "<img src=\"https://earthengine.googleapis.com/v1alpha/projects/earthengine-legacy/thumbnails/1c57a55638f1bcfb253233edd0444632-65bea978a9c5cea166ea5b9bda17680a:getPixels\"/>"
      ],
      "text/plain": [
       "<IPython.core.display.Image object>"
      ]
     },
     "metadata": {},
     "output_type": "display_data"
    },
    {
     "name": "stdout",
     "output_type": "stream",
     "text": [
      "Imagen # 30 2022-05-10 Nubosidad: 2.7\n"
     ]
    },
    {
     "data": {
      "text/html": [
       "<img src=\"https://earthengine.googleapis.com/v1alpha/projects/earthengine-legacy/thumbnails/a73cb97dfda2fb1017d97deca7fcff2c-7f088993228deb426b6734c0350d8f56:getPixels\"/>"
      ],
      "text/plain": [
       "<IPython.core.display.Image object>"
      ]
     },
     "metadata": {},
     "output_type": "display_data"
    },
    {
     "name": "stdout",
     "output_type": "stream",
     "text": [
      "Imagen # 31 2022-05-26 Nubosidad: 3.83\n"
     ]
    },
    {
     "data": {
      "text/html": [
       "<img src=\"https://earthengine.googleapis.com/v1alpha/projects/earthengine-legacy/thumbnails/5776244c32fa2de2fde45321571cf425-9e0e3e8d1155d469ccf5604e676aab9d:getPixels\"/>"
      ],
      "text/plain": [
       "<IPython.core.display.Image object>"
      ]
     },
     "metadata": {},
     "output_type": "display_data"
    },
    {
     "name": "stdout",
     "output_type": "stream",
     "text": [
      "Imagen # 32 2022-06-11 Nubosidad: 4.01\n"
     ]
    },
    {
     "data": {
      "text/html": [
       "<img src=\"https://earthengine.googleapis.com/v1alpha/projects/earthengine-legacy/thumbnails/54969dd1dc88cda0c494cb094b1de00d-edee044aa126995e77dab022f0c49733:getPixels\"/>"
      ],
      "text/plain": [
       "<IPython.core.display.Image object>"
      ]
     },
     "metadata": {},
     "output_type": "display_data"
    },
    {
     "name": "stdout",
     "output_type": "stream",
     "text": [
      "Imagen # 33 2022-06-27 Nubosidad: 15.6\n"
     ]
    },
    {
     "data": {
      "text/html": [
       "<img src=\"https://earthengine.googleapis.com/v1alpha/projects/earthengine-legacy/thumbnails/e13f999a8425d671d398fa18e8a5fea9-f53ab3b7723706f03947e40420e1236c:getPixels\"/>"
      ],
      "text/plain": [
       "<IPython.core.display.Image object>"
      ]
     },
     "metadata": {},
     "output_type": "display_data"
    },
    {
     "name": "stdout",
     "output_type": "stream",
     "text": [
      "Imagen # 34 2022-07-13 Nubosidad: 7.42\n"
     ]
    },
    {
     "data": {
      "text/html": [
       "<img src=\"https://earthengine.googleapis.com/v1alpha/projects/earthengine-legacy/thumbnails/ba4395df01d33226a1a2f67c5b187c26-0479dde5306a727c21df175fa052c76b:getPixels\"/>"
      ],
      "text/plain": [
       "<IPython.core.display.Image object>"
      ]
     },
     "metadata": {},
     "output_type": "display_data"
    },
    {
     "name": "stdout",
     "output_type": "stream",
     "text": [
      "Imagen # 35 2022-07-29 Nubosidad: 61.91\n"
     ]
    },
    {
     "data": {
      "text/html": [
       "<img src=\"https://earthengine.googleapis.com/v1alpha/projects/earthengine-legacy/thumbnails/675aa9d2ba304fff7bd09fffa35c3024-26d6a66342e67d693e52214612d8901e:getPixels\"/>"
      ],
      "text/plain": [
       "<IPython.core.display.Image object>"
      ]
     },
     "metadata": {},
     "output_type": "display_data"
    },
    {
     "name": "stdout",
     "output_type": "stream",
     "text": [
      "Imagen # 36 2022-08-14 Nubosidad: 60.73\n"
     ]
    },
    {
     "data": {
      "text/html": [
       "<img src=\"https://earthengine.googleapis.com/v1alpha/projects/earthengine-legacy/thumbnails/941cf7c7cc8ee45a0e0eb1a172de2820-42667f3a93cb0be85bf71211c9e9b2c8:getPixels\"/>"
      ],
      "text/plain": [
       "<IPython.core.display.Image object>"
      ]
     },
     "metadata": {},
     "output_type": "display_data"
    },
    {
     "name": "stdout",
     "output_type": "stream",
     "text": [
      "Imagen # 37 2022-08-30 Nubosidad: 36.92\n"
     ]
    },
    {
     "data": {
      "text/html": [
       "<img src=\"https://earthengine.googleapis.com/v1alpha/projects/earthengine-legacy/thumbnails/5ecd3b9045a7e93118f3546ecb1d8628-2cb8efc59e7130dbe2ff4a9b0bed0aca:getPixels\"/>"
      ],
      "text/plain": [
       "<IPython.core.display.Image object>"
      ]
     },
     "metadata": {},
     "output_type": "display_data"
    },
    {
     "name": "stdout",
     "output_type": "stream",
     "text": [
      "Imagen # 38 2022-09-15 Nubosidad: 12.46\n"
     ]
    },
    {
     "data": {
      "text/html": [
       "<img src=\"https://earthengine.googleapis.com/v1alpha/projects/earthengine-legacy/thumbnails/6672d9d6ebdead4ec021cb49e95ed907-104a80e0513ce5e867380c5a8b0207a5:getPixels\"/>"
      ],
      "text/plain": [
       "<IPython.core.display.Image object>"
      ]
     },
     "metadata": {},
     "output_type": "display_data"
    },
    {
     "name": "stdout",
     "output_type": "stream",
     "text": [
      "Imagen # 39 2022-10-01 Nubosidad: 1.29\n"
     ]
    },
    {
     "data": {
      "text/html": [
       "<img src=\"https://earthengine.googleapis.com/v1alpha/projects/earthengine-legacy/thumbnails/1468d85d1f3ff440ff1fbe35eef4cf76-2e6da29efb16b84d2add2ef0a5d6781a:getPixels\"/>"
      ],
      "text/plain": [
       "<IPython.core.display.Image object>"
      ]
     },
     "metadata": {},
     "output_type": "display_data"
    },
    {
     "name": "stdout",
     "output_type": "stream",
     "text": [
      "Imagen # 40 2022-10-17 Nubosidad: 11.15\n"
     ]
    },
    {
     "data": {
      "text/html": [
       "<img src=\"https://earthengine.googleapis.com/v1alpha/projects/earthengine-legacy/thumbnails/268f931c88251e6810775c82d13d145d-e009a324107e2f626152846d63db3f33:getPixels\"/>"
      ],
      "text/plain": [
       "<IPython.core.display.Image object>"
      ]
     },
     "metadata": {},
     "output_type": "display_data"
    },
    {
     "name": "stdout",
     "output_type": "stream",
     "text": [
      "Imagen # 41 2022-11-02 Nubosidad: 0.05\n"
     ]
    },
    {
     "data": {
      "text/html": [
       "<img src=\"https://earthengine.googleapis.com/v1alpha/projects/earthengine-legacy/thumbnails/d144845d604d48b50530eefe7545224f-a18d15d881237a4390ee71028554b05c:getPixels\"/>"
      ],
      "text/plain": [
       "<IPython.core.display.Image object>"
      ]
     },
     "metadata": {},
     "output_type": "display_data"
    }
   ],
   "source": [
    "# Imagenes recolectadas\n",
    "display_img(landsat_df.img_id, parameters = parameters)"
   ]
  },
  {
   "cell_type": "code",
   "execution_count": null,
   "metadata": {},
   "outputs": [],
   "source": [
    "# Data frame con  informacion de las imagenes\n",
    "landsat_df.head() # Con esto se puede filtrar por la nubosidad, la cual parece ser buena por debajo de 10"
   ]
  },
  {
   "cell_type": "markdown",
   "metadata": {},
   "source": [
    "## Filtrado de imagenes"
   ]
  },
  {
   "cell_type": "code",
   "execution_count": null,
   "metadata": {},
   "outputs": [],
   "source": [
    "# Seleccionar las imagenes que tengan una nubosidad por debajo de 10\n",
    "ids_noClouds = landsat_df.img_id[landsat_df.cloud_cover < 10]\n",
    "len(ids_noClouds) # 23 Imagenes "
   ]
  },
  {
   "cell_type": "code",
   "execution_count": null,
   "metadata": {},
   "outputs": [],
   "source": [
    "# Definir region de interes\n",
    "roi = poi.buffer(10000) # Metros = 10 km"
   ]
  },
  {
   "cell_type": "code",
   "execution_count": null,
   "metadata": {},
   "outputs": [],
   "source": [
    "# Nuevos parametros\n",
    "parameters = {\n",
    "    \"min\":6000,\n",
    "    \"max\":16000,\n",
    "    \"dimensions\":800, # Tamaño cuadrado en pixeles\n",
    "    \"bands\": [\"SR_B4\", \"SR_B3\", \"SR_B2\"], # (R, G, B)\n",
    "    \"region\":roi # Region de interes\n",
    "}"
   ]
  },
  {
   "cell_type": "code",
   "execution_count": null,
   "metadata": {},
   "outputs": [],
   "source": [
    "# Imagenes con zoom en la ciudad de Ags\n",
    "display_img(ids_noClouds, parameters = parameters)"
   ]
  },
  {
   "cell_type": "markdown",
   "metadata": {},
   "source": [
    "## NDVI\n",
    "\n",
    "$NDVI = \\frac{NIR - RED}{NIR + RED}$\n",
    "\n",
    "* Saludable = Valores altos\n",
    "* No saludable = Valores bajos\n",
    "\n",
    "`ndvi = image.normalizedDifference([\"B5\", \"B4\"])`"
   ]
  },
  {
   "cell_type": "code",
   "execution_count": null,
   "metadata": {},
   "outputs": [],
   "source": [
    "# Parametros para el analisis NDVI\n",
    "palette = [\"red\", \"yellow\", \"green\"]\n",
    "\n",
    "ndvi_parameters = {\n",
    "    \"min\":0, # Este color sera rojo - no saludable\n",
    "    \"max\":0.4, # Lo que sea mayor sera verde - saludable\n",
    "    \"dimensions\":512,\n",
    "    \"palette\":palette,\n",
    "    \"region\":roi\n",
    "}"
   ]
  },
  {
   "cell_type": "code",
   "execution_count": 46,
   "metadata": {},
   "outputs": [
    {
     "name": "stdout",
     "output_type": "stream",
     "text": [
      "Imagen # 0 2021-11-16 Nubosidad: 3.87\n"
     ]
    },
    {
     "data": {
      "text/html": [
       "<img src=\"https://earthengine.googleapis.com/v1alpha/projects/earthengine-legacy/thumbnails/4059f6cba343e14a60fedfed9ac7583e-f57888872bc3763cd3e10680c6008df9:getPixels\"/>"
      ],
      "text/plain": [
       "<IPython.core.display.Image object>"
      ]
     },
     "metadata": {},
     "output_type": "display_data"
    },
    {
     "name": "stdout",
     "output_type": "stream",
     "text": [
      "Imagen # 2 2021-12-26 Nubosidad: 0.18\n"
     ]
    },
    {
     "data": {
      "text/html": [
       "<img src=\"https://earthengine.googleapis.com/v1alpha/projects/earthengine-legacy/thumbnails/63621a6e54780cef252ae54f5d53e29a-9847dcd1331049d927e06ab22c0ddb17:getPixels\"/>"
      ],
      "text/plain": [
       "<IPython.core.display.Image object>"
      ]
     },
     "metadata": {},
     "output_type": "display_data"
    },
    {
     "name": "stdout",
     "output_type": "stream",
     "text": [
      "Imagen # 4 2022-01-27 Nubosidad: 3.34\n"
     ]
    },
    {
     "data": {
      "text/html": [
       "<img src=\"https://earthengine.googleapis.com/v1alpha/projects/earthengine-legacy/thumbnails/6c5a3501846793f842fe446ba4c4a3af-c40a9525613317f1daf3eb54b5d9807a:getPixels\"/>"
      ],
      "text/plain": [
       "<IPython.core.display.Image object>"
      ]
     },
     "metadata": {},
     "output_type": "display_data"
    },
    {
     "name": "stdout",
     "output_type": "stream",
     "text": [
      "Imagen # 6 2022-02-28 Nubosidad: 3.07\n"
     ]
    },
    {
     "data": {
      "text/html": [
       "<img src=\"https://earthengine.googleapis.com/v1alpha/projects/earthengine-legacy/thumbnails/6d8d87fc16576259d276b09a72212831-e2986fa4419f161bc174308068e6c190:getPixels\"/>"
      ],
      "text/plain": [
       "<IPython.core.display.Image object>"
      ]
     },
     "metadata": {},
     "output_type": "display_data"
    },
    {
     "name": "stdout",
     "output_type": "stream",
     "text": [
      "Imagen # 7 2022-04-01 Nubosidad: 0.02\n"
     ]
    },
    {
     "data": {
      "text/html": [
       "<img src=\"https://earthengine.googleapis.com/v1alpha/projects/earthengine-legacy/thumbnails/09d22c3710d26173b49b6f9ce4d45b44-7af3f80e87e83ebf55d41fd1b302cc43:getPixels\"/>"
      ],
      "text/plain": [
       "<IPython.core.display.Image object>"
      ]
     },
     "metadata": {},
     "output_type": "display_data"
    },
    {
     "name": "stdout",
     "output_type": "stream",
     "text": [
      "Imagen # 10 2022-05-19 Nubosidad: 0.03\n"
     ]
    },
    {
     "data": {
      "text/html": [
       "<img src=\"https://earthengine.googleapis.com/v1alpha/projects/earthengine-legacy/thumbnails/a332410773ce3163118057de81f48cb1-944d186d7a01effcfd6a3d07d35c94b0:getPixels\"/>"
      ],
      "text/plain": [
       "<IPython.core.display.Image object>"
      ]
     },
     "metadata": {},
     "output_type": "display_data"
    },
    {
     "name": "stdout",
     "output_type": "stream",
     "text": [
      "Imagen # 13 2022-07-06 Nubosidad: 5.9\n"
     ]
    },
    {
     "data": {
      "text/html": [
       "<img src=\"https://earthengine.googleapis.com/v1alpha/projects/earthengine-legacy/thumbnails/0f9c7f718fad479b17f786838582616d-f76153250fc7c579741ef4d8fa303b45:getPixels\"/>"
      ],
      "text/plain": [
       "<IPython.core.display.Image object>"
      ]
     },
     "metadata": {},
     "output_type": "display_data"
    },
    {
     "name": "stdout",
     "output_type": "stream",
     "text": [
      "Imagen # 17 2022-09-24 Nubosidad: 5.66\n"
     ]
    },
    {
     "data": {
      "text/html": [
       "<img src=\"https://earthengine.googleapis.com/v1alpha/projects/earthengine-legacy/thumbnails/d4f22f01c45c57848e228b7564b55e42-f70435c7610dce925c57670da3a7d6fa:getPixels\"/>"
      ],
      "text/plain": [
       "<IPython.core.display.Image object>"
      ]
     },
     "metadata": {},
     "output_type": "display_data"
    },
    {
     "name": "stdout",
     "output_type": "stream",
     "text": [
      "Imagen # 19 2022-10-26 Nubosidad: 0.05\n"
     ]
    },
    {
     "data": {
      "text/html": [
       "<img src=\"https://earthengine.googleapis.com/v1alpha/projects/earthengine-legacy/thumbnails/6cbbb42cc65826dcc44ef55c4832ce3f-3dd2649ca5f96995b5897a3bd8b1d9ac:getPixels\"/>"
      ],
      "text/plain": [
       "<IPython.core.display.Image object>"
      ]
     },
     "metadata": {},
     "output_type": "display_data"
    },
    {
     "name": "stdout",
     "output_type": "stream",
     "text": [
      "Imagen # 20 2022-11-11 Nubosidad: 0.07\n"
     ]
    },
    {
     "data": {
      "text/html": [
       "<img src=\"https://earthengine.googleapis.com/v1alpha/projects/earthengine-legacy/thumbnails/041e3ef33a0147e9bd50fea8e6a8b8e8-029cc03db92a86ac049f0e592023be2a:getPixels\"/>"
      ],
      "text/plain": [
       "<IPython.core.display.Image object>"
      ]
     },
     "metadata": {},
     "output_type": "display_data"
    },
    {
     "name": "stdout",
     "output_type": "stream",
     "text": [
      "Imagen # 22 2022-01-02 Nubosidad: 0.02\n"
     ]
    },
    {
     "data": {
      "text/html": [
       "<img src=\"https://earthengine.googleapis.com/v1alpha/projects/earthengine-legacy/thumbnails/981bae262e420c4185e8cd4a6064ff19-34d98085cf2669fdaeedf0e3b958bac4:getPixels\"/>"
      ],
      "text/plain": [
       "<IPython.core.display.Image object>"
      ]
     },
     "metadata": {},
     "output_type": "display_data"
    },
    {
     "name": "stdout",
     "output_type": "stream",
     "text": [
      "Imagen # 23 2022-01-18 Nubosidad: 0.19\n"
     ]
    },
    {
     "data": {
      "text/html": [
       "<img src=\"https://earthengine.googleapis.com/v1alpha/projects/earthengine-legacy/thumbnails/e2b98eea25ddf756c0f150669a6a46e1-85fffb559b73e7f75b713a7af69e9074:getPixels\"/>"
      ],
      "text/plain": [
       "<IPython.core.display.Image object>"
      ]
     },
     "metadata": {},
     "output_type": "display_data"
    },
    {
     "name": "stdout",
     "output_type": "stream",
     "text": [
      "Imagen # 25 2022-02-19 Nubosidad: 0.06\n"
     ]
    },
    {
     "data": {
      "text/html": [
       "<img src=\"https://earthengine.googleapis.com/v1alpha/projects/earthengine-legacy/thumbnails/4854e5a2077d3d5fccb50b70ec0db5af-8382549fc3ed340b4b09e149e6b13e0b:getPixels\"/>"
      ],
      "text/plain": [
       "<IPython.core.display.Image object>"
      ]
     },
     "metadata": {},
     "output_type": "display_data"
    },
    {
     "name": "stdout",
     "output_type": "stream",
     "text": [
      "Imagen # 26 2022-03-07 Nubosidad: 0\n"
     ]
    },
    {
     "data": {
      "text/html": [
       "<img src=\"https://earthengine.googleapis.com/v1alpha/projects/earthengine-legacy/thumbnails/a86420164701fea7962c49085cade335-92bbc5b94d1861dbb785fe69ab0f1e32:getPixels\"/>"
      ],
      "text/plain": [
       "<IPython.core.display.Image object>"
      ]
     },
     "metadata": {},
     "output_type": "display_data"
    },
    {
     "name": "stdout",
     "output_type": "stream",
     "text": [
      "Imagen # 27 2022-03-23 Nubosidad: 0.12\n"
     ]
    },
    {
     "data": {
      "text/html": [
       "<img src=\"https://earthengine.googleapis.com/v1alpha/projects/earthengine-legacy/thumbnails/cf1e51ca9baa2783d42bb6a167b0b030-eca8478d3444ad3f4eb866b8229496de:getPixels\"/>"
      ],
      "text/plain": [
       "<IPython.core.display.Image object>"
      ]
     },
     "metadata": {},
     "output_type": "display_data"
    },
    {
     "name": "stdout",
     "output_type": "stream",
     "text": [
      "Imagen # 28 2022-04-08 Nubosidad: 4.14\n"
     ]
    },
    {
     "data": {
      "text/html": [
       "<img src=\"https://earthengine.googleapis.com/v1alpha/projects/earthengine-legacy/thumbnails/97431bbda3144543391873e234783fa9-385ab3a1b3a4d97c37e719708bbd02da:getPixels\"/>"
      ],
      "text/plain": [
       "<IPython.core.display.Image object>"
      ]
     },
     "metadata": {},
     "output_type": "display_data"
    },
    {
     "name": "stdout",
     "output_type": "stream",
     "text": [
      "Imagen # 29 2022-04-24 Nubosidad: 0\n"
     ]
    },
    {
     "data": {
      "text/html": [
       "<img src=\"https://earthengine.googleapis.com/v1alpha/projects/earthengine-legacy/thumbnails/9ad5688fb580fe12510e9eec1ebffe1c-275d2048311fcaa25fa99e8ea509e4ac:getPixels\"/>"
      ],
      "text/plain": [
       "<IPython.core.display.Image object>"
      ]
     },
     "metadata": {},
     "output_type": "display_data"
    },
    {
     "name": "stdout",
     "output_type": "stream",
     "text": [
      "Imagen # 30 2022-05-10 Nubosidad: 2.7\n"
     ]
    },
    {
     "data": {
      "text/html": [
       "<img src=\"https://earthengine.googleapis.com/v1alpha/projects/earthengine-legacy/thumbnails/f0a4ee84bb552b2a521aa2498b63332f-a506c734d9d88bf9792f24eef6f30992:getPixels\"/>"
      ],
      "text/plain": [
       "<IPython.core.display.Image object>"
      ]
     },
     "metadata": {},
     "output_type": "display_data"
    },
    {
     "name": "stdout",
     "output_type": "stream",
     "text": [
      "Imagen # 31 2022-05-26 Nubosidad: 3.83\n"
     ]
    },
    {
     "data": {
      "text/html": [
       "<img src=\"https://earthengine.googleapis.com/v1alpha/projects/earthengine-legacy/thumbnails/8c0e62080cb87e904808174b36055be5-44ef3d3551e5954ee3beddabf4b01fad:getPixels\"/>"
      ],
      "text/plain": [
       "<IPython.core.display.Image object>"
      ]
     },
     "metadata": {},
     "output_type": "display_data"
    },
    {
     "name": "stdout",
     "output_type": "stream",
     "text": [
      "Imagen # 32 2022-06-11 Nubosidad: 4.01\n"
     ]
    },
    {
     "data": {
      "text/html": [
       "<img src=\"https://earthengine.googleapis.com/v1alpha/projects/earthengine-legacy/thumbnails/2dadfe5d548762f06d7ac7f93de3c5de-dc212d012b8e6b2ed09c4ef5ba7a3ac1:getPixels\"/>"
      ],
      "text/plain": [
       "<IPython.core.display.Image object>"
      ]
     },
     "metadata": {},
     "output_type": "display_data"
    },
    {
     "name": "stdout",
     "output_type": "stream",
     "text": [
      "Imagen # 34 2022-07-13 Nubosidad: 7.42\n"
     ]
    },
    {
     "data": {
      "text/html": [
       "<img src=\"https://earthengine.googleapis.com/v1alpha/projects/earthengine-legacy/thumbnails/347ed629d6410a485ea241830e0e4bae-79c6d403a1952d3c60e16665ea92fb46:getPixels\"/>"
      ],
      "text/plain": [
       "<IPython.core.display.Image object>"
      ]
     },
     "metadata": {},
     "output_type": "display_data"
    },
    {
     "name": "stdout",
     "output_type": "stream",
     "text": [
      "Imagen # 39 2022-10-01 Nubosidad: 1.29\n"
     ]
    },
    {
     "data": {
      "text/html": [
       "<img src=\"https://earthengine.googleapis.com/v1alpha/projects/earthengine-legacy/thumbnails/ebda58664570acf5b3e4db49116a2e96-817212e3439e5dca6b127475dacfe6f6:getPixels\"/>"
      ],
      "text/plain": [
       "<IPython.core.display.Image object>"
      ]
     },
     "metadata": {},
     "output_type": "display_data"
    },
    {
     "name": "stdout",
     "output_type": "stream",
     "text": [
      "Imagen # 41 2022-11-02 Nubosidad: 0.05\n"
     ]
    },
    {
     "data": {
      "text/html": [
       "<img src=\"https://earthengine.googleapis.com/v1alpha/projects/earthengine-legacy/thumbnails/ad5effd2f79c80f0c24fbaea015d04f7-a6f2cddf3acd752bfc2e7581b810fb88:getPixels\"/>"
      ],
      "text/plain": [
       "<IPython.core.display.Image object>"
      ]
     },
     "metadata": {},
     "output_type": "display_data"
    }
   ],
   "source": [
    "# NDVI index por imagen\n",
    "display_img(ids_noClouds, ndvi_parameters, ndvi_display = True)"
   ]
  }
 ],
 "metadata": {
  "kernelspec": {
   "display_name": "Python 3.9.15 (conda)",
   "language": "python",
   "name": "python3"
  },
  "language_info": {
   "codemirror_mode": {
    "name": "ipython",
    "version": 3
   },
   "file_extension": ".py",
   "mimetype": "text/x-python",
   "name": "python",
   "nbconvert_exporter": "python",
   "pygments_lexer": "ipython3",
   "version": "3.9.15"
  },
  "orig_nbformat": 4,
  "vscode": {
   "interpreter": {
    "hash": "98ef3d57ef7dda2493bb0a5332ec68224a063deee5515ba3b6448d5b0a1b9f6a"
   }
  }
 },
 "nbformat": 4,
 "nbformat_minor": 2
}
