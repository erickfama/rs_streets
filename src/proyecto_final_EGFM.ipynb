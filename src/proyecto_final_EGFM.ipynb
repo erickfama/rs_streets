{
 "cells": [
  {
   "cell_type": "markdown",
   "metadata": {},
   "source": [
    "# Proyecto final\n",
    "\n",
    "**Maestría en Métodos para el Análisis de Políticas Públicas**\n",
    "\n",
    "Docente: Dra. Daniela Alejandra Moctezuma Ochoa \n",
    "\n",
    "Alumno: `Erick Gabriel Fajardo Martínez`\n",
    "\n",
    "## Problema de investigación\n",
    "\n",
    "El Tren Maya es un proyecto de infraestructura en desarrollo en México que tiene como objetivo construir una red de trenes de alta velocidad en la región de Yucatán. La idea es que el tren permita a los visitantes acceder a las principales atracciones turísticas de la región, así como mejorar la conectividad entre las diferentes ciudades y pueblos del área. Sin embargo, ha habido cierto controversia en torno al proyecto, ya que algunos temen que pueda afectar a las comunidades locales y al medio ambiente.\n",
    "\n",
    "El impacto al medio ambiente es una de las preocupaciones más grandes, dado que el área geográfica donde está siendo construído cuenta con una gran densidad y versidad de flora y fauna. La construcción de este proyecto se ha llevado a cabo por etapas, donde cada una corresponde a un tramo de la ruta que recorrerá el tren. \n",
    "\n",
    "Actualmente, el tramo 5 que unirá a la ciudad de Cancún con Playa del Carmen es el que está en construcción, el cual ha sido un foco de crítica por la inmensa tala de árboles que ocasionó. \n",
    "\n",
    "## Objetivo\n",
    "\n",
    "El presente trabajo pretende hacer un análisis exploratorio del estado de la vegetación de una sección del tramo 5 mediante el uso de imágenes satelitales.\n",
    "\n",
    "\n",
    "## Método\n",
    "1. Definición del área de interés \n",
    "\n",
    "2. Descarga de imágenes\n",
    "    - Se obtuvieron imágenes del satélite Sentinel-2 para el período Marzo 2021 (Inicio de construcción del tramo 5) - Diciembre 2022\n",
    "\n",
    "3. Preprocesamiento de imágenes\n",
    "    - Construcción de un conjunto de datos con la información de las imágenes\n",
    "    - Eliminación de pixeles que pertenecen a nubes, sombras de nubes y cuerpos de agua\n",
    "\n",
    "4. Visualización de imágenes procesadas\n",
    "\n",
    "5. Análisis del Índice Normalizado de Diferencias de Vegetación \n"
   ]
  },
  {
   "cell_type": "code",
   "execution_count": 129,
   "metadata": {},
   "outputs": [],
   "source": [
    "# Librerias\n",
    "\n",
    "# Manipulacion \n",
    "import pandas as pd \n",
    "import numpy as np\n",
    "import geopandas as gpd\n",
    "import re\n",
    "from datetime import datetime\n",
    "\n",
    "# Earth engine (descarga de imagenes)\n",
    "import ee \n",
    "import eemont\n",
    "import geemap\n",
    "\n",
    "# Plot\n",
    "import matplotlib.pyplot as plt\n",
    "import matplotlib.dates as dates\n",
    "import matplotlib.colors\n",
    "from IPython.display import Image"
   ]
  },
  {
   "cell_type": "code",
   "execution_count": null,
   "metadata": {},
   "outputs": [],
   "source": [
    "# Autentificar Earth engine\n",
    "# ee.Authenticate() # Esto solo debe ser ejecutado la primera vez y cada vez que el token expira\n",
    "\n",
    "ee.Initialize()"
   ]
  },
  {
   "cell_type": "markdown",
   "metadata": {},
   "source": [
    "## 1. Definir área de estudio"
   ]
  },
  {
   "cell_type": "code",
   "execution_count": 56,
   "metadata": {},
   "outputs": [],
   "source": [
    "# Coordenadas\n",
    "\n",
    "# Sección del tramo 5\n",
    "lat = 20.842169507535644\n",
    "lon = -86.95743506097378\n",
    "\n",
    "# Punto de interés\n",
    "poi = ee.Geometry.Point(lon, lat)\n",
    "\n",
    "# Periodo de tiempo\n",
    "start_date = \"2021-03-01\"\n",
    "end_date = \"2022-12-07\""
   ]
  },
  {
   "cell_type": "code",
   "execution_count": 57,
   "metadata": {},
   "outputs": [],
   "source": [
    "# Agregar banda de Indice de Vegetacion Normalizado\n",
    "def addNDVI(image):\n",
    "  ndvi = image.normalizedDifference(['B8', 'B4']).rename('ndvi')\n",
    "  return image.addBands(ndvi)"
   ]
  },
  {
   "cell_type": "markdown",
   "metadata": {},
   "source": [
    "## 2. Descarga de imágenes"
   ]
  },
  {
   "cell_type": "code",
   "execution_count": 58,
   "metadata": {},
   "outputs": [],
   "source": [
    "# Función para descargar imágenes\n",
    "\n",
    "def get_s2_sr_cld_col(aoi, start_date, end_date):\n",
    "    # Imágenes de Sentinel 2\n",
    "    s2_sr_col = (ee.ImageCollection('COPERNICUS/S2_SR_HARMONIZED')\n",
    "        .filterBounds(aoi)\n",
    "        .filterDate(start_date, end_date)\n",
    "        .filter(ee.Filter.lte('CLOUDY_PIXEL_PERCENTAGE', 60))\n",
    "        .map(addNDVI))\n",
    "\n",
    "    # Imágenes para identificar nubes\n",
    "    s2_cloudless_col = (ee.ImageCollection('COPERNICUS/S2_CLOUD_PROBABILITY')\n",
    "        .filterBounds(aoi)\n",
    "        .filterDate(start_date, end_date))\n",
    "\n",
    "    # Se unen ambas colecciones\n",
    "    return ee.ImageCollection(ee.Join.saveFirst('s2cloudless').apply(**{\n",
    "        'primary': s2_sr_col,\n",
    "        'secondary': s2_cloudless_col,\n",
    "        'condition': ee.Filter.equals(**{\n",
    "            'leftField': 'system:index',\n",
    "            'rightField': 'system:index'\n",
    "        })\n",
    "    }))"
   ]
  },
  {
   "cell_type": "code",
   "execution_count": 72,
   "metadata": {},
   "outputs": [],
   "source": [
    "# Funcion para visualizar imágenes\n",
    "def display_img(ids, parameters, ndvi_display = False, cloud_filter = False):\n",
    "\n",
    "    image_list = sentinel_list\n",
    "\n",
    "    if cloud_filter == True:\n",
    "        image_list = sentinel_mask_list\n",
    "\n",
    "    for i in ids:\n",
    "    \n",
    "        # Fecha de captura\n",
    "        date = datetime.strptime(re.findall(\"(?<=\\_)\\\\d+(?=T)\", ee.Image(image_list.get(i)).get(\"DATATAKE_IDENTIFIER\").getInfo())[0], \"%Y%m%d\").date()\n",
    "\n",
    "        # Nubosidad\n",
    "        cloud = ee.Image(image_list.get(i)).get(\"CLOUDY_PIXEL_PERCENTAGE\").getInfo()\n",
    "\n",
    "        # Porcentaje de vegetación\n",
    "        veg = ee.Image(image_list.get(i)).get(\"VEGETATION_PERCENTAGE\").getInfo()\n",
    "\n",
    "        # Porcentaje de agua\n",
    "        water = ee.Image(image_list.get(i)).get(\"WATER_PERCENTAGE\").getInfo()\n",
    "\n",
    "        # Informacion de la imagen\n",
    "        print(\"Imagen #\", i, date, \"Nubosidad:\", cloud,\"Porcentaje de vegetación:\", veg, \"Porcentaje de agua:\", water)\n",
    "\n",
    "        if ndvi_display == True:\n",
    "            display(Image(url = ee.Image(image_list.get(i)).normalizedDifference([\"B8\", \"B4\"]).getThumbURL(parameters)))\n",
    "\n",
    "        else:\n",
    "            # Plot\n",
    "            display(Image(url = ee.Image(image_list.get(i)).getThumbURL(parameters)))\n",
    "        \n",
    "# Funcion para crear data frame con info de las imágenes\n",
    "def img_info(ids):\n",
    "    data = []\n",
    "    for i in ids:\n",
    "\n",
    "        # Fecha de captura\n",
    "        date = datetime.strptime(re.findall(\"(?<=\\_)\\\\d+(?=T)\", ee.Image(image_list.get(i)).get(\"DATATAKE_IDENTIFIER\").getInfo())[0], \"%Y%m%d\").date()\n",
    "\n",
    "        # Nubosidad\n",
    "        cloud = ee.Image(image_list.get(i)).get(\"CLOUDY_PIXEL_PERCENTAGE\").getInfo()\n",
    "\n",
    "        # Porcentaje de vegetación\n",
    "        veg = ee.Image(image_list.get(i)).get(\"VEGETATION_PERCENTAGE\").getInfo()\n",
    "        \n",
    "        # Porcentaje de pixeles clasificados como no vegetacion\n",
    "        no_veg = ee.Image(image_list.get(i)).get(\"NOT_VEGETATED_PERCENTAGE\").getInfo()\n",
    "        \n",
    "        # Porcentaje de agua\n",
    "        water = ee.Image(image_list.get(i)).get(\"WATER_PERCENTAGE\").getInfo()\n",
    "\n",
    "        # Informacion de la imagen\n",
    "        print(\"Imagen #\", i, date, \"Nubosidad:\", cloud,\"Porcentaje de vegetación:\", veg, \"Porcentaje de agua:\", water)\n",
    "        \n",
    "        image_data = [i, date, cloud, veg, no_veg, water]\n",
    "        data.append(image_data)\n",
    "    \n",
    "    return data"
   ]
  },
  {
   "cell_type": "code",
   "execution_count": 65,
   "metadata": {},
   "outputs": [
    {
     "name": "stdout",
     "output_type": "stream",
     "text": [
      "Se obtuvieron 204 imágenes para el periodo 2021-03-01 - 2022-12-07\n"
     ]
    }
   ],
   "source": [
    "# Descarga de imágenes\n",
    "sentinel = get_s2_sr_cld_col(poi, start_date = start_date, end_date = end_date)\n",
    "print(\"Se obtuvieron\", sentinel.size().getInfo(), \"imágenes para el periodo\", start_date, \"-\", end_date)\n",
    "\n",
    "sentinel_list = sentinel.toList(sentinel.size())"
   ]
  },
  {
   "cell_type": "code",
   "execution_count": 139,
   "metadata": {},
   "outputs": [
    {
     "name": "stdout",
     "output_type": "stream",
     "text": [
      "Imagen # 3 2021-03-07 Nubosidad: 11.510718 Porcentaje de vegetación: 6.867416 Porcentaje de agua: 79.650259\n"
     ]
    },
    {
     "data": {
      "text/html": [
       "<img src=\"https://earthengine.googleapis.com/v1alpha/projects/earthengine-legacy/thumbnails/c6cd010119d83fe4a94d3a1f169015a1-8fb48a9001b79576947ba0cd30842135:getPixels\"/>"
      ],
      "text/plain": [
       "<IPython.core.display.Image object>"
      ]
     },
     "metadata": {},
     "output_type": "display_data"
    },
    {
     "name": "stdout",
     "output_type": "stream",
     "text": [
      "Imagen # 199 2022-11-12 Nubosidad: 5.587879 Porcentaje de vegetación: 7.288255 Porcentaje de agua: 85.560125\n"
     ]
    },
    {
     "data": {
      "text/html": [
       "<img src=\"https://earthengine.googleapis.com/v1alpha/projects/earthengine-legacy/thumbnails/c8a23ccd7ae284c127c1308afd87426d-b6f6e2a4b1628744d5ef9b656257e3e3:getPixels\"/>"
      ],
      "text/plain": [
       "<IPython.core.display.Image object>"
      ]
     },
     "metadata": {},
     "output_type": "display_data"
    }
   ],
   "source": [
    "# Parámetros de visualización\n",
    "parameters = {\n",
    "    \"min\":0, # 0 bueno\n",
    "    \"max\":3000, # 3000 bueno\n",
    "    \"dimensions\":800, # Tamaño cuadrado en pixeles\n",
    "    \"bands\": [\"B4\", \"B3\", \"B2\"] # (R, G, B)\n",
    "}\n",
    "\n",
    "# Visualización de la primera y última imagen\n",
    "display_img([3, 199], parameters = parameters)"
   ]
  },
  {
   "cell_type": "code",
   "execution_count": 138,
   "metadata": {},
   "outputs": [
    {
     "name": "stdout",
     "output_type": "stream",
     "text": [
      "Imagen # 3 2021-03-07 Nubosidad: 11.510718 Porcentaje de vegetación: 6.867416 Porcentaje de agua: 79.650259\n"
     ]
    },
    {
     "data": {
      "text/html": [
       "<img src=\"https://earthengine.googleapis.com/v1alpha/projects/earthengine-legacy/thumbnails/ebe285094f6a71450c78f2ec02c392a9-ccab107a52f8e7c3553d3964bcf69dd4:getPixels\"/>"
      ],
      "text/plain": [
       "<IPython.core.display.Image object>"
      ]
     },
     "metadata": {},
     "output_type": "display_data"
    },
    {
     "name": "stdout",
     "output_type": "stream",
     "text": [
      "Imagen # 199 2022-11-12 Nubosidad: 5.587879 Porcentaje de vegetación: 7.288255 Porcentaje de agua: 85.560125\n"
     ]
    },
    {
     "data": {
      "text/html": [
       "<img src=\"https://earthengine.googleapis.com/v1alpha/projects/earthengine-legacy/thumbnails/c8aa365888ff01d83e2ef69991f5fc7d-4e51c3f787295a88f705015cd2f06567:getPixels\"/>"
      ],
      "text/plain": [
       "<IPython.core.display.Image object>"
      ]
     },
     "metadata": {},
     "output_type": "display_data"
    }
   ],
   "source": [
    "# Nuevos parametros para región de interés\n",
    "parameters_roi = {\n",
    "    \"min\":0,\n",
    "    \"max\":3000,\n",
    "    \"dimensions\":800, # Tamaño cuadrado en pixeles\n",
    "    \"bands\": [\"B4\", \"B3\", \"B2\"], # (R, G, B)\n",
    "    \"region\": poi.buffer(10000) # Región de interes 10 km alrededor del punto de interés\n",
    "}\n",
    "\n",
    "# Se muestran las imagenes\n",
    "display_img([3, 199], parameters_roi)"
   ]
  },
  {
   "cell_type": "code",
   "execution_count": null,
   "metadata": {},
   "outputs": [],
   "source": [
    "# DF de informacion\n",
    "tramo5_raw = pd.DataFrame(img_info(range(sentinel.size().getInfo())), columns = [\"img_id\", \"date\", \"cloud_cover\", \"vegetation_percentage\", \"no_vegetation_percentage\", \"water_percentage\"])"
   ]
  },
  {
   "cell_type": "code",
   "execution_count": null,
   "metadata": {},
   "outputs": [],
   "source": [
    "# Escritura\n",
    "# tramo5_raw.to_csv(\"../data/1_raw/tramo5_raw\")"
   ]
  },
  {
   "cell_type": "code",
   "execution_count": 85,
   "metadata": {},
   "outputs": [
    {
     "data": {
      "text/html": [
       "<div>\n",
       "<style scoped>\n",
       "    .dataframe tbody tr th:only-of-type {\n",
       "        vertical-align: middle;\n",
       "    }\n",
       "\n",
       "    .dataframe tbody tr th {\n",
       "        vertical-align: top;\n",
       "    }\n",
       "\n",
       "    .dataframe thead th {\n",
       "        text-align: right;\n",
       "    }\n",
       "</style>\n",
       "<table border=\"1\" class=\"dataframe\">\n",
       "  <thead>\n",
       "    <tr style=\"text-align: right;\">\n",
       "      <th></th>\n",
       "      <th>Unnamed: 0</th>\n",
       "      <th>img_id</th>\n",
       "      <th>date</th>\n",
       "      <th>cloud_cover</th>\n",
       "      <th>vegetation_percentage</th>\n",
       "      <th>no_vegetation_percentage</th>\n",
       "      <th>water_percentage</th>\n",
       "    </tr>\n",
       "  </thead>\n",
       "  <tbody>\n",
       "    <tr>\n",
       "      <th>0</th>\n",
       "      <td>0</td>\n",
       "      <td>0</td>\n",
       "      <td>2021-03-02</td>\n",
       "      <td>13.937848</td>\n",
       "      <td>57.224184</td>\n",
       "      <td>2.299605</td>\n",
       "      <td>18.524384</td>\n",
       "    </tr>\n",
       "    <tr>\n",
       "      <th>1</th>\n",
       "      <td>1</td>\n",
       "      <td>1</td>\n",
       "      <td>2021-03-02</td>\n",
       "      <td>4.518698</td>\n",
       "      <td>7.066406</td>\n",
       "      <td>0.824506</td>\n",
       "      <td>86.467159</td>\n",
       "    </tr>\n",
       "    <tr>\n",
       "      <th>2</th>\n",
       "      <td>2</td>\n",
       "      <td>2</td>\n",
       "      <td>2021-03-07</td>\n",
       "      <td>15.241702</td>\n",
       "      <td>55.378145</td>\n",
       "      <td>2.338764</td>\n",
       "      <td>18.444499</td>\n",
       "    </tr>\n",
       "    <tr>\n",
       "      <th>3</th>\n",
       "      <td>3</td>\n",
       "      <td>3</td>\n",
       "      <td>2021-03-07</td>\n",
       "      <td>11.510718</td>\n",
       "      <td>6.867416</td>\n",
       "      <td>0.748017</td>\n",
       "      <td>79.650259</td>\n",
       "    </tr>\n",
       "    <tr>\n",
       "      <th>4</th>\n",
       "      <td>4</td>\n",
       "      <td>4</td>\n",
       "      <td>2021-03-12</td>\n",
       "      <td>32.566695</td>\n",
       "      <td>40.504023</td>\n",
       "      <td>2.299484</td>\n",
       "      <td>15.696260</td>\n",
       "    </tr>\n",
       "  </tbody>\n",
       "</table>\n",
       "</div>"
      ],
      "text/plain": [
       "   Unnamed: 0  img_id       date  cloud_cover  vegetation_percentage  \\\n",
       "0           0       0 2021-03-02    13.937848              57.224184   \n",
       "1           1       1 2021-03-02     4.518698               7.066406   \n",
       "2           2       2 2021-03-07    15.241702              55.378145   \n",
       "3           3       3 2021-03-07    11.510718               6.867416   \n",
       "4           4       4 2021-03-12    32.566695              40.504023   \n",
       "\n",
       "   no_vegetation_percentage  water_percentage  \n",
       "0                  2.299605         18.524384  \n",
       "1                  0.824506         86.467159  \n",
       "2                  2.338764         18.444499  \n",
       "3                  0.748017         79.650259  \n",
       "4                  2.299484         15.696260  "
      ]
     },
     "execution_count": 85,
     "metadata": {},
     "output_type": "execute_result"
    }
   ],
   "source": [
    "tramo5 = pd.read_csv(\"../data/1_raw/tramo5_raw\")\n",
    "\n",
    "# Se convierte a fecha la columna date\n",
    "tramo5[\"date\"] = pd.to_datetime(tramo5[\"date\"])\n",
    "\n",
    "tramo5.head()\n"
   ]
  },
  {
   "cell_type": "code",
   "execution_count": 99,
   "metadata": {},
   "outputs": [
    {
     "data": {
      "text/plain": [
       "Text(0.5, 1.0, 'Porcentaje de vegetación en la muestra de imágenes')"
      ]
     },
     "execution_count": 99,
     "metadata": {},
     "output_type": "execute_result"
    },
    {
     "data": {
      "image/png": "[encoded data removed]",
      "text/plain": [
       "<Figure size 640x480 with 1 Axes>"
      ]
     },
     "metadata": {},
     "output_type": "display_data"
    },
    {
     "data": {
      "image/png": "[encoded data removed]",
      "text/plain": [
       "<Figure size 640x480 with 1 Axes>"
      ]
     },
     "metadata": {},
     "output_type": "display_data"
    }
   ],
   "source": [
    "# Análisis exploratorio de datos\n",
    "\n",
    "# Gráfico de nubosidad\n",
    "fig, ax = plt.subplots()\n",
    "ax.plot_date(tramo5.date[tramo5.water_percentage < 50], tramo5.cloud_cover[tramo5.water_percentage < 50])\n",
    "fig.autofmt_xdate()\n",
    "ax.axhline(y = 10, color = \"r\")\n",
    "ax.set_ylabel(\"Nubosidad\")\n",
    "ax.set_title(\"Porcentaje de nubosidad en la muestra de imágenes\")\n",
    "\n",
    "# Gráfico de vegetación\n",
    "fig, ax = plt.subplots()\n",
    "ax.plot_date(tramo5.date[tramo5.water_percentage < 50], tramo5.vegetation_percentage[tramo5.water_percentage < 50], color = \"g\")\n",
    "fig.autofmt_xdate()\n",
    "x = np.array(dates.date2num(tramo5.date))\n",
    "y = np.array(tramo5.vegetation_percentage)\n",
    "\n",
    "z = np.polyfit(x, y, 1)\n",
    "p = np.poly1d(z)\n",
    "\n",
    "plt.plot(x, p(x), color = \"r\")\n",
    "\n",
    "ax.set_ylabel(\"% Vegetación\")\n",
    "ax.set_title(\"Porcentaje de vegetación en la muestra de imágenes\")\n"
   ]
  },
  {
   "cell_type": "markdown",
   "metadata": {},
   "source": [
    "## 3. Preprocesamiento de imágenes\n",
    "\n",
    "    - Se eliminan nubes, sombras y cuerpos de agua. "
   ]
  },
  {
   "cell_type": "code",
   "execution_count": 67,
   "metadata": {},
   "outputs": [],
   "source": [
    "# Parámetros para preprocesamiento\n",
    "\n",
    "CLD_PRB_THRESH = 50 # Umbral de probabilidad de que el pixel sea una nube\n",
    "NIR_DRK_THRESH = 0.15 # Umbral para categorizar sombras\n",
    "CLD_PRJ_DIST = 1 # Distancia a la que se proyectan las sombras de las nubes\n",
    "BUFFER = 50 \n",
    "AOI = poi"
   ]
  },
  {
   "cell_type": "code",
   "execution_count": 68,
   "metadata": {},
   "outputs": [],
   "source": [
    "def add_cloud_bands(img):\n",
    "    # Banda de probabilidad de que el pixel sea una nube\n",
    "    cld_prb = ee.Image(img.get('s2cloudless')).select('probability')\n",
    "\n",
    "    # Umbral para determinar si el pixel es una nube\n",
    "    is_cloud = cld_prb.gt(CLD_PRB_THRESH).rename('clouds')\n",
    "\n",
    "    # Se agrega la banda de probabilidad\n",
    "    return img.addBands(ee.Image([cld_prb, is_cloud]))\n"
   ]
  },
  {
   "cell_type": "code",
   "execution_count": 69,
   "metadata": {},
   "outputs": [],
   "source": [
    "def add_shadow_bands(img):\n",
    "    # Pixeles catalogados como agua\n",
    "    water = img.select('SCL').eq(6).rename(\"water\")\n",
    "\n",
    "    # Identify dark NIR pixels that are not water (potential cloud shadow pixels).\n",
    "    SR_BAND_SCALE = 1e4\n",
    "    dark_pixels = img.select('B8').lt(NIR_DRK_THRESH*SR_BAND_SCALE).multiply(water).rename('dark_pixels')\n",
    "\n",
    "    # Determine the direction to project cloud shadow from clouds (assumes UTM projection).\n",
    "    shadow_azimuth = ee.Number(90).subtract(ee.Number(img.get('MEAN_SOLAR_AZIMUTH_ANGLE')));\n",
    "\n",
    "    # Project shadows from clouds for the distance specified by the CLD_PRJ_DIST input.\n",
    "    cld_proj = (img.select('clouds').directionalDistanceTransform(shadow_azimuth, CLD_PRJ_DIST*10)\n",
    "        .reproject(**{'crs': img.select(0).projection(), 'scale': 100})\n",
    "        .select('distance')\n",
    "        .mask()\n",
    "        .rename('cloud_transform'))\n",
    "\n",
    "    # Identify the intersection of dark pixels with cloud shadow projection.\n",
    "    shadows = cld_proj.multiply(dark_pixels).rename('shadows')\n",
    "\n",
    "    # Add dark pixels, cloud projection, and identified shadows as image bands.\n",
    "    return img.addBands(ee.Image([dark_pixels, cld_proj, shadows, water]))"
   ]
  },
  {
   "cell_type": "code",
   "execution_count": 70,
   "metadata": {},
   "outputs": [],
   "source": [
    "def add_cld_shdw_mask(img):\n",
    "    # Se agregn bandas de nubes\n",
    "    img_cloud = add_cloud_bands(img)\n",
    "\n",
    "    # Se agregan bandas de sombras\n",
    "    img_cloud_shadow = add_shadow_bands(img_cloud)\n",
    "\n",
    "    # Se combinan las bandas de nubes, sombras y agua. Toman el valor de 1 si son alguna de esas categorias\n",
    "    is_cld_shdw_water = img_cloud_shadow.select(\"clouds\").add(img_cloud_shadow.select(\"shadows\")).add(img_cloud_shadow.select(\"water\")).gt(0)\n",
    "\n",
    "    # Corrección de las sombras pequeñas\n",
    "    is_cld_shdw = (is_cld_shdw_water.focalMin(2).focalMax(BUFFER*2/20)\n",
    "        .reproject(**{'crs': img.select([0]).projection(), 'scale': 20})\n",
    "        .rename('cloudmask'))\n",
    "\n",
    "    # Se agrega la banda \n",
    "    return img.addBands(is_cld_shdw)\n"
   ]
  },
  {
   "cell_type": "code",
   "execution_count": 71,
   "metadata": {},
   "outputs": [],
   "source": [
    "def apply_cld_shdw_mask(img):\n",
    "    # Sombras, nubes y agua toman el valor de 0 si son alguna de esas categorías\n",
    "    not_cld_shdw = img.select('cloudmask').Not()\n",
    "\n",
    "    # Se actualizan las bandas con el mask\n",
    "    return img.select('B.*', \"ndvi\").updateMask(not_cld_shdw)"
   ]
  },
  {
   "cell_type": "code",
   "execution_count": 73,
   "metadata": {},
   "outputs": [
    {
     "name": "stdout",
     "output_type": "stream",
     "text": [
      "['B1', 'B2', 'B3', 'B4', 'B5', 'B6', 'B7', 'B8', 'B8A', 'B9', 'B11', 'B12', 'AOT', 'WVP', 'SCL', 'TCI_R', 'TCI_G', 'TCI_B', 'MSK_CLDPRB', 'MSK_SNWPRB', 'QA10', 'QA20', 'QA60', 'ndvi']\n",
      "204\n"
     ]
    }
   ],
   "source": [
    "# Se aplica el mask\n",
    "sentinel_mask = (sentinel.map(add_cld_shdw_mask)\n",
    "                         .map(apply_cld_shdw_mask))\n",
    "\n",
    "sentinel_mask_list = sentinel_mask.toList(sentinel.size())"
   ]
  },
  {
   "cell_type": "markdown",
   "metadata": {},
   "source": [
    "## Visualización de imágenes procesadas"
   ]
  },
  {
   "cell_type": "code",
   "execution_count": 140,
   "metadata": {},
   "outputs": [
    {
     "name": "stdout",
     "output_type": "stream",
     "text": [
      "Imagen # 3 2021-03-07 Nubosidad: 11.510718 Porcentaje de vegetación: 6.867416 Porcentaje de agua: 79.650259\n"
     ]
    },
    {
     "data": {
      "text/html": [
       "<img src=\"https://earthengine.googleapis.com/v1alpha/projects/earthengine-legacy/thumbnails/426832e2c4bcc7e6929e1d6effc4f816-33553383f179b52006247e5529af8dd2:getPixels\"/>"
      ],
      "text/plain": [
       "<IPython.core.display.Image object>"
      ]
     },
     "metadata": {},
     "output_type": "display_data"
    },
    {
     "name": "stdout",
     "output_type": "stream",
     "text": [
      "Imagen # 199 2022-11-12 Nubosidad: 5.587879 Porcentaje de vegetación: 7.288255 Porcentaje de agua: 85.560125\n"
     ]
    },
    {
     "data": {
      "text/html": [
       "<img src=\"https://earthengine.googleapis.com/v1alpha/projects/earthengine-legacy/thumbnails/58d7bce3ed9a0c0604ce6da919de7d2b-7a2511d3d4e8e168b83c32ff5452c7d6:getPixels\"/>"
      ],
      "text/plain": [
       "<IPython.core.display.Image object>"
      ]
     },
     "metadata": {},
     "output_type": "display_data"
    }
   ],
   "source": [
    "# Se muestran las mismas imágenes pero procesadas\n",
    "display_img([3, 199], parameters_roi, cloud_filter = True)"
   ]
  },
  {
   "cell_type": "markdown",
   "metadata": {},
   "source": [
    "## Análisis NDVI\n",
    "\n",
    "$NDVI = \\frac{NIR - RED}{NIR + RED}$\n",
    "\n",
    "* Saludable = Valores altos (Color verde)\n",
    "* No saludable = Valores bajos (Color rojo)\n",
    "\n",
    "`ndvi = image.normalizedDifference([\"B8\", \"B4\"])`"
   ]
  },
  {
   "cell_type": "code",
   "execution_count": 100,
   "metadata": {},
   "outputs": [],
   "source": [
    "# Parametros para el analisis NDVI\n",
    "palette = [\"red\", \"yellow\", \"green\"]\n",
    "\n",
    "ndvi_parameters = {\n",
    "    \"min\":0, # Este color sera rojo - no saludable\n",
    "    \"max\":0.4, # Lo que sea mayor sera verde - saludable\n",
    "    \"dimensions\":800,\n",
    "    \"palette\":palette,\n",
    "    \"region\":roi\n",
    "}"
   ]
  },
  {
   "cell_type": "code",
   "execution_count": 141,
   "metadata": {},
   "outputs": [
    {
     "name": "stdout",
     "output_type": "stream",
     "text": [
      "Imagen # 3 2021-03-07 Nubosidad: 11.510718 Porcentaje de vegetación: 6.867416 Porcentaje de agua: 79.650259\n"
     ]
    },
    {
     "data": {
      "text/html": [
       "<img src=\"https://earthengine.googleapis.com/v1alpha/projects/earthengine-legacy/thumbnails/7c82493a234480e293a7bdc92f96a554-64a2628064abdaabf52a323153fdab1a:getPixels\"/>"
      ],
      "text/plain": [
       "<IPython.core.display.Image object>"
      ]
     },
     "metadata": {},
     "output_type": "display_data"
    },
    {
     "name": "stdout",
     "output_type": "stream",
     "text": [
      "Imagen # 199 2022-11-12 Nubosidad: 5.587879 Porcentaje de vegetación: 7.288255 Porcentaje de agua: 85.560125\n"
     ]
    },
    {
     "data": {
      "text/html": [
       "<img src=\"https://earthengine.googleapis.com/v1alpha/projects/earthengine-legacy/thumbnails/847e2a5f86e44fc6479cf44c2fcc4983-c9289a4dcf931cdd94babbc16ecfe5e0:getPixels\"/>"
      ],
      "text/plain": [
       "<IPython.core.display.Image object>"
      ]
     },
     "metadata": {},
     "output_type": "display_data"
    }
   ],
   "source": [
    "# NDVI index por imagen\n",
    "display_img([3, 199], ndvi_parameters, ndvi_display = True, cloud_filter = True)"
   ]
  },
  {
   "cell_type": "code",
   "execution_count": 118,
   "metadata": {},
   "outputs": [
    {
     "data": {
      "text/html": [
       "<div>\n",
       "<style scoped>\n",
       "    .dataframe tbody tr th:only-of-type {\n",
       "        vertical-align: middle;\n",
       "    }\n",
       "\n",
       "    .dataframe tbody tr th {\n",
       "        vertical-align: top;\n",
       "    }\n",
       "\n",
       "    .dataframe thead th {\n",
       "        text-align: right;\n",
       "    }\n",
       "</style>\n",
       "<table border=\"1\" class=\"dataframe\">\n",
       "  <thead>\n",
       "    <tr style=\"text-align: right;\">\n",
       "      <th></th>\n",
       "      <th>reducer</th>\n",
       "      <th>date</th>\n",
       "      <th>ndvi</th>\n",
       "    </tr>\n",
       "  </thead>\n",
       "  <tbody>\n",
       "    <tr>\n",
       "      <th>0</th>\n",
       "      <td>mean</td>\n",
       "      <td>2021-03-02T16:27:40</td>\n",
       "      <td>0.595193</td>\n",
       "    </tr>\n",
       "    <tr>\n",
       "      <th>1</th>\n",
       "      <td>mean</td>\n",
       "      <td>2021-03-02T16:27:37</td>\n",
       "      <td>0.516662</td>\n",
       "    </tr>\n",
       "    <tr>\n",
       "      <th>2</th>\n",
       "      <td>mean</td>\n",
       "      <td>2021-03-07T16:27:39</td>\n",
       "      <td>0.686515</td>\n",
       "    </tr>\n",
       "    <tr>\n",
       "      <th>3</th>\n",
       "      <td>mean</td>\n",
       "      <td>2021-03-07T16:27:36</td>\n",
       "      <td>0.577148</td>\n",
       "    </tr>\n",
       "    <tr>\n",
       "      <th>4</th>\n",
       "      <td>mean</td>\n",
       "      <td>2021-03-12T16:27:40</td>\n",
       "      <td>0.387856</td>\n",
       "    </tr>\n",
       "    <tr>\n",
       "      <th>...</th>\n",
       "      <td>...</td>\n",
       "      <td>...</td>\n",
       "      <td>...</td>\n",
       "    </tr>\n",
       "    <tr>\n",
       "      <th>199</th>\n",
       "      <td>mean</td>\n",
       "      <td>2022-11-12T16:27:40</td>\n",
       "      <td>0.625611</td>\n",
       "    </tr>\n",
       "    <tr>\n",
       "      <th>200</th>\n",
       "      <td>mean</td>\n",
       "      <td>2022-11-17T16:27:37</td>\n",
       "      <td>0.365684</td>\n",
       "    </tr>\n",
       "    <tr>\n",
       "      <th>201</th>\n",
       "      <td>mean</td>\n",
       "      <td>2022-11-27T16:27:36</td>\n",
       "      <td>0.527954</td>\n",
       "    </tr>\n",
       "    <tr>\n",
       "      <th>202</th>\n",
       "      <td>mean</td>\n",
       "      <td>2022-12-02T16:27:40</td>\n",
       "      <td>0.649378</td>\n",
       "    </tr>\n",
       "    <tr>\n",
       "      <th>203</th>\n",
       "      <td>mean</td>\n",
       "      <td>2022-12-02T16:27:38</td>\n",
       "      <td>0.568240</td>\n",
       "    </tr>\n",
       "  </tbody>\n",
       "</table>\n",
       "<p>204 rows × 3 columns</p>\n",
       "</div>"
      ],
      "text/plain": [
       "    reducer                 date      ndvi\n",
       "0      mean  2021-03-02T16:27:40  0.595193\n",
       "1      mean  2021-03-02T16:27:37  0.516662\n",
       "2      mean  2021-03-07T16:27:39  0.686515\n",
       "3      mean  2021-03-07T16:27:36  0.577148\n",
       "4      mean  2021-03-12T16:27:40  0.387856\n",
       "..      ...                  ...       ...\n",
       "199    mean  2022-11-12T16:27:40  0.625611\n",
       "200    mean  2022-11-17T16:27:37  0.365684\n",
       "201    mean  2022-11-27T16:27:36  0.527954\n",
       "202    mean  2022-12-02T16:27:40  0.649378\n",
       "203    mean  2022-12-02T16:27:38  0.568240\n",
       "\n",
       "[204 rows x 3 columns]"
      ]
     },
     "execution_count": 118,
     "metadata": {},
     "output_type": "execute_result"
    }
   ],
   "source": [
    "# Se crea el conjunto de datos con información del índice\n",
    "Map = geemap.Map()\n",
    "\n",
    "fc = ee.FeatureCollection(poi.buffer(10000))\n",
    "\n",
    "tramo5_ndvi = sentinel.getTimeSeriesByRegion(reducer = [ee.Reducer.mean()],\n",
    "geometry = fc,\n",
    "bands = [\"ndvi\"],\n",
    "scale = 10)\n",
    "\n",
    "# Se convierte a Data Frame\n",
    "tramo5_ndvi_raw = geemap.ee_to_pandas(tramo5_ndvi)\n",
    "tramo5_ndvi_raw"
   ]
  },
  {
   "cell_type": "code",
   "execution_count": 123,
   "metadata": {},
   "outputs": [
    {
     "data": {
      "text/html": [
       "<div>\n",
       "<style scoped>\n",
       "    .dataframe tbody tr th:only-of-type {\n",
       "        vertical-align: middle;\n",
       "    }\n",
       "\n",
       "    .dataframe tbody tr th {\n",
       "        vertical-align: top;\n",
       "    }\n",
       "\n",
       "    .dataframe thead th {\n",
       "        text-align: right;\n",
       "    }\n",
       "</style>\n",
       "<table border=\"1\" class=\"dataframe\">\n",
       "  <thead>\n",
       "    <tr style=\"text-align: right;\">\n",
       "      <th></th>\n",
       "      <th>reducer</th>\n",
       "      <th>date</th>\n",
       "      <th>ndvi</th>\n",
       "    </tr>\n",
       "  </thead>\n",
       "  <tbody>\n",
       "    <tr>\n",
       "      <th>0</th>\n",
       "      <td>mean</td>\n",
       "      <td>2021-03-02 16:27:40</td>\n",
       "      <td>0.595193</td>\n",
       "    </tr>\n",
       "    <tr>\n",
       "      <th>2</th>\n",
       "      <td>mean</td>\n",
       "      <td>2021-03-07 16:27:39</td>\n",
       "      <td>0.686515</td>\n",
       "    </tr>\n",
       "    <tr>\n",
       "      <th>4</th>\n",
       "      <td>mean</td>\n",
       "      <td>2021-03-12 16:27:40</td>\n",
       "      <td>0.387856</td>\n",
       "    </tr>\n",
       "    <tr>\n",
       "      <th>6</th>\n",
       "      <td>mean</td>\n",
       "      <td>2021-03-17 16:27:39</td>\n",
       "      <td>0.584117</td>\n",
       "    </tr>\n",
       "    <tr>\n",
       "      <th>8</th>\n",
       "      <td>mean</td>\n",
       "      <td>2021-03-22 16:27:39</td>\n",
       "      <td>0.190777</td>\n",
       "    </tr>\n",
       "    <tr>\n",
       "      <th>...</th>\n",
       "      <td>...</td>\n",
       "      <td>...</td>\n",
       "      <td>...</td>\n",
       "    </tr>\n",
       "    <tr>\n",
       "      <th>194</th>\n",
       "      <td>mean</td>\n",
       "      <td>2022-10-28 16:27:43</td>\n",
       "      <td>0.326559</td>\n",
       "    </tr>\n",
       "    <tr>\n",
       "      <th>196</th>\n",
       "      <td>mean</td>\n",
       "      <td>2022-11-07 16:27:39</td>\n",
       "      <td>0.593395</td>\n",
       "    </tr>\n",
       "    <tr>\n",
       "      <th>198</th>\n",
       "      <td>mean</td>\n",
       "      <td>2022-11-12 16:27:43</td>\n",
       "      <td>0.709610</td>\n",
       "    </tr>\n",
       "    <tr>\n",
       "      <th>200</th>\n",
       "      <td>mean</td>\n",
       "      <td>2022-11-17 16:27:37</td>\n",
       "      <td>0.365684</td>\n",
       "    </tr>\n",
       "    <tr>\n",
       "      <th>202</th>\n",
       "      <td>mean</td>\n",
       "      <td>2022-12-02 16:27:40</td>\n",
       "      <td>0.649378</td>\n",
       "    </tr>\n",
       "  </tbody>\n",
       "</table>\n",
       "<p>102 rows × 3 columns</p>\n",
       "</div>"
      ],
      "text/plain": [
       "    reducer                date      ndvi\n",
       "0      mean 2021-03-02 16:27:40  0.595193\n",
       "2      mean 2021-03-07 16:27:39  0.686515\n",
       "4      mean 2021-03-12 16:27:40  0.387856\n",
       "6      mean 2021-03-17 16:27:39  0.584117\n",
       "8      mean 2021-03-22 16:27:39  0.190777\n",
       "..      ...                 ...       ...\n",
       "194    mean 2022-10-28 16:27:43  0.326559\n",
       "196    mean 2022-11-07 16:27:39  0.593395\n",
       "198    mean 2022-11-12 16:27:43  0.709610\n",
       "200    mean 2022-11-17 16:27:37  0.365684\n",
       "202    mean 2022-12-02 16:27:40  0.649378\n",
       "\n",
       "[102 rows x 3 columns]"
      ]
     },
     "execution_count": 123,
     "metadata": {},
     "output_type": "execute_result"
    }
   ],
   "source": [
    "# Se descartan las observaciones par\n",
    "tramo5_ndvi_clean = tramo5_ndvi_raw[~tramo5_ndvi_raw.index.isin([i for i in range(0, 204) if i % 2 != 0])]\n",
    "\n",
    "# Se convierte a fecha la columna date\n",
    "tramo5_ndvi_clean[\"date\"] = pd.to_datetime(tramo5_ndvi_clean[\"date\"])\n",
    "\n",
    "tramo5_ndvi_clean"
   ]
  },
  {
   "cell_type": "code",
   "execution_count": 133,
   "metadata": {},
   "outputs": [
    {
     "data": {
      "text/plain": [
       "Text(0.5, 1.0, 'Comportamiento del Índice Normalizado de Diferencia de Vegetación\\n durante la construcción del tramo 5 del Tren Maya')"
      ]
     },
     "execution_count": 133,
     "metadata": {},
     "output_type": "execute_result"
    },
    {
     "data": {
      "image/png": "[encoded data removed]",
      "text/plain": [
       "<Figure size 640x480 with 1 Axes>"
      ]
     },
     "metadata": {},
     "output_type": "display_data"
    }
   ],
   "source": [
    "# Gráfico para analizar el comportamiento del NDVI\n",
    "\n",
    "cmap = plt.cm.RdYlGn_r\n",
    "norm = matplotlib.colors.Normalize(vmin = 0, vmax = 1)\n",
    "\n",
    "fig, ax = plt.subplots()\n",
    "ax.scatter(tramo5_ndvi_clean.date, tramo5_ndvi_clean.ndvi, color = cmap(norm(tramo5_ndvi_clean.ndvi)))\n",
    "fig.autofmt_xdate()\n",
    "x = np.array(dates.date2num(tramo5_ndvi_clean.date))\n",
    "y = np.array(tramo5_ndvi_clean.ndvi)\n",
    "\n",
    "z = np.polyfit(x, y, 1)\n",
    "p = np.poly1d(z)\n",
    "\n",
    "plt.plot(x, p(x), color = \"r\")\n",
    "\n",
    "ax.set_ylabel(\"NDVI\")\n",
    "ax.set_title(\"Comportamiento del Índice Normalizado de Diferencia de Vegetación\\n durante la construcción del tramo 5 del Tren Maya\")"
   ]
  },
  {
   "cell_type": "markdown",
   "metadata": {},
   "source": [
    "## Conclusión\n",
    "\n",
    "La construcción del tramo 5 del Tren Maya parece tener un impacto negativo en la vegetación de la zona, puesto que el análisis exploratorio muestra una reducción en el porcentaje de vegetación y un incremento en el índice normalizado de diferencia de vegetación durante el período de su construcción. Esto abre la puerta para un análisis a profundidad de este y los demás tramos construídos hasta el momento. Las imágenes de percepción remota representan una oportunidad de monitoreo constante, además de ofrecer información del pasado."
   ]
  }
 ],
 "metadata": {
  "kernelspec": {
   "display_name": "Python 3.9.15 (conda)",
   "language": "python",
   "name": "python3"
  },
  "language_info": {
   "codemirror_mode": {
    "name": "ipython",
    "version": 3
   },
   "file_extension": ".py",
   "mimetype": "text/x-python",
   "name": "python",
   "nbconvert_exporter": "python",
   "pygments_lexer": "ipython3",
   "version": "3.9.15"
  },
  "orig_nbformat": 4,
  "vscode": {
   "interpreter": {
    "hash": "98ef3d57ef7dda2493bb0a5332ec68224a063deee5515ba3b6448d5b0a1b9f6a"
   }
  }
 },
 "nbformat": 4,
 "nbformat_minor": 2
}
